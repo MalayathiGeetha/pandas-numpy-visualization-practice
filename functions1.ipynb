{
 "cells": [
  {
   "cell_type": "code",
   "execution_count": 1,
   "id": "4983b351-39e0-4111-b838-178427f49a98",
   "metadata": {},
   "outputs": [
    {
     "name": "stdout",
     "output_type": "stream",
     "text": [
      "Hello world\n"
     ]
    }
   ],
   "source": [
    "def info():\n",
    "    print(\"Hello world\")\n",
    "info()"
   ]
  },
  {
   "cell_type": "code",
   "execution_count": 3,
   "id": "e811c549-40bb-438a-85b6-16dfaa667657",
   "metadata": {},
   "outputs": [
    {
     "name": "stdout",
     "output_type": "stream",
     "text": [
      "The sum of 10 and 20 is 30\n"
     ]
    }
   ],
   "source": [
    "def add(a,b):\n",
    "    print(\"The sum of {} and {} is {}\".format(a,b,a+b))\n",
    "add(10,20)"
   ]
  },
  {
   "cell_type": "code",
   "execution_count": 7,
   "id": "967441c6-747e-4b74-824c-3b6881a75e31",
   "metadata": {},
   "outputs": [
    {
     "name": "stdout",
     "output_type": "stream",
     "text": [
      "60\n"
     ]
    }
   ],
   "source": [
    "def sumN(*args): \n",
    "    sum = 0;\n",
    "    for num in args:\n",
    "        sum +=num\n",
    "    return sum\n",
    "print(sumN(10,20,30))\n"
   ]
  },
  {
   "cell_type": "code",
   "execution_count": 9,
   "id": "6fd14d95-d558-4090-9848-c8b67447a9c2",
   "metadata": {},
   "outputs": [
    {
     "name": "stdout",
     "output_type": "stream",
     "text": [
      "30\n"
     ]
    }
   ],
   "source": [
    "sum = lambda a,b:a+b\n",
    "print(sum(10,20))"
   ]
  },
  {
   "cell_type": "code",
   "execution_count": 12,
   "id": "518c0e9a-62d4-4519-9b7d-40b70363c578",
   "metadata": {},
   "outputs": [
    {
     "name": "stdout",
     "output_type": "stream",
     "text": [
      "55\n"
     ]
    }
   ],
   "source": [
    "def add(n):\n",
    "    if n == 0:\n",
    "        return 0;\n",
    "    return n + add(n-1)\n",
    "print(add(10))"
   ]
  },
  {
   "cell_type": "code",
   "execution_count": null,
   "id": "7aaef122-e6da-4ea6-b4bd-fb634c1f6282",
   "metadata": {},
   "outputs": [],
   "source": []
  }
 ],
 "metadata": {
  "kernelspec": {
   "display_name": "Python [conda env:base] *",
   "language": "python",
   "name": "conda-base-py"
  },
  "language_info": {
   "codemirror_mode": {
    "name": "ipython",
    "version": 3
   },
   "file_extension": ".py",
   "mimetype": "text/x-python",
   "name": "python",
   "nbconvert_exporter": "python",
   "pygments_lexer": "ipython3",
   "version": "3.12.7"
  }
 },
 "nbformat": 4,
 "nbformat_minor": 5
}
