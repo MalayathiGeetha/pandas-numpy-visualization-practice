{
 "cells": [
  {
   "cell_type": "code",
   "execution_count": 1,
   "id": "dd2eac30-8322-4de0-85bc-26bca5dc295a",
   "metadata": {},
   "outputs": [
    {
     "name": "stdout",
     "output_type": "stream",
     "text": [
      "<re.Match object; span=(15, 20), match='level'>\n",
      "Found\n"
     ]
    }
   ],
   "source": [
    "import re\n",
    "string = \"Python is high level language\"\n",
    "x = re.search(\"level\",string)\n",
    "print(x)\n",
    "if(x):\n",
    "    print(\"Found\")\n",
    "else:\n",
    "    print(\"Not found\")"
   ]
  },
  {
   "cell_type": "code",
   "execution_count": 3,
   "id": "71e246b6-014c-447e-b2e1-689bee5ad5ba",
   "metadata": {},
   "outputs": [
    {
     "name": "stdout",
     "output_type": "stream",
     "text": [
      "10\n",
      "14\n"
     ]
    }
   ],
   "source": [
    "string = \"Python is high level language\"\n",
    "x = re.search(\"high\",string)\n",
    "print(x.start())\n",
    "print(x.end())"
   ]
  },
  {
   "cell_type": "code",
   "execution_count": 9,
   "id": "c81afb8c-602d-47b9-b15a-08604a9a700e",
   "metadata": {},
   "outputs": [
    {
     "name": "stdout",
     "output_type": "stream",
     "text": [
      "<re.Match object; span=(0, 6), match='Python'>\n",
      "Found\n"
     ]
    }
   ],
   "source": [
    "import re\n",
    "string = \"Python is high level language\"\n",
    "x = re.match('Python',string)\n",
    "print(x)\n",
    "if x:\n",
    "    print(\"Found\")\n",
    "else:\n",
    "    print(\"Not match\")"
   ]
  },
  {
   "cell_type": "code",
   "execution_count": 11,
   "id": "34ad7808-d14d-4bd9-84ac-daa715444780",
   "metadata": {},
   "outputs": [
    {
     "name": "stdout",
     "output_type": "stream",
     "text": [
      "['i', 'i']\n"
     ]
    }
   ],
   "source": [
    "import re\n",
    "string = \"Python is high level language\"\n",
    "x = re.findall('i',string)\n",
    "print(x)"
   ]
  },
  {
   "cell_type": "code",
   "execution_count": 13,
   "id": "875e2452-c51f-4e5e-880a-80b5130a1be5",
   "metadata": {},
   "outputs": [
    {
     "name": "stdout",
     "output_type": "stream",
     "text": [
      "Not match\n",
      "Found\n"
     ]
    }
   ],
   "source": [
    "import re\n",
    "string = \"Python is a interpreted language\"\n",
    "string1 = \"Python\"\n",
    "x = re.fullmatch('Python',string)\n",
    "y = re.fullmatch('Python',string1)\n",
    "if x:\n",
    "    print(\"Found\")\n",
    "else:\n",
    "    print(\"Not match\")\n",
    "if y:\n",
    "    print(\"Found\")\n",
    "else:\n",
    "    print(\"Not match\")"
   ]
  },
  {
   "cell_type": "code",
   "execution_count": 17,
   "id": "d7fb4e0c-0440-4c02-b8b3-f71e9b8c90aa",
   "metadata": {},
   "outputs": [
    {
     "name": "stdout",
     "output_type": "stream",
     "text": [
      "Yes, Starts with python\n"
     ]
    }
   ],
   "source": [
    "import re\n",
    "string = \"Python is a interpreted language\"\n",
    "x = re.findall(\"^Python\",string)\n",
    "if x:\n",
    "    print(\"Yes, Starts with python\")\n",
    "else:\n",
    "    print(\"String not start with python\")"
   ]
  },
  {
   "cell_type": "code",
   "execution_count": 19,
   "id": "559a221e-723d-4394-b3b6-c3dfc1860855",
   "metadata": {},
   "outputs": [
    {
     "name": "stdout",
     "output_type": "stream",
     "text": [
      "Yes, String ends with 'e'\n"
     ]
    }
   ],
   "source": [
    "import re\n",
    "string = \"Python is a interpreted language\"\n",
    "x = re.findall(\"e$\",string)\n",
    "if x:\n",
    "    print(\"Yes, String ends with 'e'\")\n",
    "else:\n",
    "    print(\"String not ends with 'e'\")"
   ]
  },
  {
   "cell_type": "code",
   "execution_count": 21,
   "id": "1e6e469b-3a01-44da-a4c5-a7640f92f3b7",
   "metadata": {},
   "outputs": [
    {
     "name": "stdout",
     "output_type": "stream",
     "text": [
      "<re.Match object; span=(22, 25), match='ang'>\n"
     ]
    }
   ],
   "source": [
    "string = \"Python is high level language\"\n",
    "x = re.search(\"a.g\",string)\n",
    "print(x)"
   ]
  },
  {
   "cell_type": "code",
   "execution_count": 25,
   "id": "89e478cd-a9f8-41b5-a8ba-e3fbe4a9729d",
   "metadata": {},
   "outputs": [
    {
     "name": "stdout",
     "output_type": "stream",
     "text": [
      "['P']\n",
      "['y', 't', 'h', 'o', 'n']\n"
     ]
    }
   ],
   "source": [
    "import re\n",
    "string = \"Python\"\n",
    "x = re.findall(\"[A-Z]\",string)\n",
    "print(x)\n",
    "y = re.findall(\"[^A-Z]\",string)\n",
    "print(y)"
   ]
  },
  {
   "cell_type": "code",
   "execution_count": 29,
   "id": "1b249513-6f88-4f2d-8319-057ecac96b53",
   "metadata": {},
   "outputs": [
    {
     "name": "stdout",
     "output_type": "stream",
     "text": [
      "['P', 'y', 't', 'h', 'o', 'n', 'L', 'a', 'n', 'g', 'u', 'a', 'g', 'e']\n"
     ]
    }
   ],
   "source": [
    "string = \"Python Language.\"\n",
    "x = re.findall(\"[A-z]\",string)\n",
    "print(x)"
   ]
  },
  {
   "cell_type": "code",
   "execution_count": null,
   "id": "755eca3f-5242-42c1-9f2b-e12ad031f4e1",
   "metadata": {},
   "outputs": [],
   "source": []
  }
 ],
 "metadata": {
  "kernelspec": {
   "display_name": "Python [conda env:base] *",
   "language": "python",
   "name": "conda-base-py"
  },
  "language_info": {
   "codemirror_mode": {
    "name": "ipython",
    "version": 3
   },
   "file_extension": ".py",
   "mimetype": "text/x-python",
   "name": "python",
   "nbconvert_exporter": "python",
   "pygments_lexer": "ipython3",
   "version": "3.12.7"
  }
 },
 "nbformat": 4,
 "nbformat_minor": 5
}
