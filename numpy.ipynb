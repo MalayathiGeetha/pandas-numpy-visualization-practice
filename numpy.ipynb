{
 "cells": [
  {
   "cell_type": "code",
   "execution_count": 5,
   "id": "d308002e-afc0-48ee-9b59-d47f12e57ba2",
   "metadata": {},
   "outputs": [
    {
     "name": "stdout",
     "output_type": "stream",
     "text": [
      "[1 2 3 4]\n",
      "1\n",
      "(4,)\n",
      "4\n",
      "8\n",
      "int64\n"
     ]
    }
   ],
   "source": [
    "import numpy as np\n",
    "arr=np.array([1,2,3,4])\n",
    "print(arr)\n",
    "print(arr.ndim)\n",
    "print(arr.shape)\n",
    "print(arr.size)\n",
    "print(arr.itemsize)\n",
    "print(arr.dtype)"
   ]
  },
  {
   "cell_type": "code",
   "execution_count": 7,
   "id": "4fd72fb5-910d-43b3-ba69-6f236e97c3f8",
   "metadata": {},
   "outputs": [
    {
     "name": "stdout",
     "output_type": "stream",
     "text": [
      "[10 12 14 16 18]\n"
     ]
    }
   ],
   "source": [
    "arr2=np.arange(10,20,2)\n",
    "print(arr2)"
   ]
  },
  {
   "cell_type": "code",
   "execution_count": 13,
   "id": "c25e592f-35b7-4ea4-8c9b-ce87d31141f4",
   "metadata": {},
   "outputs": [
    {
     "name": "stdout",
     "output_type": "stream",
     "text": [
      "[0.         0.33333333 0.66666667 1.         1.33333333 1.66666667\n",
      " 2.         2.33333333 2.66666667 3.        ]\n",
      "10\n"
     ]
    }
   ],
   "source": [
    "arr6 = np.linspace(0,3,10)\n",
    "print(arr6)\n",
    "print(arr6.size)"
   ]
  },
  {
   "cell_type": "code",
   "execution_count": 17,
   "id": "e008f458-40a2-4554-9dda-49b1a312f988",
   "metadata": {},
   "outputs": [
    {
     "name": "stdout",
     "output_type": "stream",
     "text": [
      "[1.+0.j 2.+0.j 3.+0.j 4.+0.j 5.+0.j]\n"
     ]
    }
   ],
   "source": [
    "arr1 = np.array([1,2,3,4,5],dtype=complex)\n",
    "print(arr1)"
   ]
  },
  {
   "cell_type": "code",
   "execution_count": 21,
   "id": "6728185b-9c07-4983-abd8-ebb84680d31e",
   "metadata": {},
   "outputs": [
    {
     "name": "stdout",
     "output_type": "stream",
     "text": [
      "[0. 0. 0. 0. 0. 0. 0. 0. 0. 0.]\n"
     ]
    }
   ],
   "source": [
    "arr3=np.zeros(10)\n",
    "print(arr3)"
   ]
  },
  {
   "cell_type": "code",
   "execution_count": 1,
   "id": "21456a89-dad9-4177-9d8f-57dcdd4727f0",
   "metadata": {},
   "outputs": [
    {
     "ename": "NameError",
     "evalue": "name 'np' is not defined",
     "output_type": "error",
     "traceback": [
      "\u001b[0;31m---------------------------------------------------------------------------\u001b[0m",
      "\u001b[0;31mNameError\u001b[0m                                 Traceback (most recent call last)",
      "Cell \u001b[0;32mIn[1], line 1\u001b[0m\n\u001b[0;32m----> 1\u001b[0m arr1 \u001b[38;5;241m=\u001b[39mnp\u001b[38;5;241m.\u001b[39marray([\u001b[38;5;241m1\u001b[39m,\u001b[38;5;241m2\u001b[39m,\u001b[38;5;241m3\u001b[39m,\u001b[38;5;241m4\u001b[39m,\u001b[38;5;241m5\u001b[39m,\u001b[38;5;241m6\u001b[39m])\n\u001b[1;32m      2\u001b[0m \u001b[38;5;28mprint\u001b[39m(arr1)\n\u001b[1;32m      3\u001b[0m a \u001b[38;5;241m=\u001b[39m np\u001b[38;5;241m.\u001b[39marray(arr1)\n",
      "\u001b[0;31mNameError\u001b[0m: name 'np' is not defined"
     ]
    }
   ],
   "source": [
    "arr1 =np.array([1,2,3,4,5,6])\n",
    "print(arr1)\n",
    "a = np.array(arr1)\n",
    "arr1[0]=10\n",
    "print(a)\n",
    "arr1 =np.asarray([1,2,3,4,5,6])\n",
    "print(arr1)\n",
    "a = np.asarray(arr1)\n",
    "arr1[0]=10\n",
    "print(a)"
   ]
  },
  {
   "cell_type": "code",
   "execution_count": 3,
   "id": "af47fc35-bccc-4a99-8a63-0302ee9cd45e",
   "metadata": {},
   "outputs": [
    {
     "ename": "NameError",
     "evalue": "name 'np' is not defined",
     "output_type": "error",
     "traceback": [
      "\u001b[0;31m---------------------------------------------------------------------------\u001b[0m",
      "\u001b[0;31mNameError\u001b[0m                                 Traceback (most recent call last)",
      "Cell \u001b[0;32mIn[3], line 1\u001b[0m\n\u001b[0;32m----> 1\u001b[0m arr\u001b[38;5;241m=\u001b[39mnp\u001b[38;5;241m.\u001b[39marray([[\u001b[38;5;241m1\u001b[39m,\u001b[38;5;241m2\u001b[39m,\u001b[38;5;241m3\u001b[39m],[\u001b[38;5;241m4\u001b[39m,\u001b[38;5;241m5\u001b[39m,\u001b[38;5;241m6\u001b[39m]])\n\u001b[1;32m      2\u001b[0m \u001b[38;5;28mprint\u001b[39m(arr)\n",
      "\u001b[0;31mNameError\u001b[0m: name 'np' is not defined"
     ]
    }
   ],
   "source": [
    "arr=np.array([[1,2,3],[4,5,6]])\n",
    "print(arr)"
   ]
  },
  {
   "cell_type": "code",
   "execution_count": 37,
   "id": "29429d9a-42bd-4d40-a7af-8a8e67eb4665",
   "metadata": {},
   "outputs": [
    {
     "name": "stdout",
     "output_type": "stream",
     "text": [
      "1 2 3 \n",
      "4 5 6 \n",
      "1 2 3 4 5 6 "
     ]
    }
   ],
   "source": [
    "arr_2d=np.array([[1,2,3],[4,5,6]])\n",
    "for i in range(arr_2d.shape[0]):\n",
    "    for j in range(arr_2d.shape[1]):\n",
    "        print(arr_2d[i][j],end=' ')\n",
    "    print()\n",
    "\n",
    "\n",
    "for i in np.nditer(arr_2d):\n",
    "    print(i,end=\" \")"
   ]
  },
  {
   "cell_type": "code",
   "execution_count": 41,
   "id": "917bdb5c-f1ee-4b95-9153-77104b026282",
   "metadata": {},
   "outputs": [
    {
     "name": "stdout",
     "output_type": "stream",
     "text": [
      "[1 2 3]\n",
      "[[1 2 3]\n",
      " [4 5 6]]\n"
     ]
    }
   ],
   "source": [
    "#accesing rows\n",
    "print(arr_2d[0],)\n",
    "print(arr_2d[[0,1],])"
   ]
  },
  {
   "cell_type": "code",
   "execution_count": 53,
   "id": "7531d705-55a2-485e-9af3-8537bea391c3",
   "metadata": {},
   "outputs": [
    {
     "name": "stdout",
     "output_type": "stream",
     "text": [
      "[1 2 3 4 5 6]\n",
      "[[[1 2 3]\n",
      "  [4 5 6]]]\n"
     ]
    }
   ],
   "source": [
    "arr=np.array([1,2,3,4,5,6])\n",
    "print(arr)\n",
    "arr1=arr.reshape(1,2,3)\n",
    "print(arr1)"
   ]
  },
  {
   "cell_type": "code",
   "execution_count": 60,
   "id": "5bf90536-2945-4c35-9b76-b28f75b2ff9e",
   "metadata": {},
   "outputs": [
    {
     "name": "stdout",
     "output_type": "stream",
     "text": [
      "[[7 9 7 6]\n",
      " [6 8 9 8]\n",
      " [9 9 6 6]\n",
      " [6 9 5 5]\n",
      " [5 8 8 6]]\n"
     ]
    }
   ],
   "source": [
    "arr=np.random.randint(5,10,(5,4))\n",
    "print(arr)"
   ]
  },
  {
   "cell_type": "code",
   "execution_count": 66,
   "id": "6010d516-6933-45b2-88c1-116645fa5d76",
   "metadata": {},
   "outputs": [
    {
     "name": "stdout",
     "output_type": "stream",
     "text": [
      "[0.70161324 0.75801013 0.69071303 0.60868158 0.09845719]\n",
      "[[ 6  5  7  6]\n",
      " [ 8  7  6  5]\n",
      " [ 7  7  8  7]\n",
      " [ 7  8  8  7]\n",
      " [ 8  6 10 10]]\n"
     ]
    },
    {
     "name": "stderr",
     "output_type": "stream",
     "text": [
      "/tmp/ipykernel_35345/2438711969.py:3: DeprecationWarning: This function is deprecated. Please call randint(5, 10 + 1) instead\n",
      "  arr=np.random.random_integers(5,10,(5,4))\n"
     ]
    }
   ],
   "source": [
    "arr=np.random.rand(5)\n",
    "print(arr)\n",
    "arr=np.random.random_integers(5,10,(5,4))\n",
    "print(arr)"
   ]
  },
  {
   "cell_type": "code",
   "execution_count": 10,
   "id": "b703e36b-c002-4458-bf74-0d3277e9a07f",
   "metadata": {},
   "outputs": [
    {
     "name": "stdout",
     "output_type": "stream",
     "text": [
      "[[98.77221563 98.29804966  6.57049526]\n",
      " [77.65937234 11.21716976 37.21552384]\n",
      " [ 8.88621378 67.78090223 57.6721059 ]]\n"
     ]
    }
   ],
   "source": [
    "import numpy as np\n",
    "arr=np.random.random((3,3))*100\n",
    "print(arr)"
   ]
  },
  {
   "cell_type": "code",
   "execution_count": 24,
   "id": "2447ef71-462c-4cb9-b986-91d565c8345b",
   "metadata": {},
   "outputs": [
    {
     "name": "stdout",
     "output_type": "stream",
     "text": [
      "[ 0  1  2 30  3  4  5  6  7  8  9 10 11 12 13 14 15 16 17 18 19]\n",
      "[  0   1   2  30   3   4 100 200 300   5   6   7   8   9  10  11  12  13\n",
      "  14  15  16  17  18  19]\n",
      "[  0   1   2  30   3   4 300   5   6   7   8   9  10  11  12  13  14  15\n",
      "  16  17  18  19]\n"
     ]
    }
   ],
   "source": [
    "arr=np.arange(20)\n",
    "arr=np.insert(arr,3,30)\n",
    "print(arr)\n",
    "arr=np.insert(arr,6,[100,200,300])\n",
    "print(arr)\n",
    "arr=np.delete(arr,[6,7])\n",
    "print(arr)"
   ]
  },
  {
   "cell_type": "code",
   "execution_count": 30,
   "id": "1254f8c4-8fc2-4140-a603-a629a3b5c50b",
   "metadata": {},
   "outputs": [
    {
     "name": "stdout",
     "output_type": "stream",
     "text": [
      "[[10 11 12 13 14]\n",
      " [15 16 17 18 19]]\n",
      "[[10 11]\n",
      " [12 13]\n",
      " [14 15]\n",
      " [16 17]\n",
      " [18 19]]\n",
      "[[ 860  920]\n",
      " [1210 1295]]\n",
      "[[ 860  920]\n",
      " [1210 1295]]\n",
      "False\n"
     ]
    }
   ],
   "source": [
    "arr1 = np.arange(10,20).reshape(2,5)\n",
    "print(arr1)\n",
    "arr2 = np.arange(10,20).reshape(5,2)\n",
    "print(arr2)\n",
    "print(arr1@arr2)\n",
    "print(arr1.dot(arr2))\n",
    "print(np.array_equal(arr1,arr2))"
   ]
  },
  {
   "cell_type": "code",
   "execution_count": 36,
   "id": "3d31f074-b0e9-47ba-8265-02a46ce4e73b",
   "metadata": {},
   "outputs": [
    {
     "name": "stdout",
     "output_type": "stream",
     "text": [
      "[[  2  10 532]\n",
      " [  3  23  32]]\n"
     ]
    }
   ],
   "source": [
    "arr1 = np.array([[10,2,532],[32,3,23]])\n",
    "print(np.sort(arr1,axis=1))"
   ]
  },
  {
   "cell_type": "code",
   "execution_count": 44,
   "id": "de731c3b-e316-43f9-be4b-645acce026d2",
   "metadata": {},
   "outputs": [
    {
     "name": "stdout",
     "output_type": "stream",
     "text": [
      "<re.Match object; span=(18, 20), match='20'>\n",
      "<re.Match object; span=(21, 23), match='19'>\n",
      "<re.Match object; span=(23, 25), match='70'>\n"
     ]
    }
   ],
   "source": [
    "import re\n",
    "str=\"my name is geetha 20,1970 i was born\"\n",
    "index=re.finditer(r\"\\d{2}\",str)\n",
    "for i in index:\n",
    "    print(i)"
   ]
  },
  {
   "cell_type": "code",
   "execution_count": 62,
   "id": "f2f1f7d6-e784-4005-b195-20abd5f29b45",
   "metadata": {},
   "outputs": [
    {
     "name": "stdout",
     "output_type": "stream",
     "text": [
      "Valid number\n"
     ]
    }
   ],
   "source": [
    "def isValid(no):\n",
    "    pattern=re.compile(\"(0|91)?[7-9][0-9]{9}\")\n",
    "    return pattern.match(no)\n",
    "no=\"94956678976\"\n",
    "if(isValid(no)):\n",
    "    print(\"Valid number\")\n",
    "else:\n",
    "    print(\"Invalid number\")"
   ]
  },
  {
   "cell_type": "code",
   "execution_count": 64,
   "id": "d41732bf-64bf-4a85-9dc2-95a0f68d3528",
   "metadata": {},
   "outputs": [
    {
     "name": "stdout",
     "output_type": "stream",
     "text": [
      "['geetha@gmail.com']\n"
     ]
    }
   ],
   "source": [
    "import re\n",
    "txt=\"name is geetha mail is geetha@gmail.com\"\n",
    "str=re.findall(r\"[\\w._]+@[\\w._]+\",txt)\n",
    "print(str)"
   ]
  },
  {
   "cell_type": "code",
   "execution_count": 77,
   "id": "e6f928fa-2089-44f1-bc99-12e316964309",
   "metadata": {},
   "outputs": [
    {
     "name": "stdout",
     "output_type": "stream",
     "text": [
      "[[1 2]\n",
      " [4 5]]\n",
      "[[1 2]\n",
      " [4 5]]\n",
      "[[1]\n",
      " [4]]\n"
     ]
    }
   ],
   "source": [
    "arr_2d=np.array([[1,2,3],[4,5,6]])\n",
    "res=arr_2d[0:2,0:2]\n",
    "print(res)\n",
    "res=arr_2d[0:3,0:2]\n",
    "print(res)\n",
    "res=arr_2d[0:2,0:1]\n",
    "print(res)"
   ]
  },
  {
   "cell_type": "code",
   "execution_count": 93,
   "id": "ed716173-f805-4f89-b326-04387cfe6cfe",
   "metadata": {},
   "outputs": [
    {
     "name": "stdout",
     "output_type": "stream",
     "text": [
      "[[1. 0. 0. 0. 0.]\n",
      " [0. 1. 0. 0. 0.]\n",
      " [0. 0. 1. 0. 0.]\n",
      " [0. 0. 0. 1. 0.]\n",
      " [0. 0. 0. 0. 1.]]\n",
      "[[1 2 3 4 5 6]\n",
      " [1 2 3 4 5 6]\n",
      " [1 2 3 4 5 6]]\n"
     ]
    }
   ],
   "source": [
    "arr=np.array([[1,2,3,4,5,6]])\n",
    "print(np.identity(5))\n",
    "\n",
    "r1=np.repeat(arr,3,axis=0)\n",
    "print(r1)"
   ]
  },
  {
   "cell_type": "code",
   "execution_count": 95,
   "id": "00f015ad-3eef-4801-ae5e-e785eec5cf89",
   "metadata": {},
   "outputs": [
    {
     "name": "stdout",
     "output_type": "stream",
     "text": [
      "[[0. 0. 0. 0. 0.]\n",
      " [0. 0. 0. 0. 0.]\n",
      " [0. 0. 0. 0. 0.]\n",
      " [0. 0. 0. 0. 0.]\n",
      " [0. 0. 0. 0. 0.]]\n",
      "[[1. 1. 1.]\n",
      " [1. 9. 1.]\n",
      " [1. 1. 1.]]\n",
      "[[0. 0. 0. 0. 0.]\n",
      " [0. 1. 1. 1. 0.]\n",
      " [0. 1. 9. 1. 0.]\n",
      " [0. 1. 1. 1. 0.]\n",
      " [0. 0. 0. 0. 0.]]\n"
     ]
    }
   ],
   "source": [
    "opt=np.zeros((5,5))\n",
    "z=np.ones((3,3))\n",
    "z[1,1]=9\n",
    "print(opt)\n",
    "print(z)\n",
    "\n",
    "opt[1:4,1:4]=z\n",
    "print(opt)"
   ]
  },
  {
   "cell_type": "code",
   "execution_count": 115,
   "id": "f870e295-f7cd-4dbb-816a-7c1a3ab46b28",
   "metadata": {},
   "outputs": [
    {
     "name": "stdout",
     "output_type": "stream",
     "text": [
      "[[ 1  2  3  4  5]\n",
      " [ 6  7  8  9 10]\n",
      " [11 12 13 14 15]\n",
      " [16 17 18 19 20]\n",
      " [21 22 23 24 25]\n",
      " [26 27 28 29 30]]\n",
      "[ 2  8 14 20]\n"
     ]
    }
   ],
   "source": [
    "arr=np.arange(1,31).reshape(6,5)\n",
    "\n",
    "print(arr)\n",
    "print(arr[[0,1,2,3],[1,2,3,4]])"
   ]
  },
  {
   "cell_type": "code",
   "execution_count": 119,
   "id": "078e4160-ff4e-4735-a900-2751f6eac04b",
   "metadata": {},
   "outputs": [
    {
     "name": "stdout",
     "output_type": "stream",
     "text": [
      "(array([0., 0., 0., 0., 0., 1., 0., 0., 0., 0.]), array([298.5, 298.6, 298.7, 298.8, 298.9, 299. , 299.1, 299.2, 299.3,\n",
      "       299.4, 299.5]), <BarContainer object of 10 artists>)\n",
      "(array([0., 0., 0., 0., 0., 0., 0., 0., 0., 0., 0., 0., 0., 0., 0., 0., 0.,\n",
      "       0., 0., 0., 0., 0., 0., 0., 0., 0., 0., 0., 0., 0., 0., 0., 0., 0.,\n",
      "       0., 0., 0., 0., 0., 0., 0., 0., 0., 0., 0., 0., 0., 0., 0., 0., 1.,\n",
      "       0., 0., 0., 0., 0., 0., 0., 0., 0., 0., 0., 0., 0., 0., 0., 0., 0.,\n",
      "       0., 0., 0., 0., 0., 0., 0., 0., 0., 0., 0., 0., 0., 0., 0., 0., 0.,\n",
      "       0., 0., 0., 0., 0., 0., 0., 0., 0., 0., 0., 0., 0., 0., 0.]), array([298.5 , 298.51, 298.52, 298.53, 298.54, 298.55, 298.56, 298.57,\n",
      "       298.58, 298.59, 298.6 , 298.61, 298.62, 298.63, 298.64, 298.65,\n",
      "       298.66, 298.67, 298.68, 298.69, 298.7 , 298.71, 298.72, 298.73,\n",
      "       298.74, 298.75, 298.76, 298.77, 298.78, 298.79, 298.8 , 298.81,\n",
      "       298.82, 298.83, 298.84, 298.85, 298.86, 298.87, 298.88, 298.89,\n",
      "       298.9 , 298.91, 298.92, 298.93, 298.94, 298.95, 298.96, 298.97,\n",
      "       298.98, 298.99, 299.  , 299.01, 299.02, 299.03, 299.04, 299.05,\n",
      "       299.06, 299.07, 299.08, 299.09, 299.1 , 299.11, 299.12, 299.13,\n",
      "       299.14, 299.15, 299.16, 299.17, 299.18, 299.19, 299.2 , 299.21,\n",
      "       299.22, 299.23, 299.24, 299.25, 299.26, 299.27, 299.28, 299.29,\n",
      "       299.3 , 299.31, 299.32, 299.33, 299.34, 299.35, 299.36, 299.37,\n",
      "       299.38, 299.39, 299.4 , 299.41, 299.42, 299.43, 299.44, 299.45,\n",
      "       299.46, 299.47, 299.48, 299.49, 299.5 ]), <BarContainer object of 100 artists>)\n"
     ]
    },
    {
     "data": {
      "image/png": "[encoded data removed]",
      "text/plain": [
       "<Figure size 640x480 with 1 Axes>"
      ]
     },
     "metadata": {},
     "output_type": "display_data"
    }
   ],
   "source": [
    "import numpy as np\n",
    "a=np.random.randint(1000)\n",
    "import matplotlib.pyplot as plt\n",
    "print(plt.hist(a))\n",
    "print(plt.hist(a,bins=100))"
   ]
  },
  {
   "cell_type": "code",
   "execution_count": null,
   "id": "ab654771-63f6-4875-8733-88c26316ce0f",
   "metadata": {},
   "outputs": [],
   "source": []
  }
 ],
 "metadata": {
  "kernelspec": {
   "display_name": "Python [conda env:base] *",
   "language": "python",
   "name": "conda-base-py"
  },
  "language_info": {
   "codemirror_mode": {
    "name": "ipython",
    "version": 3
   },
   "file_extension": ".py",
   "mimetype": "text/x-python",
   "name": "python",
   "nbconvert_exporter": "python",
   "pygments_lexer": "ipython3",
   "version": "3.12.7"
  }
 },
 "nbformat": 4,
 "nbformat_minor": 5
}
