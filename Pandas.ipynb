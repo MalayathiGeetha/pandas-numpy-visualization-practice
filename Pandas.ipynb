{
 "cells": [
  {
   "cell_type": "code",
   "execution_count": 1,
   "id": "347f1b67-d039-464e-93b8-8ac86b91c0b3",
   "metadata": {},
   "outputs": [
    {
     "name": "stdout",
     "output_type": "stream",
     "text": [
      "[1 2 3 4]\n",
      "0    1\n",
      "1    2\n",
      "2    3\n",
      "3    4\n",
      "dtype: int64\n",
      "<class 'pandas.core.series.Series'>\n"
     ]
    }
   ],
   "source": [
    "import pandas as pd\n",
    "import numpy as np\n",
    "\n",
    "arr=np.array([1,2,3,4])\n",
    "print(arr)\n",
    "\n",
    "s=pd.Series(arr)\n",
    "print(s)\n",
    "print(type(s))"
   ]
  },
  {
   "cell_type": "code",
   "execution_count": 5,
   "id": "65fdafad-5331-4b8d-beca-8bf757df6fad",
   "metadata": {},
   "outputs": [
    {
     "name": "stdout",
     "output_type": "stream",
     "text": [
      "0    1\n",
      "1    2\n",
      "2    3\n",
      "3    4\n",
      "dtype: int64\n",
      "0    a\n",
      "1    b\n",
      "2    c\n",
      "dtype: object\n",
      "<class 'pandas.core.series.Series'>\n"
     ]
    }
   ],
   "source": [
    "print(s[0:5])\n",
    "a=pd.Series(['a','b','c'])\n",
    "print(a)\n",
    "print(type(a))"
   ]
  },
  {
   "cell_type": "code",
   "execution_count": 7,
   "id": "d0c549cf-37fe-4a56-916b-b8516a9348fd",
   "metadata": {},
   "outputs": [
    {
     "name": "stdout",
     "output_type": "stream",
     "text": [
      "[[1 2 3]\n",
      " [4 5 6]]\n",
      "   0  1  2\n",
      "0  1  2  3\n",
      "1  4  5  6\n",
      "    Temp      Name  Random\n",
      "0     24     Ankit      11\n",
      "1     25     Abhay      10\n",
      "2     31  Geekshub      12\n",
      "3     87     Abhay      13\n",
      "4     66  Geekshub      13\n",
      "5     30    Teclov      11\n",
      "6     20    Teclov      12\n",
      "7     57    Teclov      14\n",
      "8     69  Geekshub      13\n",
      "9     80    Teclov      14\n",
      "10    90     Abhay      13\n",
      "11    79    Teclov      10\n",
      "12    67    Teclov      10\n",
      "13    88    Teclov      12\n",
      "14    73  Geekshub      14\n",
      "15    47     Abhay      12\n",
      "16    66     Ankit      10\n",
      "17    41    Teclov      11\n",
      "18    24  Geekshub      12\n",
      "19    51     Abhay      10\n"
     ]
    }
   ],
   "source": [
    "arr=np.array([[1,2,3],[4,5,6]])\n",
    "print(arr)\n",
    "df=pd.DataFrame(arr)\n",
    "print(df)\n",
    "\n",
    "temp=np.random.randint(low=20,high=100,size=[20,])\n",
    "name=np.random.choice(['Abhay','Teclov','Geekshub','Ankit'],20)\n",
    "random=np.random.choice([10,11,13,12,14],20)\n",
    "df=pd.DataFrame({\"Temp\":temp,\"Name\":name,\"Random\":random})\n",
    "print(df)"
   ]
  },
  {
   "cell_type": "code",
   "execution_count": 9,
   "id": "521aa9f6-4d67-4c42-8c68-25a035cb368c",
   "metadata": {},
   "outputs": [
    {
     "name": "stdout",
     "output_type": "stream",
     "text": [
      "<class 'pandas.core.frame.DataFrame'>\n",
      "   Temp      Name  Random\n",
      "0    24     Ankit      11\n",
      "1    25     Abhay      10\n",
      "2    31  Geekshub      12\n",
      "3    87     Abhay      13\n",
      "4    66  Geekshub      13\n",
      "    Temp      Name  Random\n",
      "15    47     Abhay      12\n",
      "16    66     Ankit      10\n",
      "17    41    Teclov      11\n",
      "18    24  Geekshub      12\n",
      "19    51     Abhay      10\n"
     ]
    }
   ],
   "source": [
    "print(type(df))\n",
    "print(df.head())\n",
    "print(df.tail())"
   ]
  },
  {
   "cell_type": "code",
   "execution_count": 21,
   "id": "901ee251-41c0-4d5d-89d8-040ee30ff2e2",
   "metadata": {},
   "outputs": [
    {
     "name": "stdout",
     "output_type": "stream",
     "text": [
      "(20, 3)\n",
      "Index(['Temp', 'Name', 'Random'], dtype='object')\n",
      "count    20.000000\n",
      "mean     55.750000\n",
      "std      24.019455\n",
      "min      20.000000\n",
      "25%      30.750000\n",
      "50%      61.500000\n",
      "75%      74.500000\n",
      "max      90.000000\n",
      "Name: Temp, dtype: float64\n",
      "<class 'pandas.core.frame.DataFrame'>\n",
      "RangeIndex: 20 entries, 0 to 19\n",
      "Data columns (total 3 columns):\n",
      " #   Column  Non-Null Count  Dtype \n",
      "---  ------  --------------  ----- \n",
      " 0   Temp    20 non-null     int64 \n",
      " 1   Name    20 non-null     object\n",
      " 2   Random  20 non-null     int64 \n",
      "dtypes: int64(2), object(1)\n",
      "memory usage: 612.0+ bytes\n",
      "None\n",
      "[[24 'Ankit' 11]\n",
      " [25 'Abhay' 10]\n",
      " [31 'Geekshub' 12]\n",
      " [87 'Abhay' 13]\n",
      " [66 'Geekshub' 13]\n",
      " [30 'Teclov' 11]\n",
      " [20 'Teclov' 12]\n",
      " [57 'Teclov' 14]\n",
      " [69 'Geekshub' 13]\n",
      " [80 'Teclov' 14]\n",
      " [90 'Abhay' 13]\n",
      " [79 'Teclov' 10]\n",
      " [67 'Teclov' 10]\n",
      " [88 'Teclov' 12]\n",
      " [73 'Geekshub' 14]\n",
      " [47 'Abhay' 12]\n",
      " [66 'Ankit' 10]\n",
      " [41 'Teclov' 11]\n",
      " [24 'Geekshub' 12]\n",
      " [51 'Abhay' 10]]\n",
      "None\n",
      "          Name  Random\n",
      "Temp                  \n",
      "90       Abhay      13\n",
      "88      Teclov      12\n",
      "87       Abhay      13\n",
      "80      Teclov      14\n",
      "79      Teclov      10\n",
      "73    Geekshub      14\n",
      "69    Geekshub      13\n",
      "67      Teclov      10\n",
      "66       Ankit      10\n",
      "66    Geekshub      13\n",
      "57      Teclov      14\n",
      "51       Abhay      10\n",
      "47       Abhay      12\n",
      "41      Teclov      11\n",
      "31    Geekshub      12\n",
      "30      Teclov      11\n",
      "25       Abhay      10\n",
      "24    Geekshub      12\n",
      "24       Ankit      11\n",
      "20      Teclov      12\n",
      "          Name  Random\n",
      "Temp                  \n",
      "57      Teclov      14\n",
      "80      Teclov      14\n",
      "73    Geekshub      14\n",
      "90       Abhay      13\n",
      "87       Abhay      13\n",
      "66    Geekshub      13\n",
      "69    Geekshub      13\n",
      "88      Teclov      12\n",
      "31    Geekshub      12\n",
      "24    Geekshub      12\n",
      "20      Teclov      12\n",
      "47       Abhay      12\n",
      "41      Teclov      11\n",
      "24       Ankit      11\n",
      "30      Teclov      11\n",
      "67      Teclov      10\n",
      "79      Teclov      10\n",
      "66       Ankit      10\n",
      "25       Abhay      10\n",
      "51       Abhay      10\n",
      "          Name\n",
      "Temp          \n",
      "24       Ankit\n",
      "25       Abhay\n",
      "31    Geekshub\n",
      "87       Abhay\n",
      "66    Geekshub\n",
      "30      Teclov\n",
      "20      Teclov\n",
      "57      Teclov\n",
      "69    Geekshub\n",
      "80      Teclov\n",
      "90       Abhay\n",
      "79      Teclov\n",
      "67      Teclov\n",
      "88      Teclov\n",
      "73    Geekshub\n",
      "47       Abhay\n",
      "66       Ankit\n",
      "41      Teclov\n",
      "24    Geekshub\n",
      "51       Abhay\n"
     ]
    }
   ],
   "source": [
    "print(df.shape)\n",
    "print(df.columns)\n",
    "print(df['Temp'].describe())\n",
    "print(df.info())\n",
    "print(df.values)\n",
    "print(df.set_index('Temp',inplace=True))\n",
    "print(df.sort_index(axis=0,ascending=False))\n",
    "print(df.sort_values(by='Random',ascending=False))\n",
    "print(df.drop(['Random'],axis=1))"
   ]
  },
  {
   "cell_type": "code",
   "execution_count": 27,
   "id": "7c0b245d-1657-4f17-9a56-9f1c49002831",
   "metadata": {},
   "outputs": [
    {
     "name": "stdout",
     "output_type": "stream",
     "text": [
      "          Name  Random\n",
      "Temp                  \n",
      "24       Ankit      11\n",
      "25       Abhay      10\n",
      "31    Geekshub      12\n",
      "87       Abhay      13\n",
      "66    Geekshub      13\n",
      "       Name  Random\n",
      "Temp               \n",
      "24    Ankit      11\n",
      "25    Abhay      10\n",
      "Temp\n",
      "25    10\n",
      "31    12\n",
      "Name: Random, dtype: int64\n",
      "          Name  Random\n",
      "Temp                  \n",
      "57      Teclov      14\n",
      "80      Teclov      14\n",
      "73    Geekshub      14\n",
      "          Name  Random\n",
      "Temp                  \n",
      "25       Abhay      10\n",
      "57      Teclov      14\n",
      "80      Teclov      14\n",
      "79      Teclov      10\n",
      "67      Teclov      10\n",
      "73    Geekshub      14\n",
      "66       Ankit      10\n",
      "51       Abhay      10\n"
     ]
    }
   ],
   "source": [
    "print(df.head())\n",
    "print(df.iloc[[0,1]])\n",
    "print(df.iloc[1:3,1])\n",
    "print(df.loc[df.Random>13])\n",
    "print(df.loc[(df.Random>13)|(df.Random==10),:])\n"
   ]
  },
  {
   "cell_type": "code",
   "execution_count": 29,
   "id": "ab9c56f6-b1b6-495b-93a4-6748e6146535",
   "metadata": {},
   "outputs": [
    {
     "name": "stdout",
     "output_type": "stream",
     "text": [
      "  col1  number\n",
      "0    a       1\n",
      "1    b       2\n",
      "  letter  number\n",
      "0      c       3\n",
      "1      d       4\n",
      "  col1  number letter\n",
      "0    a       1    NaN\n",
      "1    b       2    NaN\n",
      "0  NaN       3      c\n",
      "1  NaN       4      d\n",
      "  col1  number letter\n",
      "0    a       1    NaN\n",
      "1    b       2    NaN\n",
      "2  NaN       3      c\n",
      "3  NaN       4      d\n",
      "  col1  number letter  number\n",
      "0    a       1      c       3\n",
      "1    b       2      d       4\n"
     ]
    }
   ],
   "source": [
    "# merging & concat\n",
    "d1=pd.DataFrame([['a',1],['b',2]],columns=['col1','number'])\n",
    "d2=pd.DataFrame([['c',3],['d',4]],columns=['letter','number'])\n",
    "print(d1)\n",
    "print(d2)\n",
    "print(pd.concat([d1,d2],axis=0))\n",
    "print(pd.concat([d1,d2],axis=0,ignore_index=True))\n",
    "print(pd.concat([d1,d2],axis=1))\n"
   ]
  },
  {
   "cell_type": "code",
   "execution_count": 3,
   "id": "9286d7eb-f6e6-4750-a8c3-b06ded97ab45",
   "metadata": {},
   "outputs": [
    {
     "name": "stdout",
     "output_type": "stream",
     "text": [
      "      city  temperature\n",
      "0  lucknow           32\n",
      "1   kanpur           45\n",
      "2     agra           30\n",
      "3    delhi           40\n",
      "      city  humidity\n",
      "0    delhi        68\n",
      "1  lucknow        65\n",
      "2   kanpur        75\n"
     ]
    }
   ],
   "source": [
    "import pandas as pd\n",
    "d1 = pd.DataFrame({\n",
    "\"city\" : [\"lucknow\",\"kanpur\",\"agra\",\"delhi\"],\n",
    "\"temperature\" : [32,45,30,40]\n",
    "})\n",
    "print(d1)\n",
    "d2 = pd.DataFrame({\n",
    "\"city\" : [\"delhi\",\"lucknow\",\"kanpur\"],\n",
    "\"humidity\" : [68,65,75]\n",
    "})\n",
    "print(d2)\n"
   ]
  },
  {
   "cell_type": "code",
   "execution_count": 7,
   "id": "8527d4bb-7c06-4701-b59c-f6dcf336f483",
   "metadata": {},
   "outputs": [
    {
     "name": "stdout",
     "output_type": "stream",
     "text": [
      "      city  temperature  humidity\n",
      "0  lucknow           32        65\n",
      "1   kanpur           45        75\n",
      "2    delhi           40        68\n",
      "      city  temperature  humidity\n",
      "0     agra           30       NaN\n",
      "1    delhi           40      68.0\n",
      "2   kanpur           45      75.0\n",
      "3  lucknow           32      65.0\n",
      "      city  temperature  humidity\n",
      "0  lucknow           32      65.0\n",
      "1   kanpur           45      75.0\n",
      "2     agra           30       NaN\n",
      "3    delhi           40      68.0\n"
     ]
    }
   ],
   "source": [
    "df=pd.merge(d1,d2,on='city')\n",
    "print(df)\n",
    "df=pd.merge(d1,d2,on='city',how='outer')\n",
    "print(df)\n",
    "df=pd.merge(d1,d2,on='city',how='left')\n",
    "print(df)"
   ]
  },
  {
   "cell_type": "code",
   "execution_count": 1,
   "id": "a6f511ad-f645-41d3-a035-d961c5d96d1f",
   "metadata": {},
   "outputs": [
    {
     "name": "stdout",
     "output_type": "stream",
     "text": [
      "0    10\n",
      "1    11\n",
      "2    12\n",
      "3    13\n",
      "4    14\n",
      "5    15\n",
      "6    16\n",
      "7    17\n",
      "8    18\n",
      "9    19\n",
      "dtype: int64\n",
      "0     2\n",
      "1     1\n",
      "2     4\n",
      "3     5\n",
      "4     8\n",
      "5    12\n",
      "6    18\n",
      "7    25\n",
      "8    96\n",
      "9    48\n",
      "dtype: int64\n"
     ]
    }
   ],
   "source": [
    "import pandas as pd\n",
    "x=pd.Series(range(10,20))\n",
    "print(x)\n",
    "y=pd.Series([2,1,4,5,8,12,18,25,96,48])\n",
    "print(y)"
   ]
  },
  {
   "cell_type": "code",
   "execution_count": 3,
   "id": "077ac249-0e1d-459f-8952-e5bd024e2176",
   "metadata": {},
   "outputs": [
    {
     "name": "stdout",
     "output_type": "stream",
     "text": [
      "0.7586402890911867\n"
     ]
    }
   ],
   "source": [
    "print(x.corr(y)) #pearsons r"
   ]
  },
  {
   "cell_type": "code",
   "execution_count": 5,
   "id": "653965a3-e09a-426e-ad1b-43f88e18759a",
   "metadata": {},
   "outputs": [
    {
     "name": "stdout",
     "output_type": "stream",
     "text": [
      "0.7586402890911869\n"
     ]
    }
   ],
   "source": [
    "print(y.corr(x))"
   ]
  },
  {
   "cell_type": "code",
   "execution_count": 7,
   "id": "96baab88-037a-422e-a254-ae811e72e7bb",
   "metadata": {},
   "outputs": [
    {
     "name": "stdout",
     "output_type": "stream",
     "text": [
      "0.9757575757575757\n",
      "0.911111111111111\n"
     ]
    }
   ],
   "source": [
    "print(x.corr(y,method='spearman'))\n",
    "print(x.corr(y,method='kendall'))"
   ]
  },
  {
   "cell_type": "code",
   "execution_count": null,
   "id": "56b50957-7abc-4a16-a150-45d992ba1644",
   "metadata": {},
   "outputs": [],
   "source": []
  }
 ],
 "metadata": {
  "kernelspec": {
   "display_name": "Python [conda env:base] *",
   "language": "python",
   "name": "conda-base-py"
  },
  "language_info": {
   "codemirror_mode": {
    "name": "ipython",
    "version": 3
   },
   "file_extension": ".py",
   "mimetype": "text/x-python",
   "name": "python",
   "nbconvert_exporter": "python",
   "pygments_lexer": "ipython3",
   "version": "3.12.7"
  }
 },
 "nbformat": 4,
 "nbformat_minor": 5
}
