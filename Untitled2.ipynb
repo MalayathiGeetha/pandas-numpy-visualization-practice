{
 "cells": [
  {
   "cell_type": "code",
   "execution_count": null,
   "id": "53366ac3-ffad-42ed-ac5f-7f0494d341ed",
   "metadata": {},
   "outputs": [],
   "source": []
  },
  {
   "cell_type": "code",
   "execution_count": 12,
   "id": "e0eaa966-da94-4e7e-8fc9-ea73ee8467bf",
   "metadata": {},
   "outputs": [
    {
     "data": {
      "image/png": "[encoded data removed]",
      "text/plain": [
       "<Figure size 640x480 with 1 Axes>"
      ]
     },
     "metadata": {},
     "output_type": "display_data"
    }
   ],
   "source": [
    "import matplotlib.pyplot as plt\n",
    "hospitals=[\"hospital A\",\"hospital B\",\"hospital C\",\"hospital D\"]\n",
    "patients=[120,150,90,60]\n",
    "plt.bar(hospitals,patients)\n",
    "plt.xlabel(\"hospitals\")\n",
    "plt.title(\"hospitals vs patients\")\n",
    "plt.ylabel(\"patients\")\n",
    "plt.show()"
   ]
  },
  {
   "cell_type": "code",
   "execution_count": 41,
   "id": "7ce00693-d14a-415f-88b2-e2fd94376bfc",
   "metadata": {},
   "outputs": [
    {
     "name": "stdin",
     "output_type": "stream",
     "text": [
      "enter color: pink\n"
     ]
    },
    {
     "name": "stdout",
     "output_type": "stream",
     "text": [
      "error!!! enter correct traffic light color\n",
      "speed thrils but kills\n"
     ]
    }
   ],
   "source": [
    "\n",
    "def traficlight():\n",
    "    color=input(\"enter color:\")\n",
    "    l=light(color)\n",
    "    if(l==0):\n",
    "        print(\"stop your life is precious\")\n",
    "    elif(l==1):\n",
    "        print(\"please wait till the light is  green\")\n",
    "    elif(l==2):\n",
    "        print(\"go thank you for being patient\")\n",
    "    else:\n",
    "        print(\"error!!! enter correct traffic light color\")\n",
    "def light(color):\n",
    "    color=color.upper()\n",
    "    if(color==\"RED\"):\n",
    "        return 0\n",
    "    elif(color==\"YELLOW\"):\n",
    "        return 1\n",
    "    elif(color==\"GREEN\"):\n",
    "        return 2\n",
    "    else:\n",
    "        return -1\n",
    "traficlight()\n",
    "print(\"speed thrils but kills\")"
   ]
  },
  {
   "cell_type": "code",
   "execution_count": 43,
   "id": "2b105ced-fefc-44ae-899b-28018192e5a2",
   "metadata": {},
   "outputs": [
    {
     "name": "stdout",
     "output_type": "stream",
     "text": [
      "   incomes         group\n",
      "0    15000           low\n",
      "1    45000  lower_middle\n",
      "2    32000  lower_middle\n",
      "3    67000  upper_middle\n",
      "4    87000  upper_middle\n",
      "5   120000          high\n",
      "6   540000  lower_middle\n",
      "7    39000  lower_middle\n",
      "8    25000           low\n",
      "9    98000          high\n"
     ]
    }
   ],
   "source": [
    "import pandas as pd\n",
    "incomes=[15000,45000,32000,67000,87000,120000,54000,39000,25000,98000]\n",
    "bins=[0,30000,60000,90000,120000]\n",
    "labels=[\"low\",\"lower_middle\",\"upper_middle\",\"high\"]\n",
    "\n",
    "df[\"group\"]=pd.cut(incomes,bins=bins,labels=labels)\n",
    "print(df)"
   ]
  },
  {
   "cell_type": "code",
   "execution_count": null,
   "id": "9457d1e2-e6a1-4bcd-ab57-c623491db254",
   "metadata": {},
   "outputs": [],
   "source": []
  }
 ],
 "metadata": {
  "kernelspec": {
   "display_name": "Python [conda env:base] *",
   "language": "python",
   "name": "conda-base-py"
  },
  "language_info": {
   "codemirror_mode": {
    "name": "ipython",
    "version": 3
   },
   "file_extension": ".py",
   "mimetype": "text/x-python",
   "name": "python",
   "nbconvert_exporter": "python",
   "pygments_lexer": "ipython3",
   "version": "3.12.7"
  }
 },
 "nbformat": 4,
 "nbformat_minor": 5
}
