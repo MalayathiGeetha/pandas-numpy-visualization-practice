{
 "cells": [
  {
   "cell_type": "code",
   "execution_count": 5,
   "id": "19f99b9a-35ea-4e0c-8b12-e2a9ae76d5bc",
   "metadata": {},
   "outputs": [
    {
     "name": "stdout",
     "output_type": "stream",
     "text": [
      "    temp      name  random\n",
      "0     33     Ankit      11\n",
      "1     97     Abhay      12\n",
      "2     33    Teclov      13\n",
      "3     92  Geekshub      12\n",
      "4     60  Geekshub      11\n",
      "5     87     Ankit      14\n",
      "6     64    Teclov      10\n",
      "7     30    Teclov      10\n",
      "8     33     Ankit      13\n",
      "9     25     Ankit      14\n",
      "10    33     Ankit      14\n",
      "11    78     Ankit      10\n",
      "12    93     Ankit      13\n",
      "13    56     Ankit      13\n",
      "14    67     Abhay      11\n",
      "15    77  Geekshub      12\n",
      "16    34     Abhay      10\n",
      "17    36     Ankit      14\n",
      "18    54     Ankit      12\n",
      "19    43     Abhay      10\n"
     ]
    }
   ],
   "source": [
    "import numpy as np\n",
    "import pandas as pd\n",
    "temp = np.random.randint(low = 20, high =100, size = [20,])\n",
    "name = np.random.choice(['Abhay','Teclov','Geekshub','Ankit'],20)\n",
    "random = np.random.choice([10,11,13,12,14],20)\n",
    "\n",
    "df = pd.DataFrame({'temp':temp, 'name':name, 'random':random})\n",
    "print(df)"
   ]
  },
  {
   "cell_type": "code",
   "execution_count": 7,
   "id": "2ab5bc2c-683c-423c-ba88-6ac43b8c1d9f",
   "metadata": {},
   "outputs": [
    {
     "name": "stdout",
     "output_type": "stream",
     "text": [
      "Index(['temp', 'name', 'random'], dtype='object')\n",
      "0        Ankit\n",
      "1        Abhay\n",
      "2       Teclov\n",
      "3     Geekshub\n",
      "4     Geekshub\n",
      "5        Ankit\n",
      "6       Teclov\n",
      "7       Teclov\n",
      "8        Ankit\n",
      "9        Ankit\n",
      "10       Ankit\n",
      "11       Ankit\n",
      "12       Ankit\n",
      "13       Ankit\n",
      "14       Abhay\n",
      "15    Geekshub\n",
      "16       Abhay\n",
      "17       Ankit\n",
      "18       Ankit\n",
      "19       Abhay\n",
      "Name: name, dtype: object\n"
     ]
    }
   ],
   "source": [
    "print(df.columns)\n",
    "\n",
    "print(df.name)"
   ]
  },
  {
   "cell_type": "code",
   "execution_count": 9,
   "id": "1083ca2c-6332-428c-b458-e13f233d843b",
   "metadata": {},
   "outputs": [
    {
     "name": "stdout",
     "output_type": "stream",
     "text": [
      "None\n"
     ]
    }
   ],
   "source": [
    "print(df.set_index('temp',inplace=True))"
   ]
  },
  {
   "cell_type": "code",
   "execution_count": 15,
   "id": "e2e8bb85-21af-4ac8-8f16-24cfad32eba4",
   "metadata": {},
   "outputs": [
    {
     "name": "stdout",
     "output_type": "stream",
     "text": [
      "          name  random\n",
      "temp                  \n",
      "97       Abhay      12\n",
      "93       Ankit      13\n",
      "92    Geekshub      12\n",
      "87       Ankit      14\n",
      "78       Ankit      10\n",
      "77    Geekshub      12\n",
      "67       Abhay      11\n",
      "64      Teclov      10\n",
      "60    Geekshub      11\n",
      "56       Ankit      13\n",
      "54       Ankit      12\n",
      "43       Abhay      10\n",
      "36       Ankit      14\n",
      "34       Abhay      10\n",
      "33       Ankit      11\n",
      "33       Ankit      13\n",
      "33      Teclov      13\n",
      "33       Ankit      14\n",
      "30      Teclov      10\n",
      "25       Ankit      14\n"
     ]
    }
   ],
   "source": [
    "print(df.sort_index(axis=0,ascending=False))"
   ]
  },
  {
   "cell_type": "code",
   "execution_count": 17,
   "id": "10026865-70cf-451d-a218-40eadb149aa2",
   "metadata": {},
   "outputs": [
    {
     "name": "stdout",
     "output_type": "stream",
     "text": [
      "          name  random\n",
      "temp                  \n",
      "43       Abhay      10\n",
      "34       Abhay      10\n",
      "78       Ankit      10\n",
      "30      Teclov      10\n",
      "64      Teclov      10\n",
      "67       Abhay      11\n",
      "33       Ankit      11\n",
      "60    Geekshub      11\n",
      "54       Ankit      12\n",
      "92    Geekshub      12\n",
      "77    Geekshub      12\n",
      "97       Abhay      12\n",
      "33       Ankit      13\n",
      "93       Ankit      13\n",
      "56       Ankit      13\n",
      "33      Teclov      13\n",
      "33       Ankit      14\n",
      "36       Ankit      14\n",
      "87       Ankit      14\n",
      "25       Ankit      14\n"
     ]
    }
   ],
   "source": [
    "print(df.sort_values(by='random',ascending=True))"
   ]
  },
  {
   "cell_type": "code",
   "execution_count": 19,
   "id": "2bdce85e-9dfe-4409-946b-bedc56a6a0bc",
   "metadata": {},
   "outputs": [
    {
     "name": "stdout",
     "output_type": "stream",
     "text": [
      "          name\n",
      "temp          \n",
      "33       Ankit\n",
      "97       Abhay\n",
      "33      Teclov\n",
      "92    Geekshub\n",
      "60    Geekshub\n",
      "87       Ankit\n",
      "64      Teclov\n",
      "30      Teclov\n",
      "33       Ankit\n",
      "25       Ankit\n",
      "33       Ankit\n",
      "78       Ankit\n",
      "93       Ankit\n",
      "56       Ankit\n",
      "67       Abhay\n",
      "77    Geekshub\n",
      "34       Abhay\n",
      "36       Ankit\n",
      "54       Ankit\n",
      "43       Abhay\n"
     ]
    }
   ],
   "source": [
    "print(df.drop(['random'],axis=1))"
   ]
  },
  {
   "cell_type": "code",
   "execution_count": 25,
   "id": "d47842a2-ced1-4212-b06f-6a8ea6cdafbb",
   "metadata": {},
   "outputs": [
    {
     "name": "stdout",
     "output_type": "stream",
     "text": [
      "temp\n",
      "97    12\n",
      "33    13\n",
      "Name: random, dtype: int64\n"
     ]
    }
   ],
   "source": [
    "print(df.iloc[1:3,1])"
   ]
  },
  {
   "cell_type": "code",
   "execution_count": 35,
   "id": "2aca5e94-07ba-4b18-acf1-f826689e5d66",
   "metadata": {},
   "outputs": [
    {
     "ename": "KeyError",
     "evalue": "\"None of [Index([39, 84], dtype='object', name='temp')] are in the [index]\"",
     "output_type": "error",
     "traceback": [
      "\u001b[0;31m---------------------------------------------------------------------------\u001b[0m",
      "\u001b[0;31mKeyError\u001b[0m                                  Traceback (most recent call last)",
      "Cell \u001b[0;32mIn[35], line 1\u001b[0m\n\u001b[0;32m----> 1\u001b[0m \u001b[38;5;28mprint\u001b[39m(df\u001b[38;5;241m.\u001b[39mloc[[\u001b[38;5;241m39\u001b[39m,\u001b[38;5;241m84\u001b[39m],\u001b[38;5;124m'\u001b[39m\u001b[38;5;124mname\u001b[39m\u001b[38;5;124m'\u001b[39m:\u001b[38;5;124m'\u001b[39m\u001b[38;5;124mrandom\u001b[39m\u001b[38;5;124m'\u001b[39m])\n",
      "File \u001b[0;32m~/anaconda3/lib/python3.12/site-packages/pandas/core/indexing.py:1184\u001b[0m, in \u001b[0;36m_LocationIndexer.__getitem__\u001b[0;34m(self, key)\u001b[0m\n\u001b[1;32m   1182\u001b[0m     \u001b[38;5;28;01mif\u001b[39;00m \u001b[38;5;28mself\u001b[39m\u001b[38;5;241m.\u001b[39m_is_scalar_access(key):\n\u001b[1;32m   1183\u001b[0m         \u001b[38;5;28;01mreturn\u001b[39;00m \u001b[38;5;28mself\u001b[39m\u001b[38;5;241m.\u001b[39mobj\u001b[38;5;241m.\u001b[39m_get_value(\u001b[38;5;241m*\u001b[39mkey, takeable\u001b[38;5;241m=\u001b[39m\u001b[38;5;28mself\u001b[39m\u001b[38;5;241m.\u001b[39m_takeable)\n\u001b[0;32m-> 1184\u001b[0m     \u001b[38;5;28;01mreturn\u001b[39;00m \u001b[38;5;28mself\u001b[39m\u001b[38;5;241m.\u001b[39m_getitem_tuple(key)\n\u001b[1;32m   1185\u001b[0m \u001b[38;5;28;01melse\u001b[39;00m:\n\u001b[1;32m   1186\u001b[0m     \u001b[38;5;66;03m# we by definition only have the 0th axis\u001b[39;00m\n\u001b[1;32m   1187\u001b[0m     axis \u001b[38;5;241m=\u001b[39m \u001b[38;5;28mself\u001b[39m\u001b[38;5;241m.\u001b[39maxis \u001b[38;5;129;01mor\u001b[39;00m \u001b[38;5;241m0\u001b[39m\n",
      "File \u001b[0;32m~/anaconda3/lib/python3.12/site-packages/pandas/core/indexing.py:1377\u001b[0m, in \u001b[0;36m_LocIndexer._getitem_tuple\u001b[0;34m(self, tup)\u001b[0m\n\u001b[1;32m   1374\u001b[0m \u001b[38;5;28;01mif\u001b[39;00m \u001b[38;5;28mself\u001b[39m\u001b[38;5;241m.\u001b[39m_multi_take_opportunity(tup):\n\u001b[1;32m   1375\u001b[0m     \u001b[38;5;28;01mreturn\u001b[39;00m \u001b[38;5;28mself\u001b[39m\u001b[38;5;241m.\u001b[39m_multi_take(tup)\n\u001b[0;32m-> 1377\u001b[0m \u001b[38;5;28;01mreturn\u001b[39;00m \u001b[38;5;28mself\u001b[39m\u001b[38;5;241m.\u001b[39m_getitem_tuple_same_dim(tup)\n",
      "File \u001b[0;32m~/anaconda3/lib/python3.12/site-packages/pandas/core/indexing.py:1020\u001b[0m, in \u001b[0;36m_LocationIndexer._getitem_tuple_same_dim\u001b[0;34m(self, tup)\u001b[0m\n\u001b[1;32m   1017\u001b[0m \u001b[38;5;28;01mif\u001b[39;00m com\u001b[38;5;241m.\u001b[39mis_null_slice(key):\n\u001b[1;32m   1018\u001b[0m     \u001b[38;5;28;01mcontinue\u001b[39;00m\n\u001b[0;32m-> 1020\u001b[0m retval \u001b[38;5;241m=\u001b[39m \u001b[38;5;28mgetattr\u001b[39m(retval, \u001b[38;5;28mself\u001b[39m\u001b[38;5;241m.\u001b[39mname)\u001b[38;5;241m.\u001b[39m_getitem_axis(key, axis\u001b[38;5;241m=\u001b[39mi)\n\u001b[1;32m   1021\u001b[0m \u001b[38;5;66;03m# We should never have retval.ndim < self.ndim, as that should\u001b[39;00m\n\u001b[1;32m   1022\u001b[0m \u001b[38;5;66;03m#  be handled by the _getitem_lowerdim call above.\u001b[39;00m\n\u001b[1;32m   1023\u001b[0m \u001b[38;5;28;01massert\u001b[39;00m retval\u001b[38;5;241m.\u001b[39mndim \u001b[38;5;241m==\u001b[39m \u001b[38;5;28mself\u001b[39m\u001b[38;5;241m.\u001b[39mndim\n",
      "File \u001b[0;32m~/anaconda3/lib/python3.12/site-packages/pandas/core/indexing.py:1420\u001b[0m, in \u001b[0;36m_LocIndexer._getitem_axis\u001b[0;34m(self, key, axis)\u001b[0m\n\u001b[1;32m   1417\u001b[0m     \u001b[38;5;28;01mif\u001b[39;00m \u001b[38;5;28mhasattr\u001b[39m(key, \u001b[38;5;124m\"\u001b[39m\u001b[38;5;124mndim\u001b[39m\u001b[38;5;124m\"\u001b[39m) \u001b[38;5;129;01mand\u001b[39;00m key\u001b[38;5;241m.\u001b[39mndim \u001b[38;5;241m>\u001b[39m \u001b[38;5;241m1\u001b[39m:\n\u001b[1;32m   1418\u001b[0m         \u001b[38;5;28;01mraise\u001b[39;00m \u001b[38;5;167;01mValueError\u001b[39;00m(\u001b[38;5;124m\"\u001b[39m\u001b[38;5;124mCannot index with multidimensional key\u001b[39m\u001b[38;5;124m\"\u001b[39m)\n\u001b[0;32m-> 1420\u001b[0m     \u001b[38;5;28;01mreturn\u001b[39;00m \u001b[38;5;28mself\u001b[39m\u001b[38;5;241m.\u001b[39m_getitem_iterable(key, axis\u001b[38;5;241m=\u001b[39maxis)\n\u001b[1;32m   1422\u001b[0m \u001b[38;5;66;03m# nested tuple slicing\u001b[39;00m\n\u001b[1;32m   1423\u001b[0m \u001b[38;5;28;01mif\u001b[39;00m is_nested_tuple(key, labels):\n",
      "File \u001b[0;32m~/anaconda3/lib/python3.12/site-packages/pandas/core/indexing.py:1360\u001b[0m, in \u001b[0;36m_LocIndexer._getitem_iterable\u001b[0;34m(self, key, axis)\u001b[0m\n\u001b[1;32m   1357\u001b[0m \u001b[38;5;28mself\u001b[39m\u001b[38;5;241m.\u001b[39m_validate_key(key, axis)\n\u001b[1;32m   1359\u001b[0m \u001b[38;5;66;03m# A collection of keys\u001b[39;00m\n\u001b[0;32m-> 1360\u001b[0m keyarr, indexer \u001b[38;5;241m=\u001b[39m \u001b[38;5;28mself\u001b[39m\u001b[38;5;241m.\u001b[39m_get_listlike_indexer(key, axis)\n\u001b[1;32m   1361\u001b[0m \u001b[38;5;28;01mreturn\u001b[39;00m \u001b[38;5;28mself\u001b[39m\u001b[38;5;241m.\u001b[39mobj\u001b[38;5;241m.\u001b[39m_reindex_with_indexers(\n\u001b[1;32m   1362\u001b[0m     {axis: [keyarr, indexer]}, copy\u001b[38;5;241m=\u001b[39m\u001b[38;5;28;01mTrue\u001b[39;00m, allow_dups\u001b[38;5;241m=\u001b[39m\u001b[38;5;28;01mTrue\u001b[39;00m\n\u001b[1;32m   1363\u001b[0m )\n",
      "File \u001b[0;32m~/anaconda3/lib/python3.12/site-packages/pandas/core/indexing.py:1558\u001b[0m, in \u001b[0;36m_LocIndexer._get_listlike_indexer\u001b[0;34m(self, key, axis)\u001b[0m\n\u001b[1;32m   1555\u001b[0m ax \u001b[38;5;241m=\u001b[39m \u001b[38;5;28mself\u001b[39m\u001b[38;5;241m.\u001b[39mobj\u001b[38;5;241m.\u001b[39m_get_axis(axis)\n\u001b[1;32m   1556\u001b[0m axis_name \u001b[38;5;241m=\u001b[39m \u001b[38;5;28mself\u001b[39m\u001b[38;5;241m.\u001b[39mobj\u001b[38;5;241m.\u001b[39m_get_axis_name(axis)\n\u001b[0;32m-> 1558\u001b[0m keyarr, indexer \u001b[38;5;241m=\u001b[39m ax\u001b[38;5;241m.\u001b[39m_get_indexer_strict(key, axis_name)\n\u001b[1;32m   1560\u001b[0m \u001b[38;5;28;01mreturn\u001b[39;00m keyarr, indexer\n",
      "File \u001b[0;32m~/anaconda3/lib/python3.12/site-packages/pandas/core/indexes/base.py:6200\u001b[0m, in \u001b[0;36mIndex._get_indexer_strict\u001b[0;34m(self, key, axis_name)\u001b[0m\n\u001b[1;32m   6197\u001b[0m \u001b[38;5;28;01melse\u001b[39;00m:\n\u001b[1;32m   6198\u001b[0m     keyarr, indexer, new_indexer \u001b[38;5;241m=\u001b[39m \u001b[38;5;28mself\u001b[39m\u001b[38;5;241m.\u001b[39m_reindex_non_unique(keyarr)\n\u001b[0;32m-> 6200\u001b[0m \u001b[38;5;28mself\u001b[39m\u001b[38;5;241m.\u001b[39m_raise_if_missing(keyarr, indexer, axis_name)\n\u001b[1;32m   6202\u001b[0m keyarr \u001b[38;5;241m=\u001b[39m \u001b[38;5;28mself\u001b[39m\u001b[38;5;241m.\u001b[39mtake(indexer)\n\u001b[1;32m   6203\u001b[0m \u001b[38;5;28;01mif\u001b[39;00m \u001b[38;5;28misinstance\u001b[39m(key, Index):\n\u001b[1;32m   6204\u001b[0m     \u001b[38;5;66;03m# GH 42790 - Preserve name from an Index\u001b[39;00m\n",
      "File \u001b[0;32m~/anaconda3/lib/python3.12/site-packages/pandas/core/indexes/base.py:6249\u001b[0m, in \u001b[0;36mIndex._raise_if_missing\u001b[0;34m(self, key, indexer, axis_name)\u001b[0m\n\u001b[1;32m   6247\u001b[0m \u001b[38;5;28;01mif\u001b[39;00m nmissing:\n\u001b[1;32m   6248\u001b[0m     \u001b[38;5;28;01mif\u001b[39;00m nmissing \u001b[38;5;241m==\u001b[39m \u001b[38;5;28mlen\u001b[39m(indexer):\n\u001b[0;32m-> 6249\u001b[0m         \u001b[38;5;28;01mraise\u001b[39;00m \u001b[38;5;167;01mKeyError\u001b[39;00m(\u001b[38;5;124mf\u001b[39m\u001b[38;5;124m\"\u001b[39m\u001b[38;5;124mNone of [\u001b[39m\u001b[38;5;132;01m{\u001b[39;00mkey\u001b[38;5;132;01m}\u001b[39;00m\u001b[38;5;124m] are in the [\u001b[39m\u001b[38;5;132;01m{\u001b[39;00maxis_name\u001b[38;5;132;01m}\u001b[39;00m\u001b[38;5;124m]\u001b[39m\u001b[38;5;124m\"\u001b[39m)\n\u001b[1;32m   6251\u001b[0m     not_found \u001b[38;5;241m=\u001b[39m \u001b[38;5;28mlist\u001b[39m(ensure_index(key)[missing_mask\u001b[38;5;241m.\u001b[39mnonzero()[\u001b[38;5;241m0\u001b[39m]]\u001b[38;5;241m.\u001b[39munique())\n\u001b[1;32m   6252\u001b[0m     \u001b[38;5;28;01mraise\u001b[39;00m \u001b[38;5;167;01mKeyError\u001b[39;00m(\u001b[38;5;124mf\u001b[39m\u001b[38;5;124m\"\u001b[39m\u001b[38;5;132;01m{\u001b[39;00mnot_found\u001b[38;5;132;01m}\u001b[39;00m\u001b[38;5;124m not in index\u001b[39m\u001b[38;5;124m\"\u001b[39m)\n",
      "\u001b[0;31mKeyError\u001b[0m: \"None of [Index([39, 84], dtype='object', name='temp')] are in the [index]\""
     ]
    }
   ],
   "source": [
    "print(df.loc[[39,84],'name':'random'])"
   ]
  },
  {
   "cell_type": "code",
   "execution_count": 41,
   "id": "d7f0d667-50e8-46d9-a75a-2ca4a3ce6444",
   "metadata": {},
   "outputs": [
    {
     "name": "stdout",
     "output_type": "stream",
     "text": [
      "  col1  number letter animal\n",
      "0    a       1    NaN    NaN\n",
      "1    b       2    NaN    NaN\n",
      "0  NaN       3      c   lion\n",
      "1  NaN       4      d  tiger\n",
      "  col1  number letter animal\n",
      "0    a       1    NaN    NaN\n",
      "1    b       2    NaN    NaN\n",
      "2  NaN       3      c   lion\n",
      "3  NaN       4      d  tiger\n",
      "  col1  number letter  number animal\n",
      "0    a       1      c       3   lion\n",
      "1    b       2      d       4  tiger\n"
     ]
    }
   ],
   "source": [
    "d1 = pd.DataFrame([['a', 1], ['b', 2]],columns=['col1', 'number'])\n",
    "d2 = pd.DataFrame([['c', 3, 'lion'], ['d', 4, 'tiger']],columns=['letter', 'number','animal'])\n",
    "print(pd.concat([d1,d2],axis=0))\n",
    "print(pd.concat([d1,d2],axis=0,ignore_index=True))\n",
    "print(pd.concat([d1,d2],axis=1))"
   ]
  },
  {
   "cell_type": "code",
   "execution_count": 45,
   "id": "a8c1672b-de97-4b8e-9092-45994e402dd9",
   "metadata": {},
   "outputs": [
    {
     "name": "stdout",
     "output_type": "stream",
     "text": [
      "      city  temperature  humidity\n",
      "0  lucknow           32        65\n",
      "1   kanpur           45        75\n",
      "2    delhi           40        68\n"
     ]
    }
   ],
   "source": [
    "d2 = pd.DataFrame({\n",
    "\"city\" : [\"delhi\",\"lucknow\",\"kanpur\"],\n",
    "\"humidity\" : [68,65,75]\n",
    "})\n",
    "d1 = pd.DataFrame({\n",
    "\"city\" : [\"lucknow\",\"kanpur\",\"agra\",\"delhi\"],\n",
    "\"temperature\" : [32,45,30,40]\n",
    "})\n",
    "print(pd.merge(d1,d2,on='city'))"
   ]
  },
  {
   "cell_type": "code",
   "execution_count": 57,
   "id": "81457104-d7c2-46e0-9eb8-224ff9cb450e",
   "metadata": {},
   "outputs": [
    {
     "name": "stdout",
     "output_type": "stream",
     "text": [
      "   temp     city\n",
      "2    20  lucknow\n",
      "3    30   kanpur\n",
      "4    40     agra\n",
      "5    50    delhi\n"
     ]
    }
   ],
   "source": [
    "d1 = pd.DataFrame([\n",
    "{\"lucknow\",20},{\"kanpur\",30},{\"agra\",40},{\"delhi\",50}\n",
    "],columns=[\"temp\",\"city\"],index=[2,3,4,5])\n",
    "print(d1)"
   ]
  },
  {
   "cell_type": "code",
   "execution_count": null,
   "id": "6f0adee4-d49b-4c2b-8bd0-c1e126157c0e",
   "metadata": {},
   "outputs": [],
   "source": []
  }
 ],
 "metadata": {
  "kernelspec": {
   "display_name": "Python [conda env:base] *",
   "language": "python",
   "name": "conda-base-py"
  },
  "language_info": {
   "codemirror_mode": {
    "name": "ipython",
    "version": 3
   },
   "file_extension": ".py",
   "mimetype": "text/x-python",
   "name": "python",
   "nbconvert_exporter": "python",
   "pygments_lexer": "ipython3",
   "version": "3.12.7"
  }
 },
 "nbformat": 4,
 "nbformat_minor": 5
}
