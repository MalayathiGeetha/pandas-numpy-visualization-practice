{
 "cells": [
  {
   "cell_type": "code",
   "execution_count": 5,
   "id": "42111d8f-029d-4ae1-881f-bf728d7a544c",
   "metadata": {},
   "outputs": [
    {
     "name": "stdout",
     "output_type": "stream",
     "text": [
      "0    1\n",
      "1    2\n",
      "2    3\n",
      "3    4\n",
      "4    5\n",
      "dtype: int64\n"
     ]
    }
   ],
   "source": [
    "import pandas as pd\n",
    "s1=pd.Series([1,2,3,4,5])\n",
    "print(s1)"
   ]
  },
  {
   "cell_type": "code",
   "execution_count": 19,
   "id": "7be7f903-058a-4ca4-b0bc-23aa0d221c9b",
   "metadata": {},
   "outputs": [
    {
     "name": "stdout",
     "output_type": "stream",
     "text": [
      "a    1\n",
      "b    2\n",
      "c    3\n",
      "d    4\n",
      "dtype: int64\n",
      "a    10\n",
      "b    20\n",
      "c    30\n",
      "dtype: int64\n",
      "a    10\n",
      "b    20\n",
      "c    30\n",
      "dtype: int64\n",
      "10\n",
      "a    15\n",
      "b    25\n",
      "c    35\n",
      "dtype: int64\n"
     ]
    }
   ],
   "source": [
    "#changing index\n",
    "s2=pd.Series([1,2,3,4],index=['a','b','c','d'])\n",
    "print(s2)\n",
    "s2=pd.Series({'a':10,'b':20,'c':30})\n",
    "print(s2)\n",
    "print(s2['a':])\n",
    "print(s2['a'])\n",
    "print(s2+5)"
   ]
  },
  {
   "cell_type": "raw",
   "id": "1e06b4fb-e1a0-4166-998b-ce52b7601ff1",
   "metadata": {},
   "source": []
  },
  {
   "cell_type": "code",
   "execution_count": 27,
   "id": "29569f6c-e5e7-4ee1-84be-a78a33113ba0",
   "metadata": {},
   "outputs": [
    {
     "name": "stdout",
     "output_type": "stream",
     "text": [
      "     Name  Marks\n",
      "0     Bob     76\n",
      "1     Sam     25\n",
      "2    rani     10\n",
      "3    prav     20\n",
      "4  vasavi     40\n",
      "5   pinky     67\n",
      "6  seetha     78\n"
     ]
    }
   ],
   "source": [
    "#dataframe\n",
    "df=pd.DataFrame({'Name':[\"Bob\",'Sam','rani','prav','vasavi','pinky','seetha'],\"Marks\":[76,25,10,20,40,67,78]})\n",
    "print(df)"
   ]
  },
  {
   "cell_type": "code",
   "execution_count": 29,
   "id": "230a4392-d4c1-44f3-866a-404395295394",
   "metadata": {},
   "outputs": [
    {
     "name": "stdout",
     "output_type": "stream",
     "text": [
      "     Name  Marks\n",
      "0     Bob     76\n",
      "1     Sam     25\n",
      "2    rani     10\n",
      "3    prav     20\n",
      "4  vasavi     40\n"
     ]
    }
   ],
   "source": [
    "print(df.head())"
   ]
  },
  {
   "cell_type": "code",
   "execution_count": 33,
   "id": "eb081e30-78d6-44dc-b124-c5698b6a424a",
   "metadata": {},
   "outputs": [
    {
     "name": "stdout",
     "output_type": "stream",
     "text": [
      "           Marks\n",
      "count   7.000000\n",
      "mean   45.142857\n",
      "std    28.310355\n",
      "min    10.000000\n",
      "25%    22.500000\n",
      "50%    40.000000\n",
      "75%    71.500000\n",
      "max    78.000000\n",
      "     Name  Marks\n",
      "2    rani     10\n",
      "3    prav     20\n",
      "4  vasavi     40\n",
      "5   pinky     67\n",
      "6  seetha     78\n"
     ]
    }
   ],
   "source": [
    "print(df.describe())\n",
    "print(df.tail())"
   ]
  },
  {
   "cell_type": "code",
   "execution_count": 39,
   "id": "41deb19c-0b73-489f-b7eb-d77e066426a1",
   "metadata": {},
   "outputs": [
    {
     "name": "stdout",
     "output_type": "stream",
     "text": [
      "2.2.2\n"
     ]
    }
   ],
   "source": [
    "print(pd.__version__)"
   ]
  },
  {
   "cell_type": "code",
   "execution_count": 51,
   "id": "146baf95-8764-4b6a-b92b-2d90444f9d20",
   "metadata": {},
   "outputs": [
    {
     "name": "stdout",
     "output_type": "stream",
     "text": [
      "[('abc', 10, 8.92), ('def', 11, 79.3), ('klm', 12, 65.4)]\n",
      "     0   1      2\n",
      "0  abc  10   8.92\n",
      "1  def  11  79.30\n",
      "2  klm  12  65.40\n"
     ]
    }
   ],
   "source": [
    "l=[(\"abc\",10,8.92),(\"def\",11,79.3),(\"klm\",12,65.4)]\n",
    "print(l)\n",
    "df=pd.DataFrame(l)\n",
    "print(df)"
   ]
  },
  {
   "cell_type": "code",
   "execution_count": 49,
   "id": "dce4ba6b-70da-42d1-a9dc-25b10d8f3a4e",
   "metadata": {},
   "outputs": [
    {
     "name": "stdout",
     "output_type": "stream",
     "text": [
      "   Student_ID  Age  Gender  High_School_GPA    Field_of_Study\n",
      "0      S00001   24    Male             3.58              Arts\n",
      "1      S00002   21   Other             2.52               Law\n",
      "2      S00003   28  Female             3.42          Medicine\n",
      "3      S00004   25    Male             2.43  Computer Science\n",
      "4      S00005   22    Male             2.08       Engineering\n",
      "..        ...  ...     ...              ...               ...\n",
      "94     S00095   26  Female             3.58          Business\n",
      "95     S00096   29   Other             3.41       Mathematics\n",
      "96     S00097   29  Female             3.18  Computer Science\n",
      "97     S00098   29  Female             2.90               Law\n",
      "98     S00099   26    Male             3.72       Engineering\n",
      "\n",
      "[99 rows x 5 columns]\n"
     ]
    }
   ],
   "source": [
    "#dataset\n",
    "import pandas as pd\n",
    "d=pd.read_csv(\"/home/rguktrkvalley/Documents/E2/S2/DSP_LAB/dataframe.csv\")\n",
    "df=pd.DataFrame(d)\n",
    "print(df)"
   ]
  },
  {
   "cell_type": "code",
   "execution_count": 65,
   "id": "94ffd74f-840b-4e16-8037-27dacd3eb647",
   "metadata": {},
   "outputs": [
    {
     "name": "stdout",
     "output_type": "stream",
     "text": [
      "   Student_ID  Age  Gender  High_School_GPA    Field_of_Study\n",
      "0      S00001   24    Male             3.58              Arts\n",
      "1      S00002   21   Other             2.52               Law\n",
      "2      S00003   28  Female             3.42          Medicine\n",
      "3      S00004   25    Male             2.43  Computer Science\n",
      "4      S00005   22    Male             2.08       Engineering\n",
      "..        ...  ...     ...              ...               ...\n",
      "94     S00095   26  Female             3.58          Business\n",
      "95     S00096   29   Other             3.41       Mathematics\n",
      "96     S00097   29  Female             3.18  Computer Science\n",
      "97     S00098   29  Female             2.90               Law\n",
      "98     S00099   26    Male             3.72       Engineering\n",
      "\n",
      "[99 rows x 5 columns]\n",
      "  Student_ID  Age  Gender  High_School_GPA    Field_of_Study\n",
      "0     S00001   24    Male             3.58              Arts\n",
      "1     S00002   21   Other             2.52               Law\n",
      "2     S00003   28  Female             3.42          Medicine\n",
      "3     S00004   25    Male             2.43  Computer Science\n",
      "4     S00005   22    Male             2.08       Engineering\n",
      "5     S00006   24    Male             2.40               Law\n",
      "6     S00007   27    Male             2.36  Computer Science\n",
      "   Student_ID  Age  Gender  High_School_GPA    Field_of_Study\n",
      "96     S00097   29  Female             3.18  Computer Science\n",
      "97     S00098   29  Female             2.90               Law\n",
      "98     S00099   26    Male             3.72       Engineering\n",
      "  Student_ID  Age Gender  High_School_GPA    Field_of_Study\n",
      "1     S00002   21  Other             2.52               Law\n",
      "3     S00004   25   Male             2.43  Computer Science\n",
      "5     S00006   24   Male             2.40               Law\n",
      "7     S00008   20   Male             2.68  Computer Science\n",
      "9     S00010   28   Male             3.02  Computer Science\n"
     ]
    }
   ],
   "source": [
    "#dataset\n",
    "import pandas as pd\n",
    "d=pd.read_csv(\"/home/rguktrkvalley/Documents/E2/S2/DSP_LAB/dataframe.csv\")\n",
    "df=pd.DataFrame(d)\n",
    "print(df)\n",
    "print(df.head(7))\n",
    "print(df.tail(3))\n",
    "print(df[1:10:2])"
   ]
  },
  {
   "cell_type": "code",
   "execution_count": 73,
   "id": "24fd8c34-a186-4f72-9f35-7f6fe9509137",
   "metadata": {},
   "outputs": [
    {
     "name": "stdout",
     "output_type": "stream",
     "text": [
      "   Student_ID  Age\n",
      "0      S00001   24\n",
      "1      S00002   21\n",
      "2      S00003   28\n",
      "3      S00004   25\n",
      "4      S00005   22\n",
      "..        ...  ...\n",
      "94     S00095   26\n",
      "95     S00096   29\n",
      "96     S00097   29\n",
      "97     S00098   29\n",
      "98     S00099   26\n",
      "\n",
      "[99 rows x 2 columns]\n",
      "0       Male\n",
      "1      Other\n",
      "2     Female\n",
      "3       Male\n",
      "4       Male\n",
      "       ...  \n",
      "94    Female\n",
      "95     Other\n",
      "96    Female\n",
      "97    Female\n",
      "98      Male\n",
      "Name: Gender, Length: 99, dtype: object\n",
      "  Student_ID  Age\n",
      "1     S00002   21\n",
      "3     S00004   25\n",
      "5     S00006   24\n",
      "7     S00008   20\n",
      "9     S00010   28\n",
      "<generator object DataFrame.iterrows at 0x7fe595376680>\n"
     ]
    }
   ],
   "source": [
    "print(df[[\"Student_ID\",\"Age\"]])\n",
    "print(df[\"Gender\"])\n",
    "print(df[[\"Student_ID\",\"Age\"]][1:10:2])\n",
    "print(df.iterrows())\n",
    "\n"
   ]
  },
  {
   "cell_type": "code",
   "execution_count": 77,
   "id": "86fc472f-4bb7-408d-b726-422fe5f18244",
   "metadata": {},
   "outputs": [
    {
     "name": "stdout",
     "output_type": "stream",
     "text": [
      "Student_ID         S00002\n",
      "Age                    21\n",
      "Gender              Other\n",
      "High_School_GPA      2.52\n",
      "Field_of_Study        Law\n",
      "Name: 1, dtype: object\n",
      "Student_ID    S00002\n",
      "Age               21\n",
      "Name: 1, dtype: object\n"
     ]
    }
   ],
   "source": [
    "#loc\n",
    "print(df.loc[1])\n",
    "print(df.loc[1,[\"Student_ID\",\"Age\"]])"
   ]
  },
  {
   "cell_type": "code",
   "execution_count": 85,
   "id": "99b79dfb-a0a0-4554-a3e5-fc8dfe68916c",
   "metadata": {},
   "outputs": [
    {
     "name": "stdout",
     "output_type": "stream",
     "text": [
      "   Student_ID  Age  Gender  High_School_GPA    Field_of_Study\n",
      "1      S00002   21   Other             2.52               Law\n",
      "2      S00003   28  Female             3.42          Medicine\n",
      "3      S00004   25    Male             2.43  Computer Science\n",
      "4      S00005   22    Male             2.08       Engineering\n",
      "5      S00006   24    Male             2.40               Law\n",
      "6      S00007   27    Male             2.36  Computer Science\n",
      "7      S00008   20    Male             2.68  Computer Science\n",
      "8      S00009   24    Male             2.84          Business\n",
      "9      S00010   28    Male             3.02  Computer Science\n",
      "10     S00011   28  Female             2.95       Mathematics\n",
      "1    S00002\n",
      "3    S00004\n",
      "5    S00006\n",
      "7    S00008\n",
      "9    S00010\n",
      "Name: Student_ID, dtype: object\n",
      "  Student_ID  Age Gender\n",
      "1     S00002   21  Other\n",
      "3     S00004   25   Male\n",
      "5     S00006   24   Male\n",
      "7     S00008   20   Male\n",
      "9     S00010   28   Male\n",
      "  Student_ID  Age Gender  High_School_GPA\n",
      "1     S00002   21  Other             2.52\n",
      "3     S00004   25   Male             2.43\n",
      "5     S00006   24   Male             2.40\n",
      "7     S00008   20   Male             2.68\n",
      "9     S00010   28   Male             3.02\n"
     ]
    }
   ],
   "source": [
    "print(df.loc[1:10])\n",
    "print(df.loc[1:10:2,\"Student_ID\"])\n",
    "print(df.loc[1:10:2,[\"Student_ID\",\"Age\",\"Gender\"]])\n",
    "print(df.loc[1:10:2,\"Student_ID\":\"High_School_GPA\"])"
   ]
  },
  {
   "cell_type": "code",
   "execution_count": 99,
   "id": "2275daf8-90e2-4c56-b140-b598d33d271b",
   "metadata": {},
   "outputs": [
    {
     "name": "stdout",
     "output_type": "stream",
     "text": [
      "  Student_ID  Age  Gender  High_School_GPA    Field_of_Study\n",
      "0     S00001   24    Male             3.58              Arts\n",
      "1     S00002   21   Other             2.52               Law\n",
      "2     S00003   28  Female             3.42          Medicine\n",
      "3     S00004   25    Male             2.43  Computer Science\n",
      "4     S00005   22    Male             2.08       Engineering\n",
      "5     S00006   24    Male             2.40               Law\n",
      "6     S00007   27    Male             2.36  Computer Science\n",
      "7     S00008   20    Male             2.68  Computer Science\n",
      "8     S00009   24    Male             2.84          Business\n",
      "9     S00010   28    Male             3.02  Computer Science\n",
      "  Student_ID  Age  Gender  High_School_GPA\n",
      "1     S00002   21   Other             2.52\n",
      "2     S00003   28  Female             3.42\n",
      "3     S00004   25    Male             2.43\n",
      "1    S00002\n",
      "2    S00003\n",
      "3    S00004\n",
      "4    S00005\n",
      "5    S00006\n",
      "6    S00007\n",
      "7    S00008\n",
      "8    S00009\n",
      "9    S00010\n",
      "Name: Student_ID, dtype: object\n"
     ]
    }
   ],
   "source": [
    "#iloc\n",
    "print(df.iloc[0:10]) #10 is not included\n",
    "print(df.iloc[1:4,0:4])\n",
    "print(df.iloc[1:10,0]) #range and col_index"
   ]
  },
  {
   "cell_type": "code",
   "execution_count": 103,
   "id": "ad0f6e17-32c4-46df-8f54-599c475b3ada",
   "metadata": {},
   "outputs": [
    {
     "name": "stdout",
     "output_type": "stream",
     "text": [
      "   Student_ID  Age  Gender  High_School_GPA\n",
      "0      S00001   24    Male             3.58\n",
      "1      S00002   21   Other             2.52\n",
      "2      S00003   28  Female             3.42\n",
      "3      S00004   25    Male             2.43\n",
      "4      S00005   22    Male             2.08\n",
      "..        ...  ...     ...              ...\n",
      "94     S00095   26  Female             3.58\n",
      "95     S00096   29   Other             3.41\n",
      "96     S00097   29  Female             3.18\n",
      "97     S00098   29  Female             2.90\n",
      "98     S00099   26    Male             3.72\n",
      "\n",
      "[99 rows x 4 columns]\n"
     ]
    }
   ],
   "source": [
    "print(df.iloc[:,[0,1,2,3]])\n",
    "#we can get only specified rows ,cols with range also"
   ]
  },
  {
   "cell_type": "code",
   "execution_count": 111,
   "id": "6d7e264c-2015-4648-b536-ba6e495b170b",
   "metadata": {},
   "outputs": [
    {
     "name": "stdout",
     "output_type": "stream",
     "text": [
      "   Student_ID  Age  Gender  High_School_GPA Field_of_Study\n",
      "32     S00033   18    Male             3.61    Engineering\n",
      "67     S00068   18    Male             3.58    Mathematics\n",
      "26     S00027   18  Female             2.25           Arts\n",
      "69     S00070   19  Female             2.23            Law\n",
      "23     S00024   19  Female             2.88       Medicine\n",
      "..        ...  ...     ...              ...            ...\n",
      "61     S00062   29    Male             2.27    Engineering\n",
      "36     S00037   29  Female             3.88    Engineering\n",
      "64     S00065   29  Female             3.03    Engineering\n",
      "80     S00081   29    Male             3.03       Medicine\n",
      "21     S00022   29    Male             3.39       Business\n",
      "\n",
      "[99 rows x 5 columns]\n",
      "   Student_ID  Age  Gender  High_School_GPA    Field_of_Study\n",
      "80     S00081   29    Male             3.03          Medicine\n",
      "86     S00087   29    Male             3.95              Arts\n",
      "61     S00062   29    Male             2.27       Engineering\n",
      "62     S00063   29  Female             2.47  Computer Science\n",
      "64     S00065   29  Female             3.03       Engineering\n",
      "..        ...  ...     ...              ...               ...\n",
      "59     S00060   19  Female             2.32          Business\n",
      "50     S00051   19    Male             3.66  Computer Science\n",
      "32     S00033   18    Male             3.61       Engineering\n",
      "67     S00068   18    Male             3.58       Mathematics\n",
      "26     S00027   18  Female             2.25              Arts\n",
      "\n",
      "[99 rows x 5 columns]\n",
      "   Student_ID  Age  Gender  High_School_GPA Field_of_Study\n",
      "26     S00027   18  Female             2.25           Arts\n",
      "32     S00033   18    Male             3.61    Engineering\n",
      "67     S00068   18    Male             3.58    Mathematics\n",
      "19     S00020   19  Female             2.99    Mathematics\n",
      "23     S00024   19  Female             2.88       Medicine\n",
      "..        ...  ...     ...              ...            ...\n",
      "21     S00022   29    Male             3.39       Business\n",
      "61     S00062   29    Male             2.27    Engineering\n",
      "80     S00081   29    Male             3.03       Medicine\n",
      "86     S00087   29    Male             3.95           Arts\n",
      "95     S00096   29   Other             3.41    Mathematics\n",
      "\n",
      "[99 rows x 5 columns]\n",
      "   Student_ID  Age  Gender  High_School_GPA Field_of_Study\n",
      "24     S00025   29  Female             2.13    Engineering\n",
      "27     S00028   29  Female             3.81    Engineering\n",
      "30     S00031   29  Female             3.49    Engineering\n",
      "36     S00037   29  Female             3.88    Engineering\n",
      "37     S00038   29  Female             2.97           Arts\n",
      "..        ...  ...     ...              ...            ...\n",
      "81     S00082   19    Male             2.34    Mathematics\n",
      "90     S00091   19    Male             3.21       Medicine\n",
      "26     S00027   18  Female             2.25           Arts\n",
      "32     S00033   18    Male             3.61    Engineering\n",
      "67     S00068   18    Male             3.58    Mathematics\n",
      "\n",
      "[99 rows x 5 columns]\n"
     ]
    }
   ],
   "source": [
    "#sorting\n",
    "print(df.sort_values(\"Age\"))\n",
    "print(df.sort_values(\"Age\",ascending=False))\n",
    "\n",
    "print(df.sort_values([\"Age\",\"Gender\"]))\n",
    "print(df.sort_values([\"Age\",\"Gender\"],ascending=[0,1]))"
   ]
  },
  {
   "cell_type": "code",
   "execution_count": 113,
   "id": "0db52d02-254c-425f-a496-46e86e822cac",
   "metadata": {},
   "outputs": [
    {
     "name": "stdout",
     "output_type": "stream",
     "text": [
      "   Student_ID  Age  Gender  High_School_GPA    Field_of_Study  total\n",
      "0      S00001   24    Male             3.58              Arts     67\n",
      "1      S00002   21   Other             2.52               Law     67\n",
      "2      S00003   28  Female             3.42          Medicine     67\n",
      "3      S00004   25    Male             2.43  Computer Science     67\n",
      "4      S00005   22    Male             2.08       Engineering     67\n",
      "..        ...  ...     ...              ...               ...    ...\n",
      "94     S00095   26  Female             3.58          Business     67\n",
      "95     S00096   29   Other             3.41       Mathematics     67\n",
      "96     S00097   29  Female             3.18  Computer Science     67\n",
      "97     S00098   29  Female             2.90               Law     67\n",
      "98     S00099   26    Male             3.72       Engineering     67\n",
      "\n",
      "[99 rows x 6 columns]\n"
     ]
    }
   ],
   "source": [
    "#adding col\n",
    "df['total']=67\n",
    "print(df)"
   ]
  },
  {
   "cell_type": "code",
   "execution_count": 127,
   "id": "4938dd7b-9198-4dbe-b5ab-bfeb72ed2c9f",
   "metadata": {},
   "outputs": [
    {
     "ename": "ValueError",
     "evalue": "Excel file format cannot be determined, you must specify an engine manually.",
     "output_type": "error",
     "traceback": [
      "\u001b[0;31m---------------------------------------------------------------------------\u001b[0m",
      "\u001b[0;31mValueError\u001b[0m                                Traceback (most recent call last)",
      "Cell \u001b[0;32mIn[127], line 4\u001b[0m\n\u001b[1;32m      1\u001b[0m \u001b[38;5;66;03m#to know whether there are duplicates present or not\u001b[39;00m\n\u001b[1;32m      2\u001b[0m \u001b[38;5;66;03m#dataset\u001b[39;00m\n\u001b[1;32m      3\u001b[0m \u001b[38;5;28;01mimport\u001b[39;00m \u001b[38;5;21;01mpandas\u001b[39;00m \u001b[38;5;28;01mas\u001b[39;00m \u001b[38;5;21;01mpd\u001b[39;00m\n\u001b[0;32m----> 4\u001b[0m d\u001b[38;5;241m=\u001b[39mpd\u001b[38;5;241m.\u001b[39mread_excel(\u001b[38;5;124m\"\u001b[39m\u001b[38;5;124m//home//rguktrkvalley//Documents//E2//S2//DSP_LAB//dataframe.xlsx\u001b[39m\u001b[38;5;124m\"\u001b[39m)\n\u001b[1;32m      5\u001b[0m df\u001b[38;5;241m=\u001b[39mpd\u001b[38;5;241m.\u001b[39mDataFrame(d)\n\u001b[1;32m      6\u001b[0m \u001b[38;5;28mprint\u001b[39m(df\u001b[38;5;241m.\u001b[39mduplicated())\n",
      "File \u001b[0;32m~/anaconda3/lib/python3.12/site-packages/pandas/io/excel/_base.py:495\u001b[0m, in \u001b[0;36mread_excel\u001b[0;34m(io, sheet_name, header, names, index_col, usecols, dtype, engine, converters, true_values, false_values, skiprows, nrows, na_values, keep_default_na, na_filter, verbose, parse_dates, date_parser, date_format, thousands, decimal, comment, skipfooter, storage_options, dtype_backend, engine_kwargs)\u001b[0m\n\u001b[1;32m    493\u001b[0m \u001b[38;5;28;01mif\u001b[39;00m \u001b[38;5;129;01mnot\u001b[39;00m \u001b[38;5;28misinstance\u001b[39m(io, ExcelFile):\n\u001b[1;32m    494\u001b[0m     should_close \u001b[38;5;241m=\u001b[39m \u001b[38;5;28;01mTrue\u001b[39;00m\n\u001b[0;32m--> 495\u001b[0m     io \u001b[38;5;241m=\u001b[39m ExcelFile(\n\u001b[1;32m    496\u001b[0m         io,\n\u001b[1;32m    497\u001b[0m         storage_options\u001b[38;5;241m=\u001b[39mstorage_options,\n\u001b[1;32m    498\u001b[0m         engine\u001b[38;5;241m=\u001b[39mengine,\n\u001b[1;32m    499\u001b[0m         engine_kwargs\u001b[38;5;241m=\u001b[39mengine_kwargs,\n\u001b[1;32m    500\u001b[0m     )\n\u001b[1;32m    501\u001b[0m \u001b[38;5;28;01melif\u001b[39;00m engine \u001b[38;5;129;01mand\u001b[39;00m engine \u001b[38;5;241m!=\u001b[39m io\u001b[38;5;241m.\u001b[39mengine:\n\u001b[1;32m    502\u001b[0m     \u001b[38;5;28;01mraise\u001b[39;00m \u001b[38;5;167;01mValueError\u001b[39;00m(\n\u001b[1;32m    503\u001b[0m         \u001b[38;5;124m\"\u001b[39m\u001b[38;5;124mEngine should not be specified when passing \u001b[39m\u001b[38;5;124m\"\u001b[39m\n\u001b[1;32m    504\u001b[0m         \u001b[38;5;124m\"\u001b[39m\u001b[38;5;124man ExcelFile - ExcelFile already has the engine set\u001b[39m\u001b[38;5;124m\"\u001b[39m\n\u001b[1;32m    505\u001b[0m     )\n",
      "File \u001b[0;32m~/anaconda3/lib/python3.12/site-packages/pandas/io/excel/_base.py:1554\u001b[0m, in \u001b[0;36mExcelFile.__init__\u001b[0;34m(self, path_or_buffer, engine, storage_options, engine_kwargs)\u001b[0m\n\u001b[1;32m   1550\u001b[0m     ext \u001b[38;5;241m=\u001b[39m inspect_excel_format(\n\u001b[1;32m   1551\u001b[0m         content_or_path\u001b[38;5;241m=\u001b[39mpath_or_buffer, storage_options\u001b[38;5;241m=\u001b[39mstorage_options\n\u001b[1;32m   1552\u001b[0m     )\n\u001b[1;32m   1553\u001b[0m     \u001b[38;5;28;01mif\u001b[39;00m ext \u001b[38;5;129;01mis\u001b[39;00m \u001b[38;5;28;01mNone\u001b[39;00m:\n\u001b[0;32m-> 1554\u001b[0m         \u001b[38;5;28;01mraise\u001b[39;00m \u001b[38;5;167;01mValueError\u001b[39;00m(\n\u001b[1;32m   1555\u001b[0m             \u001b[38;5;124m\"\u001b[39m\u001b[38;5;124mExcel file format cannot be determined, you must specify \u001b[39m\u001b[38;5;124m\"\u001b[39m\n\u001b[1;32m   1556\u001b[0m             \u001b[38;5;124m\"\u001b[39m\u001b[38;5;124man engine manually.\u001b[39m\u001b[38;5;124m\"\u001b[39m\n\u001b[1;32m   1557\u001b[0m         )\n\u001b[1;32m   1559\u001b[0m engine \u001b[38;5;241m=\u001b[39m config\u001b[38;5;241m.\u001b[39mget_option(\u001b[38;5;124mf\u001b[39m\u001b[38;5;124m\"\u001b[39m\u001b[38;5;124mio.excel.\u001b[39m\u001b[38;5;132;01m{\u001b[39;00mext\u001b[38;5;132;01m}\u001b[39;00m\u001b[38;5;124m.reader\u001b[39m\u001b[38;5;124m\"\u001b[39m, silent\u001b[38;5;241m=\u001b[39m\u001b[38;5;28;01mTrue\u001b[39;00m)\n\u001b[1;32m   1560\u001b[0m \u001b[38;5;28;01mif\u001b[39;00m engine \u001b[38;5;241m==\u001b[39m \u001b[38;5;124m\"\u001b[39m\u001b[38;5;124mauto\u001b[39m\u001b[38;5;124m\"\u001b[39m:\n",
      "\u001b[0;31mValueError\u001b[0m: Excel file format cannot be determined, you must specify an engine manually."
     ]
    }
   ],
   "source": [
    "#to know whether there are duplicates present or not\n",
    "#dataset\n",
    "import pandas as pd\n",
    "d=pd.read_csv(\"/home/rguktrkvalley/Documents/E2/S2/DSP_LAB/dataframe.xlsx\")\n",
    "df=pd.DataFrame(d)\n",
    "print(df.duplicated())"
   ]
  },
  {
   "cell_type": "code",
   "execution_count": 123,
   "id": "f6a5817e-7f2a-4282-bb7f-e00dbe5ef157",
   "metadata": {},
   "outputs": [
    {
     "name": "stdout",
     "output_type": "stream",
     "text": [
      "   Student_ID  Age  Gender  High_School_GPA    Field_of_Study\n",
      "0      S00001   24    Male             3.58              Arts\n",
      "1      S00002   21   Other             2.52               Law\n",
      "2      S00003   28  Female             3.42          Medicine\n",
      "3      S00004   25    Male             2.43  Computer Science\n",
      "4      S00005   22    Male             2.08       Engineering\n",
      "..        ...  ...     ...              ...               ...\n",
      "56     S00013   22  Female             2.06       Engineering\n",
      "57     S00014   21    Male             3.21              Arts\n",
      "58     S00015   25    Male             2.79          Business\n",
      "59     S00016   25  Female             2.60  Computer Science\n",
      "60     S00017   20  Female             3.73               Law\n",
      "\n",
      "[61 rows x 5 columns]\n",
      "   Student_ID  Age  Gender  High_School_GPA    Field_of_Study\n",
      "0      S00001   24    Male             3.58              Arts\n",
      "1      S00002   21   Other             2.52               Law\n",
      "2      S00003   28  Female             3.42          Medicine\n",
      "3      S00004   25    Male             2.43  Computer Science\n",
      "4      S00005   22    Male             2.08       Engineering\n",
      "5      S00006   24    Male             2.40               Law\n",
      "6      S00007   27    Male             2.36  Computer Science\n",
      "7      S00008   20    Male             2.68  Computer Science\n",
      "8      S00009   24    Male             2.84          Business\n",
      "9      S00010   28    Male             3.02  Computer Science\n",
      "10     S00011   28  Female             2.95       Mathematics\n",
      "11     S00012   25  Female             2.54               Law\n",
      "12     S00013   22  Female             2.06       Engineering\n",
      "13     S00014   21    Male             3.21              Arts\n",
      "14     S00015   25    Male             2.79          Business\n",
      "15     S00016   25  Female             2.60  Computer Science\n",
      "16     S00017   20  Female             3.73               Law\n",
      "17     S00018   23    Male             3.49       Mathematics\n",
      "18     S00019   22  Female             3.72       Mathematics\n",
      "19     S00020   19  Female             2.99       Mathematics\n",
      "20     S00021   25  Female             2.26          Medicine\n",
      "21     S00022   29    Male             3.39          Business\n",
      "22     S00023   23  Female             2.41       Engineering\n",
      "23     S00024   19  Female             2.88          Medicine\n",
      "24     S00025   29  Female             2.13       Engineering\n",
      "25     S00026   22  Female             3.65          Medicine\n",
      "26     S00027   18  Female             2.25              Arts\n",
      "27     S00028   29  Female             3.81       Engineering\n",
      "28     S00029   27    Male             3.73          Medicine\n",
      "29     S00030   23  Female             2.93       Mathematics\n",
      "30     S00031   29  Female             3.49       Engineering\n",
      "31     S00032   26  Female             3.24          Business\n",
      "32     S00033   18    Male             3.61       Engineering\n",
      "33     S00034   28    Male             2.86               Law\n",
      "34     S00035   28  Female             3.57       Engineering\n",
      "35     S00036   27  Female             2.92          Medicine\n",
      "36     S00037   29  Female             3.88       Engineering\n",
      "37     S00038   29  Female             2.97              Arts\n",
      "38     S00039   20  Female             2.93  Computer Science\n",
      "39     S00040   29  Female             3.57          Business\n",
      "40     S00041   24  Female             3.64               Law\n",
      "41     S00042   21  Female             3.11       Mathematics\n",
      "42     S00043   26  Female             2.36          Medicine\n",
      "43     S00044   20    Male             2.94       Mathematics\n",
      "44     S00045   22    Male             3.94       Mathematics\n",
      "45     S00046   20  Female             3.51       Engineering\n",
      "46     S00047   24    Male             3.62       Engineering\n",
      "47     S00048   22    Male             2.07       Engineering\n"
     ]
    }
   ],
   "source": [
    "df.drop_duplicates()  #to remove duplicates temporarily\n",
    "print(df)\n",
    "df.drop_duplicates(inplace=True) #permanently\n",
    "print(df)"
   ]
  },
  {
   "cell_type": "code",
   "execution_count": 13,
   "id": "fae4338c-fe99-467b-988d-2762f08a5f1d",
   "metadata": {},
   "outputs": [
    {
     "name": "stdout",
     "output_type": "stream",
     "text": [
      "   Student_ID  Age  Gender  High_School_GPA    Field_of_Study\n",
      "1      S00002   21   Other             2.52               Law\n",
      "2      S00003   28  Female             3.42          Medicine\n",
      "3      S00004   25    Male             2.43  Computer Science\n",
      "4      S00005   22    Male             2.08       Engineering\n",
      "5      S00006   24    Male             2.40               Law\n",
      "6      S00007   27    Male             2.36  Computer Science\n",
      "7      S00008   20    Male              NaN  Computer Science\n",
      "8      S00009   24    Male             2.84          Business\n",
      "9      S00010   28    Male             3.02  Computer Science\n",
      "10     S00011   28  Female             2.95       Mathematics\n",
      "11     S00012   25  Female             2.54               Law\n",
      "12     S00013   22  Female             2.06       Engineering\n",
      "13     S00014   21    Male             3.21              Arts\n",
      "14     S00015   25    Male             2.79          Business\n",
      "15     S00016   25  Female             2.60  Computer Science\n",
      "16     S00017   20  Female             3.73               Law\n",
      "17     S00018   23     NaN             3.49       Mathematics\n",
      "18     S00019   22  Female             3.72       Mathematics\n",
      "19     S00020   19  Female             2.99       Mathematics\n",
      "   Student_ID  Age  Gender  High_School_GPA    Field_of_Study\n",
      "1      S00002   21   Other             2.52               Law\n",
      "2      S00003   28  Female             3.42          Medicine\n",
      "3      S00004   25    Male             2.43  Computer Science\n",
      "4      S00005   22    Male             2.08       Engineering\n",
      "5      S00006   24    Male             2.40               Law\n",
      "6      S00007   27    Male             2.36  Computer Science\n",
      "7      S00008   20    Male              NaN  Computer Science\n",
      "8      S00009   24    Male             2.84          Business\n",
      "9      S00010   28    Male             3.02  Computer Science\n",
      "10     S00011   28  Female             2.95       Mathematics\n",
      "11     S00012   25  Female             2.54               Law\n",
      "12     S00013   22  Female             2.06       Engineering\n",
      "13     S00014   21    Male             3.21              Arts\n",
      "14     S00015   25    Male             2.79          Business\n",
      "15     S00016   25  Female             2.60  Computer Science\n",
      "16     S00017   20  Female             3.73               Law\n",
      "17     S00018   23     NaN             3.49       Mathematics\n",
      "18     S00019   22  Female             3.72       Mathematics\n",
      "19     S00020   19  Female             2.99       Mathematics\n",
      "   Student_ID  Age  Gender  High_School_GPA    Field_of_Study\n",
      "1      S00002   21   Other             2.52               Law\n",
      "2      S00003   28  Female             3.42          Medicine\n",
      "3      S00004   25    Male             2.43  Computer Science\n",
      "4      S00005   22    Male             2.08       Engineering\n",
      "5      S00006   24    Male             2.40               Law\n",
      "6      S00007   27    Male             2.36  Computer Science\n",
      "7      S00008   20    Male              NaN  Computer Science\n",
      "8      S00009   24    Male             2.84          Business\n",
      "9      S00010   28    Male             3.02  Computer Science\n",
      "10     S00011   28  Female             2.95       Mathematics\n",
      "11     S00012   25  Female             2.54               Law\n",
      "12     S00013   22  Female             2.06       Engineering\n",
      "13     S00014   21    Male             3.21              Arts\n",
      "14     S00015   25    Male             2.79          Business\n",
      "15     S00016   25  Female             2.60  Computer Science\n",
      "16     S00017   20  Female             3.73               Law\n",
      "17     S00018   23     NaN             3.49       Mathematics\n",
      "18     S00019   22  Female             3.72       Mathematics\n",
      "19     S00020   19  Female             2.99       Mathematics\n",
      "   Student_ID  Age  Gender  High_School_GPA    Field_of_Study\n",
      "1      S00002   21   Other             2.52               Law\n",
      "2      S00003   28  Female             3.42          Medicine\n",
      "3      S00004   25    Male             2.43  Computer Science\n",
      "4      S00005   22    Male             2.08       Engineering\n",
      "5      S00006   24    Male             2.40               Law\n",
      "6      S00007   27    Male             2.36  Computer Science\n",
      "8      S00009   24    Male             2.84          Business\n",
      "9      S00010   28    Male             3.02  Computer Science\n",
      "10     S00011   28  Female             2.95       Mathematics\n",
      "11     S00012   25  Female             2.54               Law\n",
      "12     S00013   22  Female             2.06       Engineering\n",
      "13     S00014   21    Male             3.21              Arts\n",
      "14     S00015   25    Male             2.79          Business\n",
      "15     S00016   25  Female             2.60  Computer Science\n",
      "16     S00017   20  Female             3.73               Law\n",
      "18     S00019   22  Female             3.72       Mathematics\n",
      "19     S00020   19  Female             2.99       Mathematics\n",
      "20     S00021   25  Female             2.26          Medicine\n",
      "21     S00022   29    Male             3.39          Business\n",
      "   Student_ID  Age  Gender  High_School_GPA    Field_of_Study\n",
      "1      S00002   21   Other             2.52               Law\n",
      "2      S00003   28  Female             3.42          Medicine\n",
      "3      S00004   25    Male             2.43  Computer Science\n",
      "4      S00005   22    Male             2.08       Engineering\n",
      "5      S00006   24    Male             2.40               Law\n",
      "6      S00007   27    Male             2.36  Computer Science\n",
      "8      S00009   24    Male             2.84          Business\n",
      "9      S00010   28    Male             3.02  Computer Science\n",
      "10     S00011   28  Female             2.95       Mathematics\n",
      "11     S00012   25  Female             2.54               Law\n",
      "12     S00013   22  Female             2.06       Engineering\n",
      "13     S00014   21    Male             3.21              Arts\n",
      "14     S00015   25    Male             2.79          Business\n",
      "15     S00016   25  Female             2.60  Computer Science\n",
      "16     S00017   20  Female             3.73               Law\n",
      "18     S00019   22  Female             3.72       Mathematics\n",
      "19     S00020   19  Female             2.99       Mathematics\n",
      "20     S00021   25  Female             2.26          Medicine\n",
      "21     S00022   29    Male             3.39          Business\n"
     ]
    }
   ],
   "source": [
    "#Handling missing data\n",
    "import pandas as pd\n",
    "d=pd.read_csv(\"/home/rguktrkvalley/Documents/E2/S2/DSP_LAB/dataframe_missing.csv\")\n",
    "df=pd.DataFrame(d)\n",
    "print(df[1:20])\n",
    "\n",
    "#fill with default value\n",
    "df[\"Gender\"].fillna(60)\n",
    "print(df[1:20])\n",
    "\n",
    "\n",
    "df.dropna()\n",
    "print(df[1:20])\n",
    "df.dropna(inplace=True)\n",
    "print(df[1:20])\n",
    "\n",
    "\n",
    "#fill with default value\n",
    "df[\"Gender\"].fillna(60)\n",
    "print(df[1:20])"
   ]
  },
  {
   "cell_type": "code",
   "execution_count": 23,
   "id": "c95dfc8c-6dda-4bc2-aa48-c07c2524e094",
   "metadata": {},
   "outputs": [
    {
     "name": "stdout",
     "output_type": "stream",
     "text": [
      "   Student_ID  Age  Gender  High_School_GPA    Field_of_Study\n",
      "0      S00001   24    Male             3.58              Arts\n",
      "2      S00003   28  Female             3.42          Medicine\n",
      "3      S00004   25    Male             2.43  Computer Science\n",
      "5      S00006   24    Male             2.40               Law\n",
      "6      S00007   27    Male             2.36  Computer Science\n",
      "8      S00009   24    Male             2.84          Business\n",
      "9      S00010   28    Male             3.02  Computer Science\n",
      "10     S00011   28  Female             2.95       Mathematics\n",
      "11     S00012   25  Female             2.54               Law\n",
      "14     S00015   25    Male             2.79          Business\n",
      "15     S00016   25  Female             2.60  Computer Science\n",
      "20     S00021   25  Female             2.26          Medicine\n",
      "21     S00022   29    Male             3.39          Business\n",
      "22     S00023   23  Female             2.41       Engineering\n",
      "24     S00025   29  Female             2.13       Engineering\n",
      "27     S00028   29  Female             3.81       Engineering\n",
      "28     S00029   27    Male             3.73          Medicine\n",
      "29     S00030   23  Female             2.93       Mathematics\n",
      "30     S00031   29  Female             3.49       Engineering\n",
      "31     S00032   26  Female             3.24          Business\n",
      "33     S00034   28    Male             2.86               Law\n",
      "34     S00035   28  Female             3.57       Engineering\n",
      "35     S00036   27  Female             2.92          Medicine\n",
      "36     S00037   29  Female             3.88       Engineering\n",
      "37     S00038   29  Female             2.97              Arts\n",
      "39     S00040   29  Female             3.57          Business\n",
      "40     S00041   24  Female             3.64               Law\n",
      "42     S00043   26  Female             2.36          Medicine\n",
      "46     S00047   24    Male             3.62       Engineering\n",
      "49     S00006   24    Male             2.40               Law\n",
      "50     S00007   27    Male             2.36  Computer Science\n",
      "52     S00009   24    Male             2.84          Business\n",
      "53     S00010   28    Male             3.02  Computer Science\n",
      "54     S00011   28  Female             2.95       Mathematics\n",
      "55     S00012   25  Female             2.54               Law\n",
      "58     S00015   25    Male             2.79          Business\n",
      "59     S00016   25  Female             2.60  Computer Science\n",
      "   Student_ID  Age  Gender  High_School_GPA Field_of_Study\n",
      "0      S00001   24    Male             3.58           Arts\n",
      "5      S00006   24    Male             2.40            Law\n",
      "8      S00009   24    Male             2.84       Business\n",
      "22     S00023   23  Female             2.41    Engineering\n",
      "29     S00030   23  Female             2.93    Mathematics\n",
      "40     S00041   24  Female             3.64            Law\n",
      "46     S00047   24    Male             3.62    Engineering\n",
      "49     S00006   24    Male             2.40            Law\n",
      "52     S00009   24    Male             2.84       Business\n"
     ]
    }
   ],
   "source": [
    "#data filtering \n",
    "print(df.loc[df[\"Age\"]>22])\n",
    "print(df.loc[(df[\"Age\"]>22) & (df[\"Age\"]<25)])"
   ]
  },
  {
   "cell_type": "code",
   "execution_count": 19,
   "id": "53f4e74c-d9c0-4ce4-a2ae-e80db7f53e9d",
   "metadata": {},
   "outputs": [
    {
     "name": "stdout",
     "output_type": "stream",
     "text": [
      "   Student_ID  Age  Gender  High_School_GPA Field_of_Study\n",
      "4      S00005   22    Male             2.08    Engineering\n",
      "12     S00013   22  Female             2.06    Engineering\n",
      "22     S00023   23  Female             2.41    Engineering\n",
      "24     S00025   29  Female             2.13    Engineering\n",
      "27     S00028   29  Female             3.81    Engineering\n",
      "30     S00031   29  Female             3.49    Engineering\n",
      "32     S00033   18    Male             3.61    Engineering\n",
      "34     S00035   28  Female             3.57    Engineering\n",
      "36     S00037   29  Female             3.88    Engineering\n",
      "45     S00046   20  Female             3.51    Engineering\n",
      "46     S00047   24    Male             3.62    Engineering\n",
      "47     S00048   22    Male             2.07    Engineering\n",
      "48     S00005   22    Male             2.08    Engineering\n",
      "56     S00013   22  Female             2.06    Engineering\n",
      "   Student_ID  Age  Gender  High_School_GPA Field_of_Study\n",
      "1      S00002   21   Other             2.52            Law\n",
      "5      S00006   24    Male             2.40            Law\n",
      "11     S00012   25  Female             2.54            Law\n",
      "16     S00017   20  Female             3.73            Law\n",
      "33     S00034   28    Male             2.86            Law\n",
      "40     S00041   24  Female             3.64            Law\n",
      "49     S00006   24    Male             2.40            Law\n",
      "55     S00012   25  Female             2.54            Law\n",
      "60     S00017   20  Female             3.73            Law\n"
     ]
    }
   ],
   "source": [
    "print(df.loc[df[\"Field_of_Study\"].str.contains(\"g\")])\n",
    "print(df.loc[df[\"Field_of_Study\"].str.startswith(\"L\")])"
   ]
  },
  {
   "cell_type": "code",
   "execution_count": null,
   "id": "3bbd8a40-1960-404a-a1f2-97fbe1f9b04a",
   "metadata": {},
   "outputs": [],
   "source": []
  }
 ],
 "metadata": {
  "kernelspec": {
   "display_name": "Python [conda env:base] *",
   "language": "python",
   "name": "conda-base-py"
  },
  "language_info": {
   "codemirror_mode": {
    "name": "ipython",
    "version": 3
   },
   "file_extension": ".py",
   "mimetype": "text/x-python",
   "name": "python",
   "nbconvert_exporter": "python",
   "pygments_lexer": "ipython3",
   "version": "3.12.7"
  }
 },
 "nbformat": 4,
 "nbformat_minor": 5
}
