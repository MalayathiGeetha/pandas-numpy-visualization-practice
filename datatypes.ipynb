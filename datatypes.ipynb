{
 "cells": [
  {
   "cell_type": "code",
   "execution_count": 1,
   "id": "aa647880-8c5c-471f-870a-6791cd910e99",
   "metadata": {},
   "outputs": [
    {
     "name": "stdout",
     "output_type": "stream",
     "text": [
      "[10, 10, 'python', 'c', 10.5]\n",
      "[10, 10, 'python', 'c', 10.5, 4]\n",
      "['Day', 10, 10, 'python', 'c', 10.5, 4]\n",
      "['Day', 10, 'python', 'c', 10.5, 4]\n",
      "['Day', 10, 'python', 'c', 10.5]\n",
      "[10, 'python', 'c', 10.5]\n",
      "[]\n",
      "['10', '20', '30', '40']\n"
     ]
    }
   ],
   "source": [
    "list = [10,10,\"python\",'c',10.5]\n",
    "print(list)\n",
    "list.append(4) \n",
    "print(list)\n",
    "list.insert(0,\"Day\")\n",
    "print(list)\n",
    "list.remove(10) \n",
    "print(list)\n",
    "list.pop() \n",
    "print(list)\n",
    "list.pop(0)\n",
    "print(list)\n",
    "list.clear() \n",
    "print(list)\n",
    "list1 = ['10','30','20','40']\n",
    "list1.sort() \n",
    "print(list1)"
   ]
  },
  {
   "cell_type": "code",
   "execution_count": 3,
   "id": "1767f1c5-8b66-458e-9fc3-f7d8162cd0cf",
   "metadata": {},
   "outputs": [
    {
     "name": "stdout",
     "output_type": "stream",
     "text": [
      "[1, 2, 3, 4, 5, 6]\n",
      "3\n",
      "6\n",
      "[1, 2]\n",
      "[3, 4, 5, 6]\n",
      "[1, 2, 3, 4, 5]\n",
      "[1, 3, 5]\n",
      "[6, 5, 4, 3, 2, 1]\n"
     ]
    }
   ],
   "source": [
    "list = [1,2,3,4,5,6]\n",
    "print(list) \n",
    "print(list[2])\n",
    "print(list[-1])\n",
    "print(list[:2])\n",
    "print(list[2:])\n",
    "print(list[:-1]) \n",
    "print(list[::2])\n",
    "print(list[::-1]) "
   ]
  },
  {
   "cell_type": "code",
   "execution_count": 7,
   "id": "5dda558a-ad1b-4dcc-b605-12d4c7d99f8a",
   "metadata": {},
   "outputs": [
    {
     "name": "stdout",
     "output_type": "stream",
     "text": [
      "(7, 8, 9, 1, 2, 3, 4)\n",
      "(7, 8, 9, 1, 2, 3, 4, 7, 8, 9, 1, 2, 3, 4)\n",
      "(7, 8, 9, 1, 2, 3, 4)\n",
      "9\n",
      "4\n",
      "(7, 8)\n",
      "(9, 1, 2, 3, 4)\n",
      "(7, 8, 9, 1, 2, 3)\n",
      "(7, 9, 2, 4)\n",
      "(4, 3, 2, 1, 9, 8, 7)\n",
      "(4, 2, 9, 7)\n"
     ]
    }
   ],
   "source": [
    "tuple = (7,8,9,1,2,3,4)\n",
    "print(tuple)\n",
    "print(tuple*2)\n",
    "print(tuple) \n",
    "print(tuple[2])\n",
    "print(tuple[-1]) \n",
    "print(tuple[:2])\n",
    "print(tuple[2:]) \n",
    "print(tuple[:-1]) \n",
    "print(tuple[::2]) \n",
    "print(tuple[::-1]) \n",
    "print(tuple[::-2])"
   ]
  },
  {
   "cell_type": "code",
   "execution_count": 9,
   "id": "d6325524-c66b-4bc1-97f7-2496dba3e7ac",
   "metadata": {},
   "outputs": [
    {
     "name": "stdout",
     "output_type": "stream",
     "text": [
      "(10, 200, 30, 40, 300)\n",
      "5\n",
      "10\n",
      "300\n",
      "1\n",
      "4\n"
     ]
    }
   ],
   "source": [
    "tuple = (10,200,30,40,300)\n",
    "print(tuple) \n",
    "print(len(tuple)) \n",
    "print(min(tuple))\n",
    "print(max(tuple)) \n",
    "print(tuple.count(10)) \n",
    "print(tuple.index(300))"
   ]
  },
  {
   "cell_type": "code",
   "execution_count": 13,
   "id": "03654cf8-2ac3-46b7-a2f1-20ed1621619d",
   "metadata": {},
   "outputs": [
    {
     "name": "stdout",
     "output_type": "stream",
     "text": [
      "{'hello', 'hi'}\n",
      "{'Day2', 'hello', 'hi'}\n",
      "{'hi', 'DAY2', 'hello', 'bootcamp', 'Day2'}\n",
      "{'DAY2', 'hello', 'bootcamp', 'Day2'}\n",
      "{'DAY2', 'hello', 'bootcamp'}\n",
      "{'DAY2', 'hello', 'bootcamp'}\n",
      "set()\n"
     ]
    }
   ],
   "source": [
    "set = {\"hi\",\"hello\"}\n",
    "print(set)\n",
    "set.add(\"Day2\") \n",
    "print(set)\n",
    "set.update(set,{\"bootcamp\",\"DAY2\"})\n",
    "print(set)\n",
    "set.pop() \n",
    "print(set)\n",
    "set.remove(\"Day2\") \n",
    "print(set)\n",
    "set.discard('hi') \n",
    "print(set)\n",
    "set.clear()\n",
    "print(set)"
   ]
  },
  {
   "cell_type": "code",
   "execution_count": 15,
   "id": "d374fd13-fc4a-4f80-b41c-ec6b72d25cba",
   "metadata": {},
   "outputs": [
    {
     "name": "stdout",
     "output_type": "stream",
     "text": [
      "{1: 'python', 2: 'Bootcamp', 3: 'Day2'}\n",
      "python\n",
      "{1: 'python', 2: 'Bootcamp', 3: 'Day2', 4: 'Success'}\n",
      "dict_values(['python', 'Bootcamp', 'Day2'])\n",
      "dict_keys([1, 2, 3])\n",
      "dict_items([(1, 'python'), (2, 'Bootcamp'), (3, 'Day2')])\n",
      "python\n",
      "3\n",
      "{1: 'python', 2: 'Bootcamp', 3: 'Day2', 4: 'Success'}\n",
      "{}\n"
     ]
    }
   ],
   "source": [
    "dict = { 1:\"python\",2:\"Bootcamp\",3:\"Day2\"}\n",
    "print(dict) \n",
    "print(dict[1]) \n",
    "dict[4]=\"Success\" \n",
    "print(dict)\n",
    "dict = { 1:\"python\",2:\"Bootcamp\",3:\"Day2\"}\n",
    "print(dict.values())\n",
    "print(dict.keys()) \n",
    "print(dict.items()) \n",
    "print(dict.get(1))\n",
    "print(len(dict)) \n",
    "dict.update({4:\"Success\"})\n",
    "print(dict)\n",
    "dict.clear()\n",
    "print(dict)"
   ]
  },
  {
   "cell_type": "code",
   "execution_count": null,
   "id": "e2063532-f5ca-481d-a5b1-b397e3a502ef",
   "metadata": {},
   "outputs": [],
   "source": []
  }
 ],
 "metadata": {
  "kernelspec": {
   "display_name": "Python [conda env:base] *",
   "language": "python",
   "name": "conda-base-py"
  },
  "language_info": {
   "codemirror_mode": {
    "name": "ipython",
    "version": 3
   },
   "file_extension": ".py",
   "mimetype": "text/x-python",
   "name": "python",
   "nbconvert_exporter": "python",
   "pygments_lexer": "ipython3",
   "version": "3.12.7"
  }
 },
 "nbformat": 4,
 "nbformat_minor": 5
}
