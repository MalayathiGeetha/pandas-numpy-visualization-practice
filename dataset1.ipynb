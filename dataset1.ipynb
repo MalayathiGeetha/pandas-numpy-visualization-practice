{
 "cells": [
  {
   "cell_type": "code",
   "execution_count": 1,
   "id": "1900a51a-c600-4c58-8810-1e97bb178a45",
   "metadata": {},
   "outputs": [
    {
     "name": "stdout",
     "output_type": "stream",
     "text": [
      "         NAME   AGE    WT   DSP  TOTAL\n",
      "0        raju   NaN  30.0  34.0     64\n",
      "1       surya  24.0  23.0  23.0     46\n",
      "2       kiran  23.0   NaN  29.0     63\n",
      "3         sam  35.0  23.0  40.0     63\n",
      "4      sreenu  22.0  29.0   NaN     64\n",
      "5        ajay  76.0  40.0  37.0     77\n",
      "6       vijay  27.0  35.0  35.0     70\n",
      "7     prabhas   NaN  37.0  29.0     66\n",
      "8       bunny  28.0  37.0  26.0     63\n",
      "9     anushka  25.0  36.0  24.0     60\n",
      "10       pspk  37.0  35.0  23.0     58\n",
      "11     mahesh  34.0  29.0  29.0     58\n",
      "12        ntr  32.0  33.0  40.0     66\n",
      "13  ramcharan  31.0  24.0  34.0     58\n",
      "14        ntr  32.0  33.0  40.0     66\n",
      "15       ntr   32.0  26.0  40.0     66\n",
      "16    sreenu   45.0  67.0   NaN     23\n",
      "17      kiran  23.0  34.0  29.0     63\n"
     ]
    }
   ],
   "source": [
    "import pandas as pd\n",
    "df=pd.read_excel(\"//home//rguktrkvalley//Documents//E2//S2//DSP_LAB//Marks.xlsx\")\n",
    "print(df)"
   ]
  },
  {
   "cell_type": "code",
   "execution_count": 13,
   "id": "e9d55382-5242-4342-89d9-419de6a7e3be",
   "metadata": {},
   "outputs": [
    {
     "name": "stdout",
     "output_type": "stream",
     "text": [
      "NAME     vijay\n",
      "AGE       76.0\n",
      "WT        67.0\n",
      "DSP       40.0\n",
      "TOTAL       77\n",
      "dtype: object\n",
      "NAME     vijay\n",
      "AGE       76.0\n",
      "WT        67.0\n",
      "DSP       40.0\n",
      "TOTAL       77\n",
      "dtype: object\n",
      "NAME     ajay\n",
      "AGE      22.0\n",
      "WT       23.0\n",
      "DSP      23.0\n",
      "TOTAL      23\n",
      "dtype: object\n",
      "571.0\n"
     ]
    }
   ],
   "source": [
    "print(df.max())\n",
    "print(df.max(axis=0))\n",
    "print(df.min(axis=0))\n",
    "print(df[\"WT\"].sum())"
   ]
  },
  {
   "cell_type": "code",
   "execution_count": 15,
   "id": "9257a01e-1613-4af7-affd-cf27fe1f8280",
   "metadata": {},
   "outputs": [
    {
     "name": "stdout",
     "output_type": "stream",
     "text": [
      "NAME     18\n",
      "AGE      16\n",
      "WT       17\n",
      "DSP      16\n",
      "TOTAL    18\n",
      "dtype: int64\n"
     ]
    }
   ],
   "source": [
    "print(df.count())"
   ]
  },
  {
   "cell_type": "code",
   "execution_count": 17,
   "id": "5d950714-c425-4f7a-9265-1383ce4d8083",
   "metadata": {},
   "outputs": [
    {
     "name": "stdout",
     "output_type": "stream",
     "text": [
      "0     4\n",
      "1     5\n",
      "2     4\n",
      "3     5\n",
      "4     4\n",
      "5     5\n",
      "6     5\n",
      "7     4\n",
      "8     5\n",
      "9     5\n",
      "10    5\n",
      "11    5\n",
      "12    5\n",
      "13    5\n",
      "14    5\n",
      "15    5\n",
      "16    4\n",
      "17    5\n",
      "dtype: int64\n"
     ]
    }
   ],
   "source": [
    "print(df.count(axis=1))"
   ]
  },
  {
   "cell_type": "code",
   "execution_count": 27,
   "id": "5b5b5af2-406e-4bb8-99d8-5edfcf3a9798",
   "metadata": {},
   "outputs": [
    {
     "name": "stdout",
     "output_type": "stream",
     "text": [
      "33.588235294117645\n",
      "33.0\n",
      "0    23.0\n",
      "1    29.0\n",
      "2    33.0\n",
      "3    35.0\n",
      "4    37.0\n",
      "Name: WT, dtype: float64\n",
      "101.25735294117646\n"
     ]
    }
   ],
   "source": [
    "print(df[\"WT\"].mean())\n",
    "\n",
    "print(df[\"WT\"].median())\n",
    "print(df[\"WT\"].mode())\n",
    "print(df[\"WT\"].var())\n"
   ]
  },
  {
   "cell_type": "code",
   "execution_count": 35,
   "id": "d99fc330-af87-462f-9d9f-00a31a591fc8",
   "metadata": {},
   "outputs": [
    {
     "name": "stdout",
     "output_type": "stream",
     "text": [
      "NAME      object\n",
      "AGE      float64\n",
      "WT       float64\n",
      "DSP      float64\n",
      "TOTAL      int64\n",
      "dtype: object\n"
     ]
    }
   ],
   "source": [
    "#data formatting \n",
    "#dropna,fillna,\n",
    "print(df.dtypes)"
   ]
  },
  {
   "cell_type": "code",
   "execution_count": 37,
   "id": "cc2976a6-fef3-43db-a181-e684d652ce44",
   "metadata": {},
   "outputs": [
    {
     "name": "stdout",
     "output_type": "stream",
     "text": [
      "         NAME   AGE    WT   DSP  TOTAL\n",
      "0        raju   NaN  30.0  34.0     64\n",
      "1       surya  24.0  23.0  23.0     46\n",
      "2       kiran  23.0   NaN  29.0     63\n",
      "3         sam  35.0  23.0  40.0     63\n",
      "4      sreenu  22.0  29.0   NaN     64\n",
      "5        ajay  76.0  40.0  37.0     77\n",
      "6       vijay  27.0  35.0  35.0     70\n",
      "7     prabhas   NaN  37.0  29.0     66\n",
      "8       bunny  28.0  37.0  26.0     63\n",
      "9     anushka  25.0  36.0  24.0     60\n",
      "10       pspk  37.0  35.0  23.0     58\n",
      "11     mahesh  34.0  29.0  29.0     58\n",
      "12        ntr  32.0  33.0  40.0     66\n",
      "13  ramcharan  31.0  24.0  34.0     58\n",
      "14        ntr  32.0  33.0  40.0     66\n",
      "15       ntr   32.0  26.0  40.0     66\n",
      "16    sreenu   45.0  67.0   NaN     23\n",
      "17      kiran  23.0  34.0  29.0     63\n"
     ]
    }
   ],
   "source": [
    "df[\"WT\"]=df[\"WT\"].astype('float')\n",
    "print(df)"
   ]
  },
  {
   "cell_type": "code",
   "execution_count": 39,
   "id": "80a726a4-6d72-43bc-a7cd-fbbd04453bed",
   "metadata": {},
   "outputs": [
    {
     "name": "stdout",
     "output_type": "stream",
     "text": [
      "         NAME   AGE    wt   DSP  TOTAL\n",
      "0        raju   NaN  30.0  34.0     64\n",
      "1       surya  24.0  23.0  23.0     46\n",
      "2       kiran  23.0   NaN  29.0     63\n",
      "3         sam  35.0  23.0  40.0     63\n",
      "4      sreenu  22.0  29.0   NaN     64\n",
      "5        ajay  76.0  40.0  37.0     77\n",
      "6       vijay  27.0  35.0  35.0     70\n",
      "7     prabhas   NaN  37.0  29.0     66\n",
      "8       bunny  28.0  37.0  26.0     63\n",
      "9     anushka  25.0  36.0  24.0     60\n",
      "10       pspk  37.0  35.0  23.0     58\n",
      "11     mahesh  34.0  29.0  29.0     58\n",
      "12        ntr  32.0  33.0  40.0     66\n",
      "13  ramcharan  31.0  24.0  34.0     58\n",
      "14        ntr  32.0  33.0  40.0     66\n",
      "15       ntr   32.0  26.0  40.0     66\n",
      "16    sreenu   45.0  67.0   NaN     23\n",
      "17      kiran  23.0  34.0  29.0     63\n"
     ]
    }
   ],
   "source": [
    "#renaming columns\n",
    "print(df.rename({\"WT\":\"wt\"},axis=\"columns\"))"
   ]
  },
  {
   "cell_type": "code",
   "execution_count": 43,
   "id": "e2f568c3-ec23-4b3c-a684-db7f8c809e6c",
   "metadata": {},
   "outputs": [
    {
     "name": "stdout",
     "output_type": "stream",
     "text": [
      "         NAME   AGE    WT   DSP  TOTAL\n",
      "1       surya  24.0  23.0  23.0     46\n",
      "3         sam  35.0  23.0  40.0     63\n",
      "13  ramcharan  31.0  24.0  34.0     58\n",
      "15       ntr   32.0  26.0  40.0     66\n",
      "4      sreenu  22.0  29.0   NaN     64\n",
      "11     mahesh  34.0  29.0  29.0     58\n",
      "0        raju   NaN  30.0  34.0     64\n",
      "14        ntr  32.0  33.0  40.0     66\n",
      "12        ntr  32.0  33.0  40.0     66\n",
      "17      kiran  23.0  34.0  29.0     63\n",
      "6       vijay  27.0  35.0  35.0     70\n",
      "10       pspk  37.0  35.0  23.0     58\n",
      "9     anushka  25.0  36.0  24.0     60\n",
      "8       bunny  28.0  37.0  26.0     63\n",
      "7     prabhas   NaN  37.0  29.0     66\n",
      "5        ajay  76.0  40.0  37.0     77\n",
      "16    sreenu   45.0  67.0   NaN     23\n",
      "2       kiran  23.0   NaN  29.0     63\n"
     ]
    }
   ],
   "source": [
    "print(df.sort_values(by=\"WT\"))"
   ]
  },
  {
   "cell_type": "code",
   "execution_count": 45,
   "id": "cedab6dd-9a39-40bf-8da5-35a019748811",
   "metadata": {},
   "outputs": [
    {
     "name": "stdout",
     "output_type": "stream",
     "text": [
      "           NAME   AGE    WT   DSP  TOTAL\n",
      "sub1       raju   NaN  30.0  34.0     64\n",
      "at2       surya  24.0  23.0  23.0     46\n",
      "at3       kiran  23.0   NaN  29.0     63\n",
      "3           sam  35.0  23.0  40.0     63\n",
      "4        sreenu  22.0  29.0   NaN     64\n",
      "5          ajay  76.0  40.0  37.0     77\n",
      "6         vijay  27.0  35.0  35.0     70\n",
      "7       prabhas   NaN  37.0  29.0     66\n",
      "8         bunny  28.0  37.0  26.0     63\n",
      "9       anushka  25.0  36.0  24.0     60\n",
      "10         pspk  37.0  35.0  23.0     58\n",
      "11       mahesh  34.0  29.0  29.0     58\n",
      "12          ntr  32.0  33.0  40.0     66\n",
      "13    ramcharan  31.0  24.0  34.0     58\n",
      "14          ntr  32.0  33.0  40.0     66\n",
      "15         ntr   32.0  26.0  40.0     66\n",
      "16      sreenu   45.0  67.0   NaN     23\n",
      "17        kiran  23.0  34.0  29.0     63\n"
     ]
    }
   ],
   "source": [
    "print(df.rename({0:\"sub1\",1:\"at2\",2:\"at3\"},axis=\"index\"))"
   ]
  },
  {
   "cell_type": "code",
   "execution_count": 49,
   "id": "d832e1a6-a97a-4485-87b7-97c7c65bdd45",
   "metadata": {},
   "outputs": [
    {
     "name": "stdout",
     "output_type": "stream",
     "text": [
      "     DSP    WT\n",
      "0   34.0  30.0\n",
      "1   23.0  23.0\n",
      "2   29.0   NaN\n",
      "3   40.0  23.0\n",
      "4    NaN  29.0\n",
      "5   37.0  40.0\n",
      "6   35.0  35.0\n",
      "7   29.0  37.0\n",
      "8   26.0  37.0\n",
      "9   24.0  36.0\n",
      "10  23.0  35.0\n",
      "11  29.0  29.0\n",
      "12  40.0  33.0\n",
      "13  34.0  24.0\n",
      "14  40.0  33.0\n",
      "15  40.0  26.0\n",
      "16   NaN  67.0\n",
      "17  29.0  34.0\n"
     ]
    }
   ],
   "source": [
    "#reorder columns\n",
    "print(df[[\"DSP\",\"WT\"]])"
   ]
  },
  {
   "cell_type": "code",
   "execution_count": 51,
   "id": "8162ea4e-0ca0-42b6-a5ad-36ab5ed79374",
   "metadata": {},
   "outputs": [
    {
     "name": "stdout",
     "output_type": "stream",
     "text": [
      "    NAME   AGE    WT   DSP  TOTAL\n",
      "1  surya  24.0  23.0  23.0     46\n",
      "0   raju   NaN  30.0  34.0     64\n",
      "2  kiran  23.0   NaN  29.0     63\n"
     ]
    }
   ],
   "source": [
    "#reorder rows\n",
    "print(df.iloc[[1,0,2]])"
   ]
  },
  {
   "cell_type": "code",
   "execution_count": null,
   "id": "1b02b023-75ca-4a05-a0b4-5a7f517d06b1",
   "metadata": {},
   "outputs": [],
   "source": []
  },
  {
   "cell_type": "code",
   "execution_count": 54,
   "id": "abd383ff-f27f-4ae6-8898-9b15c92b35e9",
   "metadata": {},
   "outputs": [
    {
     "name": "stdout",
     "output_type": "stream",
     "text": [
      "19.361305361305373\n",
      "0.00017533874076185296\n"
     ]
    }
   ],
   "source": [
    "#anova\n",
    "import scipy.stats as stats\n",
    "g1=[68,72,65,74,71]\n",
    "g2=[60,65,68,63,70]\n",
    "g3=[75,78,82,79,85]\n",
    "f_stat,p_value=stats.f_oneway(g1,g2,g3)\n",
    "print(f_stat)\n",
    "print(p_value)"
   ]
  },
  {
   "cell_type": "code",
   "execution_count": 58,
   "id": "7bcce29b-9724-4ff7-a5c0-127f1307d83a",
   "metadata": {},
   "outputs": [
    {
     "name": "stdout",
     "output_type": "stream",
     "text": [
      "Reject tje null hypothesis\n"
     ]
    }
   ],
   "source": [
    "if p_value < 0.05:\n",
    "    print(\"Reject tje null hypothesis\")\n",
    "else:\n",
    "    print(\"Fail to reject null hypothesis\")"
   ]
  },
  {
   "cell_type": "code",
   "execution_count": null,
   "id": "c6b26fc3-495e-4ea8-a7da-f14b7357b93a",
   "metadata": {},
   "outputs": [],
   "source": []
  }
 ],
 "metadata": {
  "kernelspec": {
   "display_name": "Python [conda env:base] *",
   "language": "python",
   "name": "conda-base-py"
  },
  "language_info": {
   "codemirror_mode": {
    "name": "ipython",
    "version": 3
   },
   "file_extension": ".py",
   "mimetype": "text/x-python",
   "name": "python",
   "nbconvert_exporter": "python",
   "pygments_lexer": "ipython3",
   "version": "3.12.7"
  }
 },
 "nbformat": 4,
 "nbformat_minor": 5
}
