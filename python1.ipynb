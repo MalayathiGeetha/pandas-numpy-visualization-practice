{
 "cells": [
  {
   "cell_type": "code",
   "execution_count": 3,
   "id": "c72b906b-62f3-45ad-940d-848da1d1bb7f",
   "metadata": {},
   "outputs": [
    {
     "name": "stdout",
     "output_type": "stream",
     "text": [
      "This fucntion prints on the screen\n",
      "Help on function greet in module __main__:\n",
      "\n",
      "greet()\n",
      "    This fucntion prints on the screen\n",
      "\n"
     ]
    }
   ],
   "source": [
    "#docstring\n",
    "def greet():\n",
    "    \"\"\"This fucntion prints on the screen\"\"\"\n",
    "    print(\"Welcome\")\n",
    "print(greet.__doc__)\n",
    "help(greet)"
   ]
  },
  {
   "cell_type": "code",
   "execution_count": 8,
   "id": "2a37ed34-d845-4359-aaab-05ba1629f8b9",
   "metadata": {},
   "outputs": [
    {
     "name": "stdout",
     "output_type": "stream",
     "text": [
      "(12, 3, 4, 67, 89, 34)\n"
     ]
    }
   ],
   "source": [
    "#variable args\n",
    "def print_arg(*args):\n",
    "    print(args)\n",
    "print_arg(12,3,4,67,89,34)"
   ]
  },
  {
   "cell_type": "code",
   "execution_count": 10,
   "id": "3ee432e6-655c-4e51-a79c-5f7a1d98399b",
   "metadata": {},
   "outputs": [
    {
     "name": "stdout",
     "output_type": "stream",
     "text": [
      "12\n",
      "3\n",
      "4\n",
      "67\n",
      "89\n",
      "34\n"
     ]
    }
   ],
   "source": [
    "def print_arg(*args):\n",
    "    for i in args:\n",
    "        print(i)\n",
    "print_arg(12,3,4,67,89,34)"
   ]
  },
  {
   "cell_type": "code",
   "execution_count": 12,
   "id": "0ce0256d-cb21-474f-94dd-608db151f433",
   "metadata": {},
   "outputs": [
    {
     "name": "stdout",
     "output_type": "stream",
     "text": [
      "{'name': 'pavan', 'age': 25, 'job': 'developer'}\n"
     ]
    }
   ],
   "source": [
    "#variable length keyword arguments\n",
    "def print_arg(**kwargs):\n",
    "    print(kwargs)\n",
    "print_arg(name='pavan',age=25,job='developer')"
   ]
  },
  {
   "cell_type": "code",
   "execution_count": 16,
   "id": "0b25ecb9-dda8-4ae2-af2d-13799c0afe9c",
   "metadata": {},
   "outputs": [
    {
     "name": "stdout",
     "output_type": "stream",
     "text": [
      "(8, 2)\n",
      "<class 'tuple'>\n"
     ]
    }
   ],
   "source": [
    "def add_sub(a,b):\n",
    "    return a+b,a-b\n",
    "x=add_sub(5,3)\n",
    "print(x)\n",
    "print(type(x))"
   ]
  },
  {
   "cell_type": "code",
   "execution_count": 22,
   "id": "2acc8997-75df-4175-9d2f-37d886351a0f",
   "metadata": {},
   "outputs": [
    {
     "name": "stdin",
     "output_type": "stream",
     "text": [
      "enter number: 5\n"
     ]
    },
    {
     "name": "stdout",
     "output_type": "stream",
     "text": [
      "Factorial of a  5  is: 120\n"
     ]
    }
   ],
   "source": [
    "#factorial\n",
    "def fact(n):\n",
    "    if(n==0):\n",
    "        return 1\n",
    "    return n*fact(n-1)\n",
    "num=int(input(\"enter number:\"))\n",
    "print(\"Factorial of a \",num,\" is:\",fact(num))"
   ]
  },
  {
   "cell_type": "code",
   "execution_count": 24,
   "id": "3374a335-4e2f-4109-a3d8-8684cb99408e",
   "metadata": {},
   "outputs": [
    {
     "name": "stdin",
     "output_type": "stream",
     "text": [
      "enter number: 10\n"
     ]
    },
    {
     "name": "stdout",
     "output_type": "stream",
     "text": [
      "1\n",
      "2\n",
      "3\n",
      "4\n",
      "5\n",
      "6\n",
      "7\n",
      "8\n",
      "9\n",
      "10\n"
     ]
    }
   ],
   "source": [
    "#1 to n\n",
    "def printing(n):\n",
    "    if(n==0):\n",
    "        return\n",
    "    else:\n",
    "        printing(n-1)\n",
    "        print(n)\n",
    "num=int(input(\"enter number:\"))\n",
    "printing(num)"
   ]
  },
  {
   "cell_type": "code",
   "execution_count": 26,
   "id": "546e0f95-631a-4ab7-a992-8d64d19e4768",
   "metadata": {},
   "outputs": [
    {
     "name": "stdin",
     "output_type": "stream",
     "text": [
      "enter number: 10\n"
     ]
    },
    {
     "name": "stdout",
     "output_type": "stream",
     "text": [
      "10\n",
      "9\n",
      "8\n",
      "7\n",
      "6\n",
      "5\n",
      "4\n",
      "3\n",
      "2\n",
      "1\n"
     ]
    }
   ],
   "source": [
    "#n to 1\n",
    "def printing(n):\n",
    "    if(n==0):\n",
    "        return\n",
    "    else:\n",
    "        print(n)\n",
    "        printing(n-1)\n",
    "        \n",
    "num=int(input(\"enter number:\"))\n",
    "printing(num)"
   ]
  },
  {
   "cell_type": "code",
   "execution_count": 28,
   "id": "c232f52b-547f-4d4d-a185-d35bff21c067",
   "metadata": {},
   "outputs": [
    {
     "name": "stdin",
     "output_type": "stream",
     "text": [
      "enter a: 6\n",
      "enter b: 12\n"
     ]
    },
    {
     "name": "stdout",
     "output_type": "stream",
     "text": [
      "6\n"
     ]
    }
   ],
   "source": [
    "#gcd\n",
    "def gcd(a,b):\n",
    "    if(b!=0):\n",
    "        return gcd(b,a%b)\n",
    "    return a\n",
    "a=int(input(\"enter a:\"))\n",
    "b=int(input(\"enter b:\"))\n",
    "num=gcd(a,b)\n",
    "print(num)"
   ]
  },
  {
   "cell_type": "code",
   "execution_count": 30,
   "id": "2674ef3e-1292-4f83-b77b-43bcd3e5c06d",
   "metadata": {},
   "outputs": [
    {
     "name": "stdout",
     "output_type": "stream",
     "text": [
      "Hello  Pavan\n"
     ]
    }
   ],
   "source": [
    "#functions can be stored in ds\n",
    "def hello(name):\n",
    "    print(\"Hello \",name)\n",
    "list1=[hello]\n",
    "list1[0]('Pavan')"
   ]
  },
  {
   "cell_type": "code",
   "execution_count": 38,
   "id": "d76b55aa-6c62-4f87-a963-93b65fe8d4ac",
   "metadata": {},
   "outputs": [
    {
     "name": "stdout",
     "output_type": "stream",
     "text": [
      "hiii\n"
     ]
    }
   ],
   "source": [
    "def hello():\n",
    "    def hi():\n",
    "        print(\"hiii\")\n",
    "    return hi\n",
    "hello1=hello()\n",
    "hello1()"
   ]
  },
  {
   "cell_type": "code",
   "execution_count": 40,
   "id": "798806df-7c59-405c-91c9-5300292deb5b",
   "metadata": {},
   "outputs": [
    {
     "ename": "ZeroDivisionError",
     "evalue": "division by zero",
     "output_type": "error",
     "traceback": [
      "\u001b[0;31m---------------------------------------------------------------------------\u001b[0m",
      "\u001b[0;31mZeroDivisionError\u001b[0m                         Traceback (most recent call last)",
      "Cell \u001b[0;32mIn[40], line 1\u001b[0m\n\u001b[0;32m----> 1\u001b[0m \u001b[38;5;241m2\u001b[39m\u001b[38;5;241m/\u001b[39m\u001b[38;5;241m0\u001b[39m\n",
      "\u001b[0;31mZeroDivisionError\u001b[0m: division by zero"
     ]
    }
   ],
   "source": [
    "2/0\n"
   ]
  },
  {
   "cell_type": "code",
   "execution_count": 44,
   "id": "2e32a1ac-f1c1-4bca-bbeb-81b134ba1b30",
   "metadata": {},
   "outputs": [
    {
     "ename": "TypeError",
     "evalue": "can only concatenate str (not \"int\") to str",
     "output_type": "error",
     "traceback": [
      "\u001b[0;31m---------------------------------------------------------------------------\u001b[0m",
      "\u001b[0;31mTypeError\u001b[0m                                 Traceback (most recent call last)",
      "Cell \u001b[0;32mIn[44], line 2\u001b[0m\n\u001b[1;32m      1\u001b[0m \u001b[38;5;124m'\u001b[39m\u001b[38;5;124mHello\u001b[39m\u001b[38;5;124m'\u001b[39m\u001b[38;5;241m*\u001b[39m\u001b[38;5;241m3\u001b[39m\n\u001b[0;32m----> 2\u001b[0m \u001b[38;5;124m'\u001b[39m\u001b[38;5;124mhello\u001b[39m\u001b[38;5;124m'\u001b[39m\u001b[38;5;241m+\u001b[39m\u001b[38;5;241m3\u001b[39m\n",
      "\u001b[0;31mTypeError\u001b[0m: can only concatenate str (not \"int\") to str"
     ]
    }
   ],
   "source": [
    "'Hello'*3\n",
    "'hello'+3"
   ]
  },
  {
   "cell_type": "code",
   "execution_count": 50,
   "id": "45ba8d65-db7a-4fe2-81a8-a380dc00df17",
   "metadata": {},
   "outputs": [
    {
     "name": "stdin",
     "output_type": "stream",
     "text": [
      "enter a: 3\n",
      "enter b: 6\n"
     ]
    },
    {
     "name": "stdout",
     "output_type": "stream",
     "text": [
      "0.5\n",
      "Finally handled\n"
     ]
    }
   ],
   "source": [
    "try:\n",
    "    a=int(input(\"enter a:\"))\n",
    "    b=int(input(\"enter b:\"))\n",
    "    print(a/b)\n",
    "except ValueError:\n",
    "    print(\"Please enter valid number\")\n",
    "except ZeroDivisionError:\n",
    "    print(\"Division is not allowed\")\n",
    "finally:\n",
    "    print(\"Finally handled\")\n"
   ]
  },
  {
   "cell_type": "code",
   "execution_count": 52,
   "id": "2e434210-a00c-4881-a47d-b1ae65a7d7d4",
   "metadata": {},
   "outputs": [
    {
     "name": "stdin",
     "output_type": "stream",
     "text": [
      "enter a: 3\n",
      "enter b: sdr\n"
     ]
    },
    {
     "name": "stdout",
     "output_type": "stream",
     "text": [
      "error is  invalid literal for int() with base 10: 'sdr'\n",
      "Finally handled\n"
     ]
    }
   ],
   "source": [
    "try:\n",
    "    a=int(input(\"enter a:\"))\n",
    "    b=int(input(\"enter b:\"))\n",
    "    print(a/b)\n",
    "except (ValueError,ZeroDivisionError) as e:\n",
    "    print(\"error is \",e)\n",
    "finally:\n",
    "    print(\"Finally handled\")"
   ]
  },
  {
   "cell_type": "code",
   "execution_count": 56,
   "id": "24271ca4-4704-4ec8-abcf-90f4fff6c6c6",
   "metadata": {},
   "outputs": [
    {
     "name": "stdin",
     "output_type": "stream",
     "text": [
      "enter a: 3\n",
      "enter b: 0\n"
     ]
    },
    {
     "ename": "Exception",
     "evalue": "Sorry,Not divisible",
     "output_type": "error",
     "traceback": [
      "\u001b[0;31m---------------------------------------------------------------------------\u001b[0m",
      "\u001b[0;31mException\u001b[0m                                 Traceback (most recent call last)",
      "Cell \u001b[0;32mIn[56], line 4\u001b[0m\n\u001b[1;32m      2\u001b[0m b\u001b[38;5;241m=\u001b[39m\u001b[38;5;28mint\u001b[39m(\u001b[38;5;28minput\u001b[39m(\u001b[38;5;124m\"\u001b[39m\u001b[38;5;124menter b:\u001b[39m\u001b[38;5;124m\"\u001b[39m))\n\u001b[1;32m      3\u001b[0m \u001b[38;5;28;01mif\u001b[39;00m(b\u001b[38;5;241m==\u001b[39m\u001b[38;5;241m0\u001b[39m):\n\u001b[0;32m----> 4\u001b[0m     \u001b[38;5;28;01mraise\u001b[39;00m \u001b[38;5;167;01mException\u001b[39;00m(\u001b[38;5;124m\"\u001b[39m\u001b[38;5;124mSorry,Not divisible\u001b[39m\u001b[38;5;124m\"\u001b[39m)\n",
      "\u001b[0;31mException\u001b[0m: Sorry,Not divisible"
     ]
    }
   ],
   "source": [
    "a=int(input(\"enter a:\"))\n",
    "b=int(input(\"enter b:\"))\n",
    "if(b==0):\n",
    "    raise Exception(\"Sorry,Not divisible\")"
   ]
  },
  {
   "cell_type": "code",
   "execution_count": 60,
   "id": "3ad26479-610a-4198-87c9-4ea2484390df",
   "metadata": {},
   "outputs": [
    {
     "name": "stdin",
     "output_type": "stream",
     "text": [
      "enter age: -34\n"
     ]
    },
    {
     "ename": "value",
     "evalue": "Age should be in positive",
     "output_type": "error",
     "traceback": [
      "\u001b[0;31m---------------------------------------------------------------------------\u001b[0m",
      "\u001b[0;31mvalue\u001b[0m                                     Traceback (most recent call last)",
      "Cell \u001b[0;32mIn[60], line 5\u001b[0m\n\u001b[1;32m      3\u001b[0m age\u001b[38;5;241m=\u001b[39m\u001b[38;5;28mint\u001b[39m(\u001b[38;5;28minput\u001b[39m(\u001b[38;5;124m\"\u001b[39m\u001b[38;5;124menter age:\u001b[39m\u001b[38;5;124m\"\u001b[39m))\n\u001b[1;32m      4\u001b[0m \u001b[38;5;28;01mif\u001b[39;00m(age\u001b[38;5;241m<\u001b[39m\u001b[38;5;241m0\u001b[39m):\n\u001b[0;32m----> 5\u001b[0m     \u001b[38;5;28;01mraise\u001b[39;00m value(\u001b[38;5;124m\"\u001b[39m\u001b[38;5;124mAge should be in positive\u001b[39m\u001b[38;5;124m\"\u001b[39m)\n\u001b[1;32m      6\u001b[0m \u001b[38;5;28;01melif\u001b[39;00m(age\u001b[38;5;241m>\u001b[39m\u001b[38;5;241m=\u001b[39m\u001b[38;5;241m18\u001b[39m):\n\u001b[1;32m      7\u001b[0m     \u001b[38;5;28mprint\u001b[39m(\u001b[38;5;124m\"\u001b[39m\u001b[38;5;124meligible to vote\u001b[39m\u001b[38;5;124m\"\u001b[39m)\n",
      "\u001b[0;31mvalue\u001b[0m: Age should be in positive"
     ]
    }
   ],
   "source": [
    "class value(Exception):\n",
    "    pass\n",
    "age=int(input(\"enter age:\"))\n",
    "if(age<0):\n",
    "    raise value(\"Age should be in positive\")\n",
    "elif(age>=18):\n",
    "    print(\"eligible to vote\")\n",
    "else:\n",
    "    print(\"Not eligible to vote\")"
   ]
  },
  {
   "cell_type": "code",
   "execution_count": 64,
   "id": "46220881-faa9-4faa-a7af-b3eee479ddee",
   "metadata": {},
   "outputs": [
    {
     "name": "stdout",
     "output_type": "stream",
     "text": [
      "16\n",
      "Only positive numbers are allowed\n"
     ]
    }
   ],
   "source": [
    "def square(x):\n",
    "    assert x>=0, 'Only positive numbers are allowed'\n",
    "    return x*x;\n",
    "n=square(4)\n",
    "print(n)\n",
    "try:\n",
    "    square(-2)\n",
    "except AssertionError as msg:\n",
    "    print(msg)"
   ]
  },
  {
   "cell_type": "code",
   "execution_count": 106,
   "id": "8f179b7f-a311-4b85-9a21-e7adcf99f1d4",
   "metadata": {},
   "outputs": [
    {
     "name": "stdout",
     "output_type": "stream",
     "text": [
      "File continas: Python Pro\n",
      "3\n",
      "File continas: hon Programminggood hardwork makes you perfect\n"
     ]
    }
   ],
   "source": [
    "Fileobj=open(\"py.txt\",'w')\n",
    "Fileobj.write(\"Python Programming\")\n",
    "Fileobj.writelines(\"good hardwork makes you perfect\")\n",
    "Fileobj.close()\n",
    "Fileobj=open(\"py.txt\",'r')\n",
    "#print(\"File continas:\",Fileobj.readlines())\n",
    "print(\"File continas:\",Fileobj.read(10))\n",
    "Fileobj.seek(3,0)\n",
    "print(Fileobj.tell())\n",
    "print(\"File continas:\",Fileobj.readline())"
   ]
  },
  {
   "cell_type": "code",
   "execution_count": 118,
   "id": "84d3f97e-88b5-4716-8fc3-2834f8370ef3",
   "metadata": {},
   "outputs": [
    {
     "name": "stdout",
     "output_type": "stream",
     "text": [
      "No. Of arguments:  3\n",
      "Arguments are:  ['/home/rguktrkvalley/anaconda3/lib/python3.12/site-packages/ipykernel_launcher.py', '-f', '/home/rguktrkvalley/.local/share/jupyter/runtime/kernel-b48ac629-4c14-4b7c-b016-25905cd639fd.json']\n",
      "Program Name:  /home/rguktrkvalley/anaconda3/lib/python3.12/site-packages/ipykernel_launcher.py\n"
     ]
    }
   ],
   "source": [
    "import sys\n",
    "n = len (sys . argv )\n",
    "print (\"No. Of arguments: \", n)\n",
    "arg = str (sys . argv)\n",
    "print (\"Arguments are: \", arg )\n",
    "print (\"Program Name: \", sys . argv [0] )"
   ]
  },
  {
   "cell_type": "code",
   "execution_count": null,
   "id": "b5b4f29e-aafb-4f0c-8c85-e0f8aa843a9d",
   "metadata": {},
   "outputs": [],
   "source": [
    "Fileobj=open(\"py.txt\",'w')\n",
    "Fileobj.write(\"Python Programming\")\n",
    "Fileobj.writelines(\"good hardwork makes you perfect\")\n",
    "Fileobj.close()\n",
    "Fileobj=open(\"py.txt\",'r')\n",
    "words=Fileobj.read()\n",
    "num=words.split()"
   ]
  },
  {
   "cell_type": "code",
   "execution_count": 5,
   "id": "f209f80c-b56f-430f-8cca-768085ca6d92",
   "metadata": {},
   "outputs": [
    {
     "name": "stdin",
     "output_type": "stream",
     "text": [
      "enter number: 345\n"
     ]
    },
    {
     "name": "stdout",
     "output_type": "stream",
     "text": [
      "345.0  is gretter than 50\n",
      "Thank you\n"
     ]
    }
   ],
   "source": [
    "a=float(input(\"enter number:\"))\n",
    "if(a>50):\n",
    "    print(a,\" is gretter than 50\")\n",
    "else:\n",
    "    print(\"Bye\")\n",
    "print(\"Thank you\")"
   ]
  },
  {
   "cell_type": "code",
   "execution_count": 7,
   "id": "8863feac-5d66-479d-8414-ae53b1b91f32",
   "metadata": {},
   "outputs": [
    {
     "name": "stdin",
     "output_type": "stream",
     "text": [
      "enter a: 78\n"
     ]
    },
    {
     "name": "stdout",
     "output_type": "stream",
     "text": [
      "Other\n"
     ]
    }
   ],
   "source": [
    "a=int(input(\"enter a:\"))\n",
    "if(a>=85):\n",
    "    print(\"A grade\")\n",
    "elif(a<85 and a>=80):\n",
    "    print(\"B grade\")\n",
    "else:\n",
    "    print(\"Other\")"
   ]
  },
  {
   "cell_type": "code",
   "execution_count": 11,
   "id": "8bd09e97-aac8-4af6-a14f-5adb64c29fcd",
   "metadata": {},
   "outputs": [
    {
     "name": "stdout",
     "output_type": "stream",
     "text": [
      "[-5, 1, 2, 2, 3, 4, 7, 9]\n"
     ]
    }
   ],
   "source": [
    "#sort\n",
    "l=[1,2,4,-5,7,9,3,2]\n",
    "for j in range(len(l)):\n",
    "    m=l[j]\n",
    "    idx=j\n",
    "    c=j\n",
    "    for i in range(j,len(l)):\n",
    "        if l[i]<m:\n",
    "            m=l[i]\n",
    "            idx=c\n",
    "        c+=1\n",
    "    temp=l[j]\n",
    "    l[j]=m\n",
    "    l[idx]=temp\n",
    "print(l)"
   ]
  },
  {
   "cell_type": "code",
   "execution_count": 17,
   "id": "1eeeebb0-9b62-4ce2-9160-186b16e09c13",
   "metadata": {},
   "outputs": [
    {
     "name": "stdin",
     "output_type": "stream",
     "text": [
      "enter id: 12\n",
      "enter marks by comma separated values: 34,5,67,89,00\n",
      "enter \"no\" to quit indertion: no\n"
     ]
    },
    {
     "name": "stdout",
     "output_type": "stream",
     "text": [
      "{'12': ['34', '5', '67', '89', '00']}\n"
     ]
    }
   ],
   "source": [
    "def getdata():\n",
    "    d={}\n",
    "    while True:\n",
    "        stuid=input(\"enter id:\")\n",
    "        marks=input(\"enter marks by comma separated values:\")\n",
    "        more=input('enter \"no\" to quit indertion:')\n",
    "        if(stuid in d):\n",
    "            print(stuid,\" is already inserted\")\n",
    "        else:\n",
    "            d[stuid]=marks.split(\",\")\n",
    "        if(more.lower()=='no'):\n",
    "            return d\n",
    "student=getdata()\n",
    "print(student)"
   ]
  },
  {
   "cell_type": "code",
   "execution_count": 21,
   "id": "2f0dcc13-f343-49c8-a338-e29ef4dff710",
   "metadata": {},
   "outputs": [
    {
     "name": "stdout",
     "output_type": "stream",
     "text": [
      "(array([0., 0., 0., 0., 0., 1., 0., 0., 0., 0.]), array([943.5, 943.6, 943.7, 943.8, 943.9, 944. , 944.1, 944.2, 944.3,\n",
      "       944.4, 944.5]), <BarContainer object of 10 artists>)\n"
     ]
    },
    {
     "data": {
      "image/png": "[encoded data removed]",
      "text/plain": [
       "<Figure size 640x480 with 1 Axes>"
      ]
     },
     "metadata": {},
     "output_type": "display_data"
    }
   ],
   "source": []
  },
  {
   "cell_type": "code",
   "execution_count": null,
   "id": "a6ad6b72-2980-449a-a1d4-158b44d0ae95",
   "metadata": {},
   "outputs": [],
   "source": []
  }
 ],
 "metadata": {
  "kernelspec": {
   "display_name": "Python [conda env:base] *",
   "language": "python",
   "name": "conda-base-py"
  },
  "language_info": {
   "codemirror_mode": {
    "name": "ipython",
    "version": 3
   },
   "file_extension": ".py",
   "mimetype": "text/x-python",
   "name": "python",
   "nbconvert_exporter": "python",
   "pygments_lexer": "ipython3",
   "version": "3.12.7"
  }
 },
 "nbformat": 4,
 "nbformat_minor": 5
}
