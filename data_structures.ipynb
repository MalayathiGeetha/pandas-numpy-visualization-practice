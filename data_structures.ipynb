{
 "cells": [
  {
   "cell_type": "code",
   "execution_count": 1,
   "id": "d546ef6c-f601-4e42-a78f-c6a3dc39c673",
   "metadata": {},
   "outputs": [
    {
     "name": "stdout",
     "output_type": "stream",
     "text": [
      "sanju\n"
     ]
    }
   ],
   "source": [
    "print(\"sanju\")"
   ]
  },
  {
   "cell_type": "code",
   "execution_count": 5,
   "id": "de7b861f-18d2-4b5c-a626-2ab14715c1e7",
   "metadata": {},
   "outputs": [
    {
     "name": "stdout",
     "output_type": "stream",
     "text": [
      "(1, 2, 3, 4)\n",
      "(1, 2, 3, 4)\n"
     ]
    }
   ],
   "source": [
    "tuple1=tuple([1,2,3,4])\n",
    "print(tuple1)\n",
    "print(tuple1)"
   ]
  },
  {
   "cell_type": "code",
   "execution_count": 13,
   "id": "72f1ade8-b570-4bcb-9ac7-486ce250d636",
   "metadata": {},
   "outputs": [
    {
     "name": "stdout",
     "output_type": "stream",
     "text": [
      "{1, 2, 3, 5, 456, 78}\n",
      "1  \n",
      "2  \n",
      "3  \n",
      "5  \n",
      "456  \n",
      "78  \n",
      "\n",
      "\n",
      "True\n"
     ]
    }
   ],
   "source": [
    "set1=set([1,2,3,5,5,78,456])\n",
    "print(set1)\n",
    "for i in set1:\n",
    "    print(i,\" \")\n",
    "print(\"\\n\")\n",
    "print(1 in set1)"
   ]
  },
  {
   "cell_type": "code",
   "execution_count": 19,
   "id": "18b80917-5e0f-402b-acf3-fa4b9c6f5a91",
   "metadata": {},
   "outputs": [
    {
     "name": "stdout",
     "output_type": "stream",
     "text": [
      "{1: 'apple', 2: 'banana', 3: 'orange', 4: 'mango', 5: [1, 2, 3, 4]}\n",
      "banana\n",
      "mango\n"
     ]
    }
   ],
   "source": [
    "dic={1:\"apple\",2:\"banana\",3:\"orange\",4:\"mango\",5:[1,2,3,4]}\n",
    "print(dic)\n",
    "print(dic[2])\n",
    "print(dic.get(4))"
   ]
  },
  {
   "cell_type": "code",
   "execution_count": 25,
   "id": "c99093ec-1152-49a3-b08d-02f03de0420a",
   "metadata": {},
   "outputs": [
    {
     "name": "stdin",
     "output_type": "stream",
     "text": [
      "enter name: geetha\n"
     ]
    },
    {
     "name": "stdout",
     "output_type": "stream",
     "text": [
      "Hello, geetha\n"
     ]
    },
    {
     "name": "stdin",
     "output_type": "stream",
     "text": [
      "enter number: 4\n"
     ]
    },
    {
     "name": "stdout",
     "output_type": "stream",
     "text": [
      "4\n",
      "Hello geetha ! How are you\n"
     ]
    }
   ],
   "source": [
    "name=input(\"enter name:\")\n",
    "print(\"Hello, \"+name)\n",
    "num=int(input(\"enter number:\"))\n",
    "print(num)\n",
    "print(f'Hello {name} ! How are you')"
   ]
  },
  {
   "cell_type": "code",
   "execution_count": 27,
   "id": "3cff5bdb-5d12-4e21-8f9c-20083d310946",
   "metadata": {},
   "outputs": [
    {
     "name": "stderr",
     "output_type": "stream",
     "text": [
      "<>:1: SyntaxWarning: \"is\" with 'int' literal. Did you mean \"==\"?\n",
      "<>:1: SyntaxWarning: \"is\" with 'int' literal. Did you mean \"==\"?\n",
      "/tmp/ipykernel_739504/3920928710.py:1: SyntaxWarning: \"is\" with 'int' literal. Did you mean \"==\"?\n",
      "  10 is True\n"
     ]
    },
    {
     "data": {
      "text/plain": [
       "False"
      ]
     },
     "execution_count": 27,
     "metadata": {},
     "output_type": "execute_result"
    }
   ],
   "source": [
    "10 is True\n"
   ]
  },
  {
   "cell_type": "code",
   "execution_count": 33,
   "id": "bec014ae-6816-44a8-9791-68f3a3211372",
   "metadata": {},
   "outputs": [
    {
     "name": "stdout",
     "output_type": "stream",
     "text": [
      "[8, 6, 5, 4, 3, 2, 1]\n",
      "[1, 2, 3, 4, 5, 6, 8]\n"
     ]
    }
   ],
   "source": [
    "l1=[1,2,3,4,5,6,8]\n",
    "l1.reverse()\n",
    "print(l1)\n",
    "l1.sort()\n",
    "print(l1)"
   ]
  },
  {
   "cell_type": "code",
   "execution_count": 37,
   "id": "e2e1df61-5f04-484b-b5e9-b200659f3a50",
   "metadata": {},
   "outputs": [
    {
     "name": "stdout",
     "output_type": "stream",
     "text": [
      "6  is even\n"
     ]
    }
   ],
   "source": [
    "def even(x):\n",
    "    if(x%2==0):\n",
    "        print(x,\" is even\")\n",
    "    else:\n",
    "        print(x,\" is odd\")\n",
    "even(6)"
   ]
  },
  {
   "cell_type": "code",
   "execution_count": 39,
   "id": "99a1a360-dcdf-4e33-8cb5-bd9fe8e11175",
   "metadata": {},
   "outputs": [
    {
     "name": "stdout",
     "output_type": "stream",
     "text": [
      "geetha\n"
     ]
    }
   ],
   "source": [
    "class Phone:\n",
    "    def __init__(self,name,age):\n",
    "        self.name=name\n",
    "        self.age=age\n",
    "    def set_name(self,name):\n",
    "        self.name=name;\n",
    "    def show_name(self):\n",
    "        return self.name;\n",
    "p1=Phone('geetha',20)\n",
    "print(p1.show_name())"
   ]
  },
  {
   "cell_type": "code",
   "execution_count": 41,
   "id": "a06e8a40-9da4-47ef-a1f4-131bc5c07296",
   "metadata": {},
   "outputs": [
    {
     "name": "stdout",
     "output_type": "stream",
     "text": [
      "<re.Match object; span=(10, 14), match='high'>\n",
      "Found\n"
     ]
    }
   ],
   "source": [
    "import re\n",
    "string = \"Python is high level language\"\n",
    "x = re.search(\"high\",string)\n",
    "print(x)\n",
    "if(x):\n",
    "    print(\"Found\")\n",
    "else:\n",
    "    print(\"Not found\")"
   ]
  },
  {
   "cell_type": "code",
   "execution_count": 43,
   "id": "cf58c944-9970-43ec-8c7a-29d75f0fe46f",
   "metadata": {},
   "outputs": [
    {
     "name": "stdout",
     "output_type": "stream",
     "text": [
      "10\n",
      "14\n"
     ]
    }
   ],
   "source": [
    "print(x.start())\n",
    "print(x.end())"
   ]
  },
  {
   "cell_type": "code",
   "execution_count": 59,
   "id": "6409fcc6-95d9-4660-bff3-4c622fe55c34",
   "metadata": {},
   "outputs": [
    {
     "name": "stdout",
     "output_type": "stream",
     "text": [
      "['i', 'i']\n",
      "<re.Match object; span=(0, 6), match='Python'>\n"
     ]
    }
   ],
   "source": [
    "y=re.findall('i',string)\n",
    "print(y)\n",
    "y=re.match('Python',string)\n",
    "print(y)"
   ]
  },
  {
   "cell_type": "code",
   "execution_count": 63,
   "id": "f68e79db-7c69-4abc-bf63-018b2726dbcc",
   "metadata": {},
   "outputs": [
    {
     "name": "stdout",
     "output_type": "stream",
     "text": [
      "Not match\n",
      "Found\n"
     ]
    }
   ],
   "source": [
    "string = \"Python is high level language\"\n",
    "string1 = \"Python\"\n",
    "x = re.fullmatch('Python',string)\n",
    "y = re.fullmatch('Python',string1)\n",
    "if x:\n",
    "    print(\"Found\")\n",
    "else:\n",
    "    print(\"Not match\")\n",
    "if y:\n",
    "    print(\"Found\")\n",
    "else:\n",
    "    print(\"Not match\")"
   ]
  },
  {
   "cell_type": "code",
   "execution_count": 67,
   "id": "f1f11577-a49f-4ab8-bfc8-54cf94a1f2b1",
   "metadata": {},
   "outputs": [
    {
     "name": "stdout",
     "output_type": "stream",
     "text": [
      "<re.Match object; span=(22, 25), match='ang'>\n"
     ]
    }
   ],
   "source": [
    "x=re.search('a.g',string)\n",
    "print(x)"
   ]
  },
  {
   "cell_type": "code",
   "execution_count": null,
   "id": "209d9b3f-68d7-4bc0-8f29-46b35df8ab6b",
   "metadata": {},
   "outputs": [],
   "source": []
  }
 ],
 "metadata": {
  "kernelspec": {
   "display_name": "Python [conda env:base] *",
   "language": "python",
   "name": "conda-base-py"
  },
  "language_info": {
   "codemirror_mode": {
    "name": "ipython",
    "version": 3
   },
   "file_extension": ".py",
   "mimetype": "text/x-python",
   "name": "python",
   "nbconvert_exporter": "python",
   "pygments_lexer": "ipython3",
   "version": "3.12.7"
  }
 },
 "nbformat": 4,
 "nbformat_minor": 5
}
