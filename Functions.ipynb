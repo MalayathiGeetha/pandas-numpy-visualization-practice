{
 "cells": [
  {
   "cell_type": "code",
   "execution_count": 13,
   "id": "bf682ec7-5c27-4ce7-82ec-3993392e0aa8",
   "metadata": {},
   "outputs": [
    {
     "name": "stdout",
     "output_type": "stream",
     "text": [
      "Name is Sreenu and age is 20\n",
      "Sreenu\n",
      "geetha\n"
     ]
    }
   ],
   "source": [
    "class Student:\n",
    "    name=\"geetha\"\n",
    "    age=18\n",
    "    def __init__(self):\n",
    "        self.name=\"Sreenu\"\n",
    "        self.age=20\n",
    "    def info(self):\n",
    "        print(\"Name is {} and age is {}\".format(self.name,self.age))\n",
    "s=Student()\n",
    "s.info()\n",
    "print(s.name)\n",
    "print(Student.name)"
   ]
  },
  {
   "cell_type": "code",
   "execution_count": 19,
   "id": "52e82d9f-afac-4b60-8a8b-f2ae6c3202e9",
   "metadata": {},
   "outputs": [
    {
     "ename": "TypeError",
     "evalue": "Student.__init__() missing 1 required positional argument: 'id'",
     "output_type": "error",
     "traceback": [
      "\u001b[0;31m---------------------------------------------------------------------------\u001b[0m",
      "\u001b[0;31mTypeError\u001b[0m                                 Traceback (most recent call last)",
      "Cell \u001b[0;32mIn[19], line 12\u001b[0m\n\u001b[1;32m      9\u001b[0m     \u001b[38;5;28;01mdef\u001b[39;00m \u001b[38;5;21minfo\u001b[39m(\u001b[38;5;28mself\u001b[39m):\n\u001b[1;32m     10\u001b[0m         \u001b[38;5;28mprint\u001b[39m(\u001b[38;5;124m\"\u001b[39m\u001b[38;5;124mName : \u001b[39m\u001b[38;5;132;01m{}\u001b[39;00m\u001b[38;5;124m\"\u001b[39m\u001b[38;5;241m.\u001b[39mformat(\u001b[38;5;28mself\u001b[39m\u001b[38;5;241m.\u001b[39mname))\n\u001b[0;32m---> 12\u001b[0m ds \u001b[38;5;241m=\u001b[39m Student(\u001b[38;5;124m\"\u001b[39m\u001b[38;5;124msreenivas\u001b[39m\u001b[38;5;124m\"\u001b[39m)\n",
      "\u001b[0;31mTypeError\u001b[0m: Student.__init__() missing 1 required positional argument: 'id'"
     ]
    }
   ],
   "source": [
    "class Student:\n",
    "    def __init__(self):\n",
    "        pass\n",
    "    def __init__(self,name):\n",
    "        self.name = name\n",
    "    def __init__(self,name,id):\n",
    "        self.id = id\n",
    "        self.name = name\n",
    "    def info(self):\n",
    "        print(\"Name : {}\".format(self.name))\n",
    "\n",
    "ds = Student(\"sreenivas\")"
   ]
  },
  {
   "cell_type": "code",
   "execution_count": null,
   "id": "e6082ef9-786e-4993-abc1-e2edd5f2576f",
   "metadata": {},
   "outputs": [],
   "source": []
  }
 ],
 "metadata": {
  "kernelspec": {
   "display_name": "Python [conda env:base] *",
   "language": "python",
   "name": "conda-base-py"
  },
  "language_info": {
   "codemirror_mode": {
    "name": "ipython",
    "version": 3
   },
   "file_extension": ".py",
   "mimetype": "text/x-python",
   "name": "python",
   "nbconvert_exporter": "python",
   "pygments_lexer": "ipython3",
   "version": "3.12.7"
  }
 },
 "nbformat": 4,
 "nbformat_minor": 5
}
