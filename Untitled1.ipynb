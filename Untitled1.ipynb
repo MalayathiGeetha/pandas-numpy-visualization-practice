{
 "cells": [
  {
   "cell_type": "markdown",
   "id": "0b038b76-a01e-472c-bf00-0448d56fc04a",
   "metadata": {},
   "source": [
    "## import numpy as np\n",
    "import pandas as pd\n",
    "import matplotlib .pyplot as plt\n",
    "import seaborn as sns\n",
    "\n",
    "\n",
    "years_of_exp=[2,4,6,8,10,12,14,16,18,20]\n",
    "salary=[600000,800000,1000000,1400000,1600000,1800000,2000000,2200000,2400000"
   ]
  }
 ],
 "metadata": {
  "kernelspec": {
   "display_name": "Python [conda env:base] *",
   "language": "python",
   "name": "conda-base-py"
  },
  "language_info": {
   "codemirror_mode": {
    "name": "ipython",
    "version": 3
   },
   "file_extension": ".py",
   "mimetype": "text/x-python",
   "name": "python",
   "nbconvert_exporter": "python",
   "pygments_lexer": "ipython3",
   "version": "3.12.7"
  }
 },
 "nbformat": 4,
 "nbformat_minor": 5
}
