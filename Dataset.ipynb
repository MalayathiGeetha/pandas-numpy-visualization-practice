{
 "cells": [
  {
   "cell_type": "code",
   "execution_count": 3,
   "id": "7428a9c9-c142-4dc7-89a2-86399a6f2474",
   "metadata": {},
   "outputs": [
    {
     "name": "stdout",
     "output_type": "stream",
     "text": [
      "         NAME  AGE  WT  DSP  TOTAL\n",
      "0        raju   23  30   34     64\n",
      "1       surya   24  23   23     46\n",
      "2       kiran   23  34   29     63\n",
      "3         sam   35  23   40     63\n",
      "4      sreenu   22  29   35     64\n",
      "5        ajay   76  40   37     77\n",
      "6       vijay   27  35   35     70\n",
      "7     prabhas   30  37   29     66\n",
      "8       bunny   28  37   26     63\n",
      "9     anushka   25  36   24     60\n",
      "10       pspk   37  35   23     58\n",
      "11     mahesh   34  29   29     58\n",
      "12        ntr   32  26   40     66\n",
      "13  ramcharan   31  24   34     58\n",
      "14        ntr   32  26   40     66\n",
      "15       ntr    32  26   40     66\n",
      "16    sreenu    45  67   89     23\n",
      "17      kiran   23  34   29     63\n"
     ]
    }
   ],
   "source": [
    "import pandas as pd\n",
    "df=pd.read_excel(\"//home//rguktrkvalley//Documents//E2//S2//DSP_LAB//Marks.xlsx\")\n",
    "print(df)"
   ]
  },
  {
   "cell_type": "code",
   "execution_count": 9,
   "id": "4a1184fe-6662-48b6-bbae-397163ae0283",
   "metadata": {},
   "outputs": [
    {
     "name": "stdout",
     "output_type": "stream",
     "text": [
      "   Student_ID  Age  Gender  High_School_GPA    Field_of_Study\n",
      "0      S00001   24    Male             3.58              Arts\n",
      "1      S00002   21   Other             2.52               Law\n",
      "2      S00003   28  Female             3.42          Medicine\n",
      "3      S00004   25    Male             2.43               NaN\n",
      "4      S00005   22    Male             2.08       Engineering\n",
      "..        ...  ...     ...              ...               ...\n",
      "56     S00013   22  Female             2.06       Engineering\n",
      "57     S00014   21    Male             3.21              Arts\n",
      "58     S00015   25    Male             2.79          Business\n",
      "59     S00016   25  Female             2.60  Computer Science\n",
      "60     S00017   20  Female             3.73               Law\n",
      "\n",
      "[61 rows x 5 columns]\n"
     ]
    }
   ],
   "source": [
    "#missing data\n",
    "import pandas as pd\n",
    "df=pd.read_excel(\"//home//rguktrkvalley//Documents//E2//S2//DSP_LAB//dataframe_missing.xlsx\")\n",
    "print(df)"
   ]
  },
  {
   "cell_type": "code",
   "execution_count": 11,
   "id": "063bb7db-5cc7-44f2-bf42-e2fb9065ae54",
   "metadata": {},
   "outputs": [
    {
     "name": "stdout",
     "output_type": "stream",
     "text": [
      "   Student_ID  Age  Gender  High_School_GPA    Field_of_Study\n",
      "0      S00001   24    Male             3.58              Arts\n",
      "1      S00002   21   Other             2.52               Law\n",
      "2      S00003   28  Female             3.42          Medicine\n",
      "4      S00005   22    Male             2.08       Engineering\n",
      "5      S00006   24    Male             2.40               Law\n",
      "6      S00007   27    Male             2.36  Computer Science\n",
      "7      S00008   20    Male             2.68  Computer Science\n",
      "9      S00010   28    Male             3.02  Computer Science\n",
      "10     S00011   28  Female             2.95       Mathematics\n",
      "11     S00012   25  Female             2.54               Law\n",
      "12     S00013   22  Female             2.06       Engineering\n",
      "13     S00014   21    Male             3.21              Arts\n",
      "14     S00015   25    Male             2.79          Business\n",
      "15     S00016   25  Female             2.60  Computer Science\n",
      "16     S00017   20  Female             3.73               Law\n",
      "18     S00019   22  Female             3.72       Mathematics\n",
      "19     S00020   19  Female             2.99       Mathematics\n",
      "20     S00021   25  Female             2.26          Medicine\n",
      "21     S00022   29    Male             3.39          Business\n",
      "22     S00023   23  Female             2.41       Engineering\n",
      "23     S00024   19  Female             2.88          Medicine\n",
      "24     S00025   29  Female             2.13       Engineering\n",
      "25     S00026   22  Female             3.65          Medicine\n",
      "26     S00027   18  Female             2.25              Arts\n",
      "27     S00028   29  Female             3.81       Engineering\n",
      "28     S00029   27    Male             3.73          Medicine\n",
      "29     S00030   23  Female             2.93       Mathematics\n",
      "30     S00031   29  Female             3.49       Engineering\n",
      "31     S00032   26  Female             3.24          Business\n",
      "32     S00033   18    Male             3.61       Engineering\n",
      "33     S00034   28    Male             2.86               Law\n",
      "34     S00035   28  Female             3.57       Engineering\n",
      "35     S00036   27  Female             2.92          Medicine\n",
      "36     S00037   29  Female             3.88       Engineering\n",
      "37     S00038   29  Female             2.97              Arts\n",
      "38     S00039   20  Female             2.93  Computer Science\n",
      "39     S00040   29  Female             3.57          Business\n",
      "40     S00041   24  Female             3.64               Law\n",
      "41     S00042   21  Female             3.11       Mathematics\n",
      "42     S00043   26  Female             2.36          Medicine\n",
      "43     S00044   20    Male             2.94       Mathematics\n",
      "44     S00045   22    Male             3.94       Mathematics\n",
      "45     S00046   20  Female             3.51       Engineering\n",
      "46     S00047   24    Male             3.62       Engineering\n",
      "47     S00048   22    Male             2.07       Engineering\n",
      "48     S00005   22    Male             2.08       Engineering\n",
      "49     S00006   24    Male             2.40               Law\n",
      "50     S00007   27    Male             2.36  Computer Science\n",
      "51     S00008   20    Male             2.68  Computer Science\n",
      "52     S00009   24    Male             2.84          Business\n",
      "53     S00010   28    Male             3.02  Computer Science\n",
      "54     S00011   28  Female             2.95       Mathematics\n",
      "55     S00012   25  Female             2.54               Law\n",
      "56     S00013   22  Female             2.06       Engineering\n",
      "57     S00014   21    Male             3.21              Arts\n",
      "58     S00015   25    Male             2.79          Business\n",
      "59     S00016   25  Female             2.60  Computer Science\n",
      "60     S00017   20  Female             3.73               Law\n"
     ]
    }
   ],
   "source": [
    "print(df.dropna())\n"
   ]
  },
  {
   "cell_type": "code",
   "execution_count": 17,
   "id": "ef47fefd-af2f-479a-9cb8-5cdd21f8ea6f",
   "metadata": {},
   "outputs": [
    {
     "name": "stdout",
     "output_type": "stream",
     "text": [
      "   Student_ID  Age  Gender  High_School_GPA    Field_of_Study\n",
      "0      S00001   24    Male             3.58              Arts\n",
      "1      S00002   21   Other             2.52               Law\n",
      "2      S00003   28  Female             3.42          Medicine\n",
      "3      S00004   25    Male             2.43               NaN\n",
      "4      S00005   22    Male             2.08       Engineering\n",
      "..        ...  ...     ...              ...               ...\n",
      "56     S00013   22  Female             2.06       Engineering\n",
      "57     S00014   21    Male             3.21              Arts\n",
      "58     S00015   25    Male             2.79          Business\n",
      "59     S00016   25  Female             2.60  Computer Science\n",
      "60     S00017   20  Female             3.73               Law\n",
      "\n",
      "[61 rows x 5 columns]\n",
      "0                 Arts\n",
      "1                  Law\n",
      "2             Medicine\n",
      "4          Engineering\n",
      "5                  Law\n",
      "6     Computer Science\n",
      "7     Computer Science\n",
      "8             Business\n",
      "9     Computer Science\n",
      "10         Mathematics\n",
      "11                 Law\n",
      "12         Engineering\n",
      "13                Arts\n",
      "14            Business\n",
      "15    Computer Science\n",
      "16                 Law\n",
      "17         Mathematics\n",
      "18         Mathematics\n",
      "19         Mathematics\n",
      "20            Medicine\n",
      "21            Business\n",
      "22         Engineering\n",
      "23            Medicine\n",
      "24         Engineering\n",
      "25            Medicine\n",
      "26                Arts\n",
      "27         Engineering\n",
      "28            Medicine\n",
      "29         Mathematics\n",
      "30         Engineering\n",
      "31            Business\n",
      "32         Engineering\n",
      "33                 Law\n",
      "34         Engineering\n",
      "35            Medicine\n",
      "36         Engineering\n",
      "37                Arts\n",
      "38    Computer Science\n",
      "39            Business\n",
      "40                 Law\n",
      "41         Mathematics\n",
      "42            Medicine\n",
      "43         Mathematics\n",
      "44         Mathematics\n",
      "45         Engineering\n",
      "46         Engineering\n",
      "47         Engineering\n",
      "48         Engineering\n",
      "49                 Law\n",
      "50    Computer Science\n",
      "51    Computer Science\n",
      "52            Business\n",
      "53    Computer Science\n",
      "54         Mathematics\n",
      "55                 Law\n",
      "56         Engineering\n",
      "57                Arts\n",
      "58            Business\n",
      "59    Computer Science\n",
      "60                 Law\n",
      "Name: Field_of_Study, dtype: object\n"
     ]
    }
   ],
   "source": [
    "print(df)\n",
    "print(df['Field_of_Study'].dropna())"
   ]
  },
  {
   "cell_type": "code",
   "execution_count": 19,
   "id": "141346ae-8af2-4c5d-86bb-b6e88c7fee73",
   "metadata": {},
   "outputs": [
    {
     "name": "stdout",
     "output_type": "stream",
     "text": [
      "      Field_of_Study  Age\n",
      "0               Arts   24\n",
      "1                Law   21\n",
      "2           Medicine   28\n",
      "4        Engineering   22\n",
      "5                Law   24\n",
      "6   Computer Science   27\n",
      "7   Computer Science   20\n",
      "8           Business   24\n",
      "9   Computer Science   28\n",
      "10       Mathematics   28\n",
      "11               Law   25\n",
      "12       Engineering   22\n",
      "13              Arts   21\n",
      "14          Business   25\n",
      "15  Computer Science   25\n",
      "16               Law   20\n",
      "17       Mathematics   23\n",
      "18       Mathematics   22\n",
      "19       Mathematics   19\n",
      "20          Medicine   25\n",
      "21          Business   29\n",
      "22       Engineering   23\n",
      "23          Medicine   19\n",
      "24       Engineering   29\n",
      "25          Medicine   22\n",
      "26              Arts   18\n",
      "27       Engineering   29\n",
      "28          Medicine   27\n",
      "29       Mathematics   23\n",
      "30       Engineering   29\n",
      "31          Business   26\n",
      "32       Engineering   18\n",
      "33               Law   28\n",
      "34       Engineering   28\n",
      "35          Medicine   27\n",
      "36       Engineering   29\n",
      "37              Arts   29\n",
      "38  Computer Science   20\n",
      "39          Business   29\n",
      "40               Law   24\n",
      "41       Mathematics   21\n",
      "42          Medicine   26\n",
      "43       Mathematics   20\n",
      "44       Mathematics   22\n",
      "45       Engineering   20\n",
      "46       Engineering   24\n",
      "47       Engineering   22\n",
      "48       Engineering   22\n",
      "49               Law   24\n",
      "50  Computer Science   27\n",
      "51  Computer Science   20\n",
      "52          Business   24\n",
      "53  Computer Science   28\n",
      "54       Mathematics   28\n",
      "55               Law   25\n",
      "56       Engineering   22\n",
      "57              Arts   21\n",
      "58          Business   25\n",
      "59  Computer Science   25\n",
      "60               Law   20\n"
     ]
    }
   ],
   "source": [
    "print(df.loc[:,['Field_of_Study','Age']].dropna())"
   ]
  },
  {
   "cell_type": "code",
   "execution_count": 21,
   "id": "76b48e4e-2aeb-4832-9353-53a251055ed9",
   "metadata": {},
   "outputs": [
    {
     "name": "stdout",
     "output_type": "stream",
     "text": [
      "Student_ID         0\n",
      "Age                0\n",
      "Gender             1\n",
      "High_School_GPA    1\n",
      "Field_of_Study     1\n",
      "dtype: int64\n"
     ]
    }
   ],
   "source": [
    "print(df.isnull().sum())"
   ]
  },
  {
   "cell_type": "code",
   "execution_count": 25,
   "id": "f02146f2-6706-4428-b0b4-dd452d2d5f13",
   "metadata": {},
   "outputs": [
    {
     "name": "stdout",
     "output_type": "stream",
     "text": [
      "   Student_ID  Age  Gender High_School_GPA    Field_of_Study\n",
      "0      S00001   24    Male            3.58              Arts\n",
      "1      S00002   21   Other            2.52               Law\n",
      "2      S00003   28  Female            3.42          Medicine\n",
      "3      S00004   25    Male            2.43           missing\n",
      "4      S00005   22    Male            2.08       Engineering\n",
      "..        ...  ...     ...             ...               ...\n",
      "56     S00013   22  Female            2.06       Engineering\n",
      "57     S00014   21    Male            3.21              Arts\n",
      "58     S00015   25    Male            2.79          Business\n",
      "59     S00016   25  Female             2.6  Computer Science\n",
      "60     S00017   20  Female            3.73               Law\n",
      "\n",
      "[61 rows x 5 columns]\n",
      "    Gender    Field_of_Study\n",
      "0     Male              Arts\n",
      "1    Other               Law\n",
      "2   Female          Medicine\n",
      "3     Male           5000000\n",
      "4     Male       Engineering\n",
      "..     ...               ...\n",
      "56  Female       Engineering\n",
      "57    Male              Arts\n",
      "58    Male          Business\n",
      "59  Female  Computer Science\n",
      "60  Female               Law\n",
      "\n",
      "[61 rows x 2 columns]\n"
     ]
    }
   ],
   "source": [
    "#handling missing values\n",
    "print(df.fillna('missing'))\n",
    "print(df.loc[:,[\"Gender\",\"Field_of_Study\"]].fillna(5000000))"
   ]
  },
  {
   "cell_type": "code",
   "execution_count": 27,
   "id": "fd18e13c-fd39-424e-a2d1-9fb5400dc156",
   "metadata": {},
   "outputs": [
    {
     "name": "stdout",
     "output_type": "stream",
     "text": [
      "         NAME   AGE    WT   DSP  TOTAL\n",
      "0        raju   NaN  30.0  34.0     64\n",
      "1       surya  24.0  23.0  23.0     46\n",
      "2       kiran  23.0   NaN  29.0     63\n",
      "3         sam  35.0  23.0  40.0     63\n",
      "4      sreenu  22.0  29.0   NaN     64\n",
      "5        ajay  76.0  40.0  37.0     77\n",
      "6       vijay  27.0  35.0  35.0     70\n",
      "7     prabhas   NaN  37.0  29.0     66\n",
      "8       bunny  28.0  37.0  26.0     63\n",
      "9     anushka  25.0  36.0  24.0     60\n",
      "10       pspk  37.0  35.0  23.0     58\n",
      "11     mahesh  34.0  29.0  29.0     58\n",
      "12        ntr  32.0   NaN  40.0     66\n",
      "13  ramcharan  31.0  24.0  34.0     58\n",
      "14        ntr  32.0  26.0  40.0     66\n",
      "15       ntr   32.0  26.0  40.0     66\n",
      "16    sreenu   45.0  67.0   NaN     23\n",
      "17      kiran  23.0  34.0  29.0     63\n"
     ]
    }
   ],
   "source": [
    "import pandas as pd\n",
    "df=pd.read_excel(\"//home//rguktrkvalley//Documents//E2//S2//DSP_LAB//Marks.xlsx\")\n",
    "print(df)"
   ]
  },
  {
   "cell_type": "code",
   "execution_count": 29,
   "id": "eef1aae2-0b15-4e15-ada6-271e39d51479",
   "metadata": {},
   "outputs": [
    {
     "name": "stdout",
     "output_type": "stream",
     "text": [
      "0     30.0000\n",
      "1     23.0000\n",
      "2     33.1875\n",
      "3     23.0000\n",
      "4     29.0000\n",
      "5     40.0000\n",
      "6     35.0000\n",
      "7     37.0000\n",
      "8     37.0000\n",
      "9     36.0000\n",
      "10    35.0000\n",
      "11    29.0000\n",
      "12    33.1875\n",
      "13    24.0000\n",
      "14    26.0000\n",
      "15    26.0000\n",
      "16    67.0000\n",
      "17    34.0000\n",
      "Name: WT, dtype: float64\n"
     ]
    }
   ],
   "source": [
    "print(df['WT'].fillna(df['WT'].mean()))"
   ]
  },
  {
   "cell_type": "code",
   "execution_count": 31,
   "id": "83a9b8cc-62d2-4161-9889-4c9b0154d4a1",
   "metadata": {},
   "outputs": [
    {
     "name": "stdout",
     "output_type": "stream",
     "text": [
      "33.1875\n"
     ]
    }
   ],
   "source": [
    "print(df['WT'].mean())"
   ]
  },
  {
   "cell_type": "code",
   "execution_count": 41,
   "id": "045fa720-0abf-42c3-83c6-d02b52cd5cb1",
   "metadata": {},
   "outputs": [
    {
     "name": "stdout",
     "output_type": "stream",
     "text": [
      "         NAME   AGE    WT   DSP  TOTAL\n",
      "0        raju   NaN  30.0  34.0     64\n",
      "1       surya  24.0  23.0  23.0     46\n",
      "2       kiran  23.0   NaN  29.0     63\n",
      "3         sam  35.0  23.0  40.0     63\n",
      "4      sreenu  22.0  29.0   NaN     64\n",
      "5        ajay  76.0  40.0  37.0     77\n",
      "6       vijay  27.0  35.0  35.0     70\n",
      "7     prabhas   NaN  37.0  29.0     66\n",
      "8       bunny  28.0  37.0  26.0     63\n",
      "9     anushka  25.0  36.0  24.0     60\n",
      "10       pspk  37.0  35.0  23.0     58\n",
      "11     mahesh  34.0  29.0  29.0     58\n",
      "12        ntr  32.0  33.0  40.0     66\n",
      "13  ramcharan  31.0  24.0  34.0     58\n",
      "14        ntr  32.0  33.0  40.0     66\n",
      "15       ntr   32.0  26.0  40.0     66\n",
      "16    sreenu   45.0  67.0   NaN     23\n",
      "17      kiran  23.0  34.0  29.0     63\n",
      "0     False\n",
      "1     False\n",
      "2     False\n",
      "3     False\n",
      "4     False\n",
      "5     False\n",
      "6     False\n",
      "7     False\n",
      "8     False\n",
      "9     False\n",
      "10    False\n",
      "11    False\n",
      "12    False\n",
      "13    False\n",
      "14     True\n",
      "15    False\n",
      "16    False\n",
      "17    False\n",
      "dtype: bool\n"
     ]
    }
   ],
   "source": [
    "#remove duplicates\n",
    "import pandas as pd\n",
    "df=pd.read_excel(\"//home//rguktrkvalley//Documents//E2//S2//DSP_LAB//Marks.xlsx\")\n",
    "print(df)\n",
    "print(df.duplicated())"
   ]
  },
  {
   "cell_type": "code",
   "execution_count": 43,
   "id": "5b9bc0c6-f669-4f2c-b13b-9e85a31558dd",
   "metadata": {},
   "outputs": [
    {
     "name": "stdout",
     "output_type": "stream",
     "text": [
      "         NAME   AGE    WT   DSP  TOTAL\n",
      "0        raju   NaN  30.0  34.0     64\n",
      "1       surya  24.0  23.0  23.0     46\n",
      "2       kiran  23.0   NaN  29.0     63\n",
      "3         sam  35.0  23.0  40.0     63\n",
      "4      sreenu  22.0  29.0   NaN     64\n",
      "5        ajay  76.0  40.0  37.0     77\n",
      "6       vijay  27.0  35.0  35.0     70\n",
      "7     prabhas   NaN  37.0  29.0     66\n",
      "8       bunny  28.0  37.0  26.0     63\n",
      "9     anushka  25.0  36.0  24.0     60\n",
      "10       pspk  37.0  35.0  23.0     58\n",
      "11     mahesh  34.0  29.0  29.0     58\n",
      "12        ntr  32.0  33.0  40.0     66\n",
      "13  ramcharan  31.0  24.0  34.0     58\n",
      "15       ntr   32.0  26.0  40.0     66\n",
      "16    sreenu   45.0  67.0   NaN     23\n",
      "17      kiran  23.0  34.0  29.0     63\n"
     ]
    }
   ],
   "source": [
    "print(df.drop_duplicates())"
   ]
  },
  {
   "cell_type": "code",
   "execution_count": 49,
   "id": "9b5244d0-fb1c-4017-9c12-2315917d28b3",
   "metadata": {},
   "outputs": [
    {
     "name": "stdout",
     "output_type": "stream",
     "text": [
      "{'ajay': [5], 'anushka': [9], 'bunny': [8], 'kiran': [2, 17], 'mahesh': [11], 'ntr': [12, 14], 'ntr ': [15], 'prabhas': [7], 'pspk': [10], 'raju': [0], 'ramcharan': [13], 'sam': [3], 'sreenu': [4], 'sreenu ': [16], 'surya': [1], 'vijay': [6]}\n",
      "            AGE    WT   DSP  TOTAL\n",
      "NAME                              \n",
      "ajay       76.0  40.0  37.0     77\n",
      "anushka    25.0  36.0  24.0     60\n",
      "bunny      28.0  37.0  26.0     63\n",
      "kiran      23.0  34.0  29.0     63\n",
      "mahesh     34.0  29.0  29.0     58\n",
      "ntr        32.0  33.0  40.0     66\n",
      "ntr        32.0  26.0  40.0     66\n",
      "prabhas     NaN  37.0  29.0     66\n",
      "pspk       37.0  35.0  23.0     58\n",
      "raju        NaN  30.0  34.0     64\n",
      "ramcharan  31.0  24.0  34.0     58\n",
      "sam        35.0  23.0  40.0     63\n",
      "sreenu     22.0  29.0   NaN     64\n",
      "sreenu     45.0  67.0   NaN     23\n",
      "surya      24.0  23.0  23.0     46\n",
      "vijay      27.0  35.0  35.0     70\n"
     ]
    }
   ],
   "source": [
    "#gruping\n",
    "\n",
    "df.groupby('NAME')\n",
    "print(df.groupby('NAME').groups)\n",
    "gk=df.groupby('NAME')\n",
    "print(gk.first())"
   ]
  },
  {
   "cell_type": "code",
   "execution_count": 51,
   "id": "41cd0b44-6075-47be-a1c7-9d76af6e145b",
   "metadata": {},
   "outputs": [
    {
     "name": "stdout",
     "output_type": "stream",
     "text": [
      "{('ajay', 40.0): [5], ('anushka', 36.0): [9], ('bunny', 37.0): [8], ('kiran', 34.0): [17], ('kiran', nan): [2], ('mahesh', 29.0): [11], ('ntr', 33.0): [12, 14], ('ntr ', 26.0): [15], ('prabhas', 37.0): [7], ('pspk', 35.0): [10], ('raju', 30.0): [0], ('ramcharan', 24.0): [13], ('sam', 23.0): [3], ('sreenu', 29.0): [4], ('sreenu ', 67.0): [16], ('surya', 23.0): [1], ('vijay', 35.0): [6]}\n"
     ]
    }
   ],
   "source": [
    "print(df.groupby(['NAME','WT']).groups)"
   ]
  },
  {
   "cell_type": "code",
   "execution_count": 57,
   "id": "5fd64c5a-a1a4-4bf6-b05c-6fe214f54cf8",
   "metadata": {},
   "outputs": [
    {
     "name": "stdout",
     "output_type": "stream",
     "text": [
      "                 AGE   DSP  TOTAL\n",
      "NAME      WT                     \n",
      "ajay      40.0  76.0  37.0     77\n",
      "anushka   36.0  25.0  24.0     60\n",
      "bunny     37.0  28.0  26.0     63\n",
      "kiran     34.0  23.0  29.0     63\n",
      "mahesh    29.0  34.0  29.0     58\n",
      "ntr       33.0  64.0  80.0    132\n",
      "ntr       26.0  32.0  40.0     66\n",
      "prabhas   37.0   0.0  29.0     66\n",
      "pspk      35.0  37.0  23.0     58\n",
      "raju      30.0   0.0  34.0     64\n",
      "ramcharan 24.0  31.0  34.0     58\n",
      "sam       23.0  35.0  40.0     63\n",
      "sreenu    29.0  22.0   0.0     64\n",
      "sreenu    67.0  45.0   0.0     23\n",
      "surya     23.0  24.0  23.0     46\n",
      "vijay     35.0  27.0  35.0     70\n"
     ]
    }
   ],
   "source": [
    "print(df.groupby(['NAME','WT'],sort=True).sum())"
   ]
  },
  {
   "cell_type": "code",
   "execution_count": 63,
   "id": "4fefd284-1416-466e-9019-fd3b4d81b13f",
   "metadata": {},
   "outputs": [
    {
     "name": "stdout",
     "output_type": "stream",
     "text": [
      "ajay\n",
      "   NAME   AGE    WT   DSP  TOTAL\n",
      "5  ajay  76.0  40.0  37.0     77\n",
      "\n",
      "anushka\n",
      "      NAME   AGE    WT   DSP  TOTAL\n",
      "9  anushka  25.0  36.0  24.0     60\n",
      "\n",
      "bunny\n",
      "    NAME   AGE    WT   DSP  TOTAL\n",
      "8  bunny  28.0  37.0  26.0     63\n",
      "\n",
      "kiran\n",
      "     NAME   AGE    WT   DSP  TOTAL\n",
      "2   kiran  23.0   NaN  29.0     63\n",
      "17  kiran  23.0  34.0  29.0     63\n",
      "\n",
      "mahesh\n",
      "      NAME   AGE    WT   DSP  TOTAL\n",
      "11  mahesh  34.0  29.0  29.0     58\n",
      "\n",
      "ntr\n",
      "   NAME   AGE    WT   DSP  TOTAL\n",
      "12  ntr  32.0  33.0  40.0     66\n",
      "14  ntr  32.0  33.0  40.0     66\n",
      "\n",
      "ntr \n",
      "    NAME   AGE    WT   DSP  TOTAL\n",
      "15  ntr   32.0  26.0  40.0     66\n",
      "\n",
      "prabhas\n",
      "      NAME  AGE    WT   DSP  TOTAL\n",
      "7  prabhas  NaN  37.0  29.0     66\n",
      "\n",
      "pspk\n",
      "    NAME   AGE    WT   DSP  TOTAL\n",
      "10  pspk  37.0  35.0  23.0     58\n",
      "\n",
      "raju\n",
      "   NAME  AGE    WT   DSP  TOTAL\n",
      "0  raju  NaN  30.0  34.0     64\n",
      "\n",
      "ramcharan\n",
      "         NAME   AGE    WT   DSP  TOTAL\n",
      "13  ramcharan  31.0  24.0  34.0     58\n",
      "\n",
      "sam\n",
      "  NAME   AGE    WT   DSP  TOTAL\n",
      "3  sam  35.0  23.0  40.0     63\n",
      "\n",
      "sreenu\n",
      "     NAME   AGE    WT  DSP  TOTAL\n",
      "4  sreenu  22.0  29.0  NaN     64\n",
      "\n",
      "sreenu \n",
      "       NAME   AGE    WT  DSP  TOTAL\n",
      "16  sreenu   45.0  67.0  NaN     23\n",
      "\n",
      "surya\n",
      "    NAME   AGE    WT   DSP  TOTAL\n",
      "1  surya  24.0  23.0  23.0     46\n",
      "\n",
      "vijay\n",
      "    NAME   AGE    WT   DSP  TOTAL\n",
      "6  vijay  27.0  35.0  35.0     70\n",
      "\n",
      "   NAME   AGE    WT   DSP  TOTAL\n",
      "12  ntr  32.0  33.0  40.0     66\n",
      "14  ntr  32.0  33.0  40.0     66\n"
     ]
    }
   ],
   "source": [
    "grp=df.groupby('NAME')\n",
    "for name,group in grp:\n",
    "    print(name)\n",
    "    print(group)\n",
    "    print()\n",
    "\n",
    "print(grp.get_group('ntr'))"
   ]
  },
  {
   "cell_type": "code",
   "execution_count": 65,
   "id": "73b8b55e-64a7-41c3-aef2-57ca3fc798fc",
   "metadata": {},
   "outputs": [
    {
     "name": "stdout",
     "output_type": "stream",
     "text": [
      "            AGE    WT   DSP  TOTAL\n",
      "NAME                              \n",
      "ajay       76.0  40.0  37.0     77\n",
      "anushka    25.0  36.0  24.0     60\n",
      "bunny      28.0  37.0  26.0     63\n",
      "kiran      46.0  34.0  58.0    126\n",
      "mahesh     34.0  29.0  29.0     58\n",
      "ntr        64.0  66.0  80.0    132\n",
      "ntr        32.0  26.0  40.0     66\n",
      "prabhas     0.0  37.0  29.0     66\n",
      "pspk       37.0  35.0  23.0     58\n",
      "raju        0.0  30.0  34.0     64\n",
      "ramcharan  31.0  24.0  34.0     58\n",
      "sam        35.0  23.0  40.0     63\n",
      "sreenu     22.0  29.0   0.0     64\n",
      "sreenu     45.0  67.0   0.0     23\n",
      "surya      24.0  23.0  23.0     46\n",
      "vijay      27.0  35.0  35.0     70\n"
     ]
    }
   ],
   "source": [
    "print(grp.sum())"
   ]
  },
  {
   "cell_type": "code",
   "execution_count": 69,
   "id": "dcd7bc5b-2179-4f1f-8568-550336daa7c9",
   "metadata": {},
   "outputs": [
    {
     "name": "stdout",
     "output_type": "stream",
     "text": [
      "           AGE  WT  DSP  TOTAL\n",
      "NAME                          \n",
      "ajay         1   1    1      1\n",
      "anushka      1   1    1      1\n",
      "bunny        1   1    1      1\n",
      "kiran        2   1    2      2\n",
      "mahesh       1   1    1      1\n",
      "ntr          2   2    2      2\n",
      "ntr          1   1    1      1\n",
      "prabhas      0   1    1      1\n",
      "pspk         1   1    1      1\n",
      "raju         0   1    1      1\n",
      "ramcharan    1   1    1      1\n",
      "sam          1   1    1      1\n",
      "sreenu       1   1    0      1\n",
      "sreenu       1   1    0      1\n",
      "surya        1   1    1      1\n",
      "vijay        1   1    1      1\n"
     ]
    }
   ],
   "source": [
    "print(grp.count())"
   ]
  },
  {
   "cell_type": "raw",
   "id": "f32baa38-17d0-472f-a757-7498377d73c0",
   "metadata": {},
   "source": [
    "print(grp)"
   ]
  },
  {
   "cell_type": "code",
   "execution_count": null,
   "id": "ca42b113-780b-4743-9f4b-c9b053c84a83",
   "metadata": {},
   "outputs": [],
   "source": []
  },
  {
   "cell_type": "code",
   "execution_count": null,
   "id": "c266882c-6c78-4a1b-93b3-2c6588f75b29",
   "metadata": {},
   "outputs": [],
   "source": []
  }
 ],
 "metadata": {
  "kernelspec": {
   "display_name": "Python [conda env:base] *",
   "language": "python",
   "name": "conda-base-py"
  },
  "language_info": {
   "codemirror_mode": {
    "name": "ipython",
    "version": 3
   },
   "file_extension": ".py",
   "mimetype": "text/x-python",
   "name": "python",
   "nbconvert_exporter": "python",
   "pygments_lexer": "ipython3",
   "version": "3.12.7"
  }
 },
 "nbformat": 4,
 "nbformat_minor": 5
}
